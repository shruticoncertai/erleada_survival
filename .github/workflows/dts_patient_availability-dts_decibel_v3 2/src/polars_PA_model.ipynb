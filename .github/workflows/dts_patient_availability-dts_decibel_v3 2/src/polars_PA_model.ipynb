{
 "cells": [
  {
   "cell_type": "code",
   "execution_count": null,
   "id": "caf037b0",
   "metadata": {},
   "outputs": [],
   "source": [
    "import polars as pl\n",
    "import pandas as pd\n",
    "import datetime\n",
    "import random\n",
    "import copy\n",
    "import numpy as np\n",
    "import time\n",
    "import traceback\n",
    "from xgbse import (\n",
    "    XGBSEDebiasedBCE,\n",
    ")\n",
    "from xgbse.metrics import concordance_index\n",
    "from xgbse.converters import (\n",
    "    convert_data_to_xgb_format,\n",
    "    convert_to_structured\n",
    ")\n",
    "\n",
    "from ai_knowledge.ai_knowledge.base.convert import *\n",
    "import yaml\n",
    "from sklearn.model_selection import train_test_split\n",
    "\n",
    "from PA_GE_test.rule_execution import rules_check\n",
    "from sklearn.inspection import PartialDependenceDisplay\n",
    "\n",
    "today_date = datetime.date.today()"
   ]
  },
  {
   "cell_type": "code",
   "execution_count": null,
   "id": "77c619ca",
   "metadata": {},
   "outputs": [],
   "source": [
    "with open('./ai_knowledge/ai_knowledge/base/keys_labs.yaml','r') as file:\n",
    "    lab_kb = yaml.safe_load(file)\n",
    "    \n",
    "lab_kb = {c['key']:c for c in lab_kb}\n",
    "\n",
    "with open('./ai_knowledge/ai_knowledge/base/units.yaml','r') as file:\n",
    "    unite_conv_map = yaml.safe_load(file)\n",
    "    \n",
    "unite_conv_map = {c['base']:c for c in unite_conv_map}"
   ]
  },
  {
   "cell_type": "code",
   "execution_count": null,
   "id": "f5b576ae",
   "metadata": {},
   "outputs": [],
   "source": [
    "def get_stats(feature_name, values):\n",
    "     return pl.DataFrame({'feature':feature_name,'min':values.min(),\\\n",
    "                  'max':values.max(),'mean':values.mean(),'median':values.median(),\\\n",
    "                  'mode':values.mode(),'std':values.std()})\n",
    "    \n",
    "stat_df_list = []"
   ]
  },
  {
   "cell_type": "code",
   "execution_count": null,
   "id": "5d54f101",
   "metadata": {},
   "outputs": [],
   "source": [
    "def warn(*args, **kwargs):\n",
    "    pass\n",
    "import warnings\n",
    "warnings.warn = warn"
   ]
  },
  {
   "cell_type": "code",
   "execution_count": null,
   "id": "6dd54cb7",
   "metadata": {},
   "outputs": [],
   "source": [
    "start = time.time()"
   ]
  },
  {
   "cell_type": "code",
   "execution_count": null,
   "id": "d4e8d8a9",
   "metadata": {},
   "outputs": [],
   "source": [
    "#DB Connection Details\n",
    "host = \"c0-eurekarwd-web.crdektqhzze9.us-east-1.redshift.amazonaws.com\"\n",
    "port = \"5439\"\n",
    "dbname = \"c0_eurekarwd\"\n",
    "user = \"dparmar@concertai.com\"\n",
    "password = \"Sql@1996\""
   ]
  },
  {
   "cell_type": "code",
   "execution_count": null,
   "id": "4dc01062",
   "metadata": {},
   "outputs": [],
   "source": [
    "schema = 'dts_cdm_master'\n",
    "# schema = 'qcca_cdm_master'"
   ]
  },
  {
   "cell_type": "code",
   "execution_count": null,
   "id": "7eafece5",
   "metadata": {},
   "outputs": [],
   "source": [
    "db_conn_uri = \"redshift://{user}:{pwd}@{server}:{port}/{db}\".format(user=user.replace('@','%40'), pwd=password.replace('@','%40'), server=host, port=port, db=dbname)\n",
    "chai_patid_query = \"select chai_patient_id,diagnosis_date,diagnosis_code_standard_code,diagnosis_code_standard_name from {schema}.condition where (lower(diagnosis_code_standard_name) like '%multiple%myeloma%' or lower(diagnosis_code_standard_code) like 'C90.0%') and extract(year from diagnosis_date) > 2019\".format(schema=schema)\n",
    "pat_id_df = pl.read_database(chai_patid_query,db_conn_uri)"
   ]
  },
  {
   "cell_type": "code",
   "execution_count": null,
   "id": "086fa23c",
   "metadata": {},
   "outputs": [],
   "source": [
    "pat_id_df.select(['chai_patient_id']).unique().shape"
   ]
  },
  {
   "cell_type": "code",
   "execution_count": null,
   "id": "a8a04994",
   "metadata": {},
   "outputs": [],
   "source": [
    "pat_ids = pat_id_df.select(['chai_patient_id']).unique().to_series().to_list()\n",
    "pat_ids = ','.join([\"'\"+str(x)+\"'\" for x in pat_ids])"
   ]
  },
  {
   "cell_type": "code",
   "execution_count": null,
   "id": "461b1451",
   "metadata": {},
   "outputs": [],
   "source": [
    "lab_dict = {'m_protein_in_serum':['33358-3','51435-6','35559-4','94400-9','33647-9','50796-2','56766-9','44932-2','50792-1'],\n",
    "            'm_protein_in_urine':['42482-0','40661-1','35560-2'],\n",
    "            'ca':['17861-6','49765-1'],\n",
    "            'serum_free_light':['36916-5','33944-0','11051-0','11050-2'],\n",
    "            'hemoglobin_in_blood':['718-7','20509-6','30313-1','48725-6'],\n",
    "            'neutrophils_count':['751-8','26499-4','768-2','30451-9','753-4'],\n",
    "            'lymphocytes_count':['26474-7','732-8','731-0'],\n",
    "            'platelets':['777-3','26515-7','53800-9','49497-1','778-1'],\n",
    "            'na':['2951-2','2955-3'],\n",
    "            'mg':['21377-7','19123-9'],\n",
    "            'cl':['2075-0'],\n",
    "            'phos' : ['2777-1'],\n",
    "            'hr' : ['8867-4'],\n",
    "            'dbp' : ['8462-4'],\n",
    "            'ecog' : ['89262-0'],\n",
    "            'k' : ['2823-3','2828-2']\n",
    "           }"
   ]
  },
  {
   "cell_type": "code",
   "execution_count": null,
   "id": "99855173",
   "metadata": {},
   "outputs": [],
   "source": [
    "pat_serum_test_query = \"select chai_patient_id,test_date,test_name_standard_code,test_name_standard_name,test_value_numeric,test_unit_standard_name from {schema}.patient_test where (chai_patient_id in ({pat_ids})) and (test_name_standard_code in ('33358-3','51435-6','35559-4','94400-9','33647-9','50796-2','33647-9','56766-9','44932-2','50792-1')) and (extract(year from test_date) > 2019)\".format(pat_ids=pat_ids,schema=schema)\n",
    "pat_serum_test_df = pl.read_database(pat_serum_test_query,db_conn_uri)"
   ]
  },
  {
   "cell_type": "code",
   "execution_count": null,
   "id": "75b77d65",
   "metadata": {},
   "outputs": [],
   "source": [
    "pat_urine_test_query = \"select chai_patient_id,test_date,test_name_standard_code,test_name_standard_name,test_value_numeric,test_unit_standard_name from {schema}.patient_test where (chai_patient_id in ({pat_ids})) and (test_name_standard_code in ('42482-0','40661-1','35560-2')) and (extract(year from test_date) > 2019)\".format(pat_ids=pat_ids,schema=schema)\n",
    "pat_urine_test_df = pl.read_database(pat_urine_test_query,db_conn_uri)"
   ]
  },
  {
   "cell_type": "code",
   "execution_count": null,
   "id": "cf17d6ae",
   "metadata": {
    "scrolled": true
   },
   "outputs": [],
   "source": [
    "pat_serum_test_df_cast = pat_serum_test_df.filter(\n",
    "        pl.any_horizontal(\n",
    "            pl.col('test_value_numeric').is_not_null() & pl.col('test_unit_standard_name').is_not_null() \n",
    "        ))\\\n",
    "        .with_columns(pl.col('test_unit_standard_name').apply(lambda x:x.lower()))"
   ]
  },
  {
   "cell_type": "code",
   "execution_count": null,
   "id": "a6a6b552",
   "metadata": {
    "scrolled": true
   },
   "outputs": [],
   "source": [
    "pat_urine_test_df_cast = pat_urine_test_df.filter(\n",
    "        pl.any_horizontal(\n",
    "            pl.col('test_value_numeric').is_not_null() & pl.col('test_unit_standard_name').is_not_null() \n",
    "        ))\\\n",
    "        .with_columns(pl.col('test_unit_standard_name').apply(lambda x:x.lower()))"
   ]
  },
  {
   "cell_type": "code",
   "execution_count": null,
   "id": "edf10874",
   "metadata": {},
   "outputs": [],
   "source": [
    "pat_urine_test_df_cast.shape"
   ]
  },
  {
   "cell_type": "code",
   "execution_count": null,
   "id": "c03dfeae",
   "metadata": {},
   "outputs": [],
   "source": [
    "pat_serum_test_df_cast = pat_serum_test_df_cast.with_columns(\n",
    "    pl.when(pl.col('test_name_standard_code').is_in(lab_dict['m_protein_in_serum']))\n",
    "    .then('m_protein_in_serum')\n",
    "    .alias('key')\n",
    ")\n",
    "\n",
    "pat_urine_test_df_cast = pat_urine_test_df_cast.with_columns(\n",
    "    pl.when(pl.col('test_name_standard_code').is_in(lab_dict['m_protein_in_urine']))\n",
    "    .then('m_protein_in_urine')\n",
    "    .alias('key')\n",
    ")"
   ]
  },
  {
   "cell_type": "code",
   "execution_count": null,
   "id": "970cdcfb",
   "metadata": {},
   "outputs": [],
   "source": [
    "print(pat_urine_test_df_cast.shape)\n",
    "print(pat_serum_test_df_cast.shape)"
   ]
  },
  {
   "cell_type": "code",
   "execution_count": null,
   "id": "4954e2b4",
   "metadata": {},
   "outputs": [],
   "source": []
  },
  {
   "cell_type": "code",
   "execution_count": null,
   "id": "e30c6934",
   "metadata": {},
   "outputs": [],
   "source": [
    "def convert_unit(df):\n",
    "    lab_test = df['key'].unique().drop_nulls()\n",
    "    for key in lab_test:\n",
    "        if key not in lab_kb.keys():\n",
    "            raise KeyError(f'Lab test {key} not registered')\n",
    "        std_unit = lab_kb[key]['attributes']['units']\n",
    "        unit_keys = list(unite_conv_map[std_unit]['convert'].keys())\n",
    "        df = df.with_columns(\n",
    "                pl.struct(['test_value_numeric','test_unit_standard_name','key'])\n",
    "                          .apply(lambda x: eval(unite_conv_map[std_unit]['convert'][x['test_unit_standard_name']].split('.')[-1])(x['test_value_numeric'])\\\n",
    "                                 if (x['key']==key) & (x['test_unit_standard_name'] in (unit_keys))\\\n",
    "                                 else x['test_value_numeric']                                                      \n",
    "                                ).alias('test_value_numeric')\n",
    "        )\n",
    "        df = df.with_columns(\n",
    "                        pl.when((pl.col('key')==key) & ((pl.col('test_unit_standard_name')==std_unit) | (pl.col('test_unit_standard_name').is_in(unite_conv_map[std_unit]['convert'].keys()))))\n",
    "                .then(pl.lit(std_unit))\n",
    "                .when(pl.col('key')==key)\n",
    "                .then(None)\n",
    "                .otherwise(pl.col('test_unit_standard_name'))\n",
    "                .alias('test_unit_standard_name'))\\\n",
    "        .drop_nulls('test_unit_standard_name')\n",
    "    return df"
   ]
  },
  {
   "cell_type": "code",
   "execution_count": null,
   "id": "3639c20e",
   "metadata": {},
   "outputs": [],
   "source": [
    "pat_serum_test_df_cast = pat_serum_test_df_cast.select(['chai_patient_id','test_date','test_value_numeric','test_name_standard_code','test_unit_standard_name'])\\\n",
    "    .with_columns(pl.col('test_date').apply(lambda x:x.date()))\\\n",
    "#     .sort(['chai_patient_id','test_date','test_value_numeric'],descending=False)\\\n",
    "#     .unique(subset=['chai_patient_id','test_date','test_name_standard_code'],keep='first')"
   ]
  },
  {
   "cell_type": "code",
   "execution_count": null,
   "id": "bca734da",
   "metadata": {},
   "outputs": [],
   "source": [
    "pat_urine_test_df_cast = pat_urine_test_df_cast.select(['chai_patient_id','test_date','test_value_numeric','test_name_standard_code','test_unit_standard_name'])\\\n",
    "    .with_columns(pl.col('test_date').apply(lambda x:x.date()))\\\n",
    "#     .sort(['chai_patient_id','test_date','test_value_numeric'],descending=False)\\\n",
    "#     .unique(subset=['chai_patient_id','test_date','test_name_standard_code'],keep='first')"
   ]
  },
  {
   "cell_type": "code",
   "execution_count": null,
   "id": "d7af7dc5",
   "metadata": {},
   "outputs": [],
   "source": [
    "print(pat_urine_test_df_cast.shape)\n",
    "print(pat_serum_test_df_cast.shape)"
   ]
  },
  {
   "cell_type": "code",
   "execution_count": null,
   "id": "d7596d91",
   "metadata": {},
   "outputs": [],
   "source": []
  },
  {
   "cell_type": "markdown",
   "id": "19f844b5",
   "metadata": {},
   "source": [
    "## Calcium"
   ]
  },
  {
   "cell_type": "code",
   "execution_count": null,
   "id": "54fee05c",
   "metadata": {},
   "outputs": [],
   "source": [
    "pat_cal_test_query = \"select chai_patient_id,source_labid,test_date,test_name_standard_code,test_name_standard_name,test_value_numeric,test_unit_standard_name from {schema}.patient_test where (chai_patient_id in ({pat_ids})) and (test_name_standard_code in ('17861-6','49765-1')) and (extract(year from test_date) > 2019)\".format(pat_ids=pat_ids,schema=schema)\n",
    "pat_cal_test_df = pl.read_database(pat_cal_test_query,db_conn_uri)"
   ]
  },
  {
   "cell_type": "code",
   "execution_count": null,
   "id": "84568f85",
   "metadata": {
    "scrolled": true
   },
   "outputs": [],
   "source": [
    "pat_cal_test_df = pat_cal_test_df.select(['chai_patient_id','test_date','test_value_numeric','test_name_standard_code','test_unit_standard_name'])\\\n",
    "                        .with_columns(pl.col('test_date').apply(lambda x:x.date()))\\\n",
    "#                         .sort(['chai_patient_id','test_date','test_value_numeric'],descending=False)\\\n",
    "#                         .unique(subset=['chai_patient_id','test_date','test_name_standard_code'],keep='first')"
   ]
  },
  {
   "cell_type": "code",
   "execution_count": null,
   "id": "829c7b29",
   "metadata": {},
   "outputs": [],
   "source": [
    "pat_cal_test_df.shape"
   ]
  },
  {
   "cell_type": "markdown",
   "id": "1953da78",
   "metadata": {},
   "source": [
    "## Serum Free light chain"
   ]
  },
  {
   "cell_type": "code",
   "execution_count": null,
   "id": "192445a6",
   "metadata": {},
   "outputs": [],
   "source": [
    "pat_free_light_query = \"select chai_patient_id,source_labid,test_date,test_name_standard_code,test_name_standard_name,test_value_numeric,test_unit_standard_name from {schema}.patient_test where (chai_patient_id in ({pat_ids})) and (test_name_standard_code in ('36916-5','33944-0','11051-0','11050-2')) and (extract(year from test_date) > 2019)\".format(pat_ids=pat_ids,schema=schema)\n",
    "pat_free_light_df = pl.read_database(pat_free_light_query,db_conn_uri)"
   ]
  },
  {
   "cell_type": "code",
   "execution_count": null,
   "id": "85f346db",
   "metadata": {
    "scrolled": true
   },
   "outputs": [],
   "source": [
    "pat_free_light_df.shape"
   ]
  },
  {
   "cell_type": "code",
   "execution_count": null,
   "id": "f0685b8f",
   "metadata": {},
   "outputs": [],
   "source": [
    "pat_free_light_df = pat_free_light_df.select(['chai_patient_id','test_date','test_value_numeric','test_name_standard_code','test_unit_standard_name'])\\\n",
    "    .with_columns(pl.col('test_date').apply(lambda x:x.date()))\\\n",
    "#     .sort(['chai_patient_id','test_date','test_value_numeric'],descending=False)\\\n",
    "#     .unique(subset=['chai_patient_id','test_date','test_name_standard_code'],keep='first')"
   ]
  },
  {
   "cell_type": "code",
   "execution_count": null,
   "id": "93b34ccc",
   "metadata": {},
   "outputs": [],
   "source": [
    "pat_free_light_df.shape"
   ]
  },
  {
   "cell_type": "code",
   "execution_count": null,
   "id": "b5fd5f46",
   "metadata": {},
   "outputs": [],
   "source": [
    "lab_test_df = pl.concat([pat_urine_test_df_cast,pat_serum_test_df_cast,pat_free_light_df,pat_cal_test_df])"
   ]
  },
  {
   "cell_type": "code",
   "execution_count": null,
   "id": "0eefed00",
   "metadata": {},
   "outputs": [],
   "source": [
    "print(pat_urine_test_df_cast.shape)\n",
    "print(pat_serum_test_df_cast.shape)\n",
    "print(pat_free_light_df.shape)\n",
    "print(pat_cal_test_df.shape)"
   ]
  },
  {
   "cell_type": "code",
   "execution_count": null,
   "id": "402dc0fa",
   "metadata": {},
   "outputs": [],
   "source": [
    "lab_test_df = lab_test_df.with_columns(\n",
    "    pl.when(pl.col('test_name_standard_code').is_in(lab_dict['m_protein_in_serum']))\n",
    "    .then('m_protein_in_serum')\n",
    "    .when(pl.col('test_name_standard_code').is_in(lab_dict['m_protein_in_urine']))\n",
    "    .then('m_protein_in_urine')\n",
    "    .when(pl.col('test_name_standard_code').is_in(lab_dict['ca']))\n",
    "    .then('ca')\n",
    "    .when(pl.col('test_name_standard_code').is_in(lab_dict['serum_free_light']))\n",
    "    .then('serum_free_light')\n",
    "    .when(pl.col('test_name_standard_code').is_in(lab_dict['hemoglobin_in_blood']))\n",
    "    .then('hemoglobin_in_blood')\n",
    "    .when(pl.col('test_name_standard_code').is_in(lab_dict['neutrophils_count']))\n",
    "    .then('neutrophils_count')\n",
    "    .when(pl.col('test_name_standard_code').is_in(lab_dict['lymphocytes_count']))\n",
    "    .then('lymphocytes_count')\n",
    "    .when(pl.col('test_name_standard_code').is_in(lab_dict['platelets']))\n",
    "    .then('platelets')\n",
    "    .when(pl.col('test_name_standard_code').is_in(lab_dict['na']))\n",
    "    .then('na')\n",
    "    .when(pl.col('test_name_standard_code').is_in(lab_dict['mg']))\n",
    "    .then('mg')\n",
    "    .when(pl.col('test_name_standard_code').is_in(lab_dict['cl']))\n",
    "    .then('cl')\n",
    "    .when(pl.col('test_name_standard_code').is_in(lab_dict['phos']))\n",
    "    .then('phos')\n",
    "    .when(pl.col('test_name_standard_code').is_in(lab_dict['k']))\n",
    "    .then('k')\n",
    "    .alias('key'),\n",
    "    pl.col('test_unit_standard_name').apply(lambda x:x.lower()),\n",
    "    pl.col('test_value_numeric').str.replace('<','').str.replace('>','').str.replace(',','.')\n",
    "    .cast(pl.Float64, strict=False)\n",
    ").drop_nulls(subset='test_value_numeric')\\\n",
    ".with_columns(\n",
    "    pl.when((pl.col('test_name_standard_code').is_in(lab_dict['hr']+lab_dict['dbp']+lab_dict['ecog'])) & (pl.col('test_unit_standard_name').is_null()))\n",
    "    .then('valid')\n",
    "    .otherwise(pl.col('test_unit_standard_name'))\n",
    "    .alias('test_unit_standard_name')\n",
    ")\n",
    "lab_test_df.shape"
   ]
  },
  {
   "cell_type": "code",
   "execution_count": null,
   "id": "479b0a8b",
   "metadata": {},
   "outputs": [],
   "source": [
    "lab_test_df = convert_unit(lab_test_df)\n",
    "lab_test_df.shape"
   ]
  },
  {
   "cell_type": "code",
   "execution_count": null,
   "id": "d34f9f22",
   "metadata": {},
   "outputs": [],
   "source": [
    "lab_test_df = lab_test_df.sort(['chai_patient_id','test_date','test_value_numeric'],descending=False)\\\n",
    "    .unique(subset=['chai_patient_id','test_date','test_name_standard_code'],keep='first')"
   ]
  },
  {
   "cell_type": "code",
   "execution_count": null,
   "id": "031300ce",
   "metadata": {},
   "outputs": [],
   "source": [
    "lab_dict.update({'serum_free_light_kappa':['36916-5','11050-2'],'serum_free_light_lambda':['33944-0','11051-0']})\n",
    "lab_class_map =  {0:'m_protein_in_serum',1:'m_protein_in_urine',2:'ca',3:'serum_free_light_kappa',4:'serum_free_light_lambda'}\n",
    "\n",
    "lab_test_df = lab_test_df.with_columns(\n",
    "                                    pl.when(pl.col('test_name_standard_code').is_in(lab_dict['m_protein_in_serum']))\n",
    "                                    .then(pl.lit(0))\n",
    "                                    .when(pl.col('test_name_standard_code').is_in(lab_dict['m_protein_in_urine']))\n",
    "                                    .then(pl.lit(1))\n",
    "                                    .when(pl.col('test_name_standard_code').is_in(lab_dict['ca']))\n",
    "                                    .then(pl.lit(2))\n",
    "                                    .when(pl.col('test_name_standard_code').is_in(lab_dict['serum_free_light_kappa']))\n",
    "                                    .then(pl.lit(3))\n",
    "                                    .when(pl.col('test_name_standard_code').is_in(lab_dict['serum_free_light_lambda']))\n",
    "                                    .then(pl.lit(4))\n",
    "                                    .alias('test_name_standard_code')\n",
    ")"
   ]
  },
  {
   "cell_type": "code",
   "execution_count": null,
   "id": "db856d4c",
   "metadata": {},
   "outputs": [],
   "source": [
    "lab_test_df['chai_patient_id'].unique().shape"
   ]
  },
  {
   "cell_type": "code",
   "execution_count": null,
   "id": "b923f476",
   "metadata": {},
   "outputs": [],
   "source": [
    "lab_test_df.shape"
   ]
  },
  {
   "cell_type": "code",
   "execution_count": null,
   "id": "82e4468c",
   "metadata": {},
   "outputs": [],
   "source": []
  },
  {
   "cell_type": "markdown",
   "id": "0316e96b",
   "metadata": {},
   "source": [
    "## Criteria"
   ]
  },
  {
   "cell_type": "code",
   "execution_count": null,
   "id": "c8722a74",
   "metadata": {},
   "outputs": [],
   "source": [
    "criteria_df = pl.read_csv('../Dhaval/data_backup/criteria_2023-11-10.csv')"
   ]
  },
  {
   "cell_type": "code",
   "execution_count": null,
   "id": "2cbfec48",
   "metadata": {},
   "outputs": [],
   "source": [
    "criteria_df['chai_patient_id'].unique().shape"
   ]
  },
  {
   "cell_type": "code",
   "execution_count": null,
   "id": "4d3d82ee",
   "metadata": {},
   "outputs": [],
   "source": [
    "def download_dod(source_schema, patients_ids):\n",
    "    \"\"\"\n",
    "    :param source_schema: Source schema name\n",
    "    :param patients_ids: Patient IDs for whom max date is required\n",
    "    :return: A DataFrame with patient ID and max date\n",
    "    \"\"\"\n",
    "    dod_query = '''Select chai_patient_id, date_of_death from {}.patient where chai_patient_id in ({}) \n",
    "        and (date_of_death is not null and date_part(year, date_of_death) >= 1950)'''.format(\n",
    "            source_schema, ', '.join([\"'\" + str(pat) + \"'\" for pat in patients_ids]))\n",
    "    dod_df = pl.read_database(dod_query,db_conn_uri)\n",
    "    \n",
    "#     dod_df[\"date_of_death\"] = pd.to_datetime(dod_df[\"date_of_death\"], errors='coerce')\n",
    "    return dod_df\n",
    "\n",
    "def download_last_activity_date_dod(source_schema, patients_ids):\n",
    "    \"\"\"\n",
    "    This function returns max date information\n",
    "\n",
    "    :param dtu: DTU object for downloading tables from redshift\n",
    "    :param source_schema: Source schema name\n",
    "    :param patients_ids: Patient IDs for whom max date is required\n",
    "    :return: A DataFrame with patient ID and max date\n",
    "    \"\"\"\n",
    "    dod_df = download_dod(source_schema, patients_ids)\n",
    "    \n",
    "    date_fields = {'medication': 'med_start_date', 'patient_test': 'test_date', 'tumor_exam': 'exam_date',\n",
    "                   'care_goal': 'treatment_plan_start_date', 'surgery': 'surgery_date', 'radiation': 'rad_start_date',\n",
    "                   'condition': 'diagnosis_date', 'adverse_event': 'adverse_event_date', 'encounter': 'encounter_date',\n",
    "                   'disease_status': 'assessment_date', 'staging': 'stage_date'}\n",
    "    visits = pl.DataFrame()\n",
    "    for key, value in date_fields.items():\n",
    "        last_date_query = '''Select distinct chai_patient_id, max({column_name}) as max_date\n",
    "                                                       from {source_schema}.{table_name} where {column_name} is not null and \n",
    "                                                       chai_patient_id in ({pats_list}) group by chai_patient_id '''.format(\n",
    "            column_name=value,\n",
    "            table_name=key,\n",
    "            source_schema=source_schema,\n",
    "            pats_list=', '.join([\"'\" + str(pat) + \"'\" for pat in patients_ids]))\n",
    "        last_date_df = pl.read_database(last_date_query,db_conn_uri)\n",
    "        \n",
    "        visits = pl.concat([visits,last_date_df])\n",
    "   \n",
    "    last_medical_activity = visits.sort(['chai_patient_id', 'max_date'], descending=True)\\\n",
    "                                        .unique(['chai_patient_id']).join(dod_df, on=\"chai_patient_id\", how=\"left\")\n",
    "    last_medical_activity = last_medical_activity.with_columns(pl.min_horizontal('date_of_death','max_date')\\\n",
    "                                                               .alias('last_activity_date')).drop(['date_of_death', 'max_date'])\n",
    "\n",
    "    last_medical_activity = last_medical_activity.with_columns(pl.col('last_activity_date').apply(lambda x:x.date()))\n",
    "    return last_medical_activity"
   ]
  },
  {
   "cell_type": "code",
   "execution_count": null,
   "id": "a5a37064",
   "metadata": {},
   "outputs": [],
   "source": [
    "last_date_df = download_last_activity_date_dod(schema,set(list(criteria_df['chai_patient_id'])))"
   ]
  },
  {
   "cell_type": "code",
   "execution_count": null,
   "id": "0017fedc",
   "metadata": {},
   "outputs": [],
   "source": [
    "last_date_df.shape"
   ]
  },
  {
   "cell_type": "code",
   "execution_count": null,
   "id": "15e711f2",
   "metadata": {},
   "outputs": [],
   "source": [
    "criteria_df = criteria_df.join(last_date_df,on='chai_patient_id', how='left')\n",
    "criteria_df = criteria_df.with_columns(pl.col('min_date').apply(lambda x:datetime.datetime.strptime(x, '%Y-%m-%d').date() if isinstance(x,str) else x))\n",
    "criteria_df = criteria_df.with_columns(pl.struct(['last_activity_date','min_date','final_selection']).apply(lambda x: x['min_date'] if (x['final_selection']==True) else x['last_activity_date']))\n",
    "criteria_df = criteria_df.with_columns(pl.col('last_activity_date').apply(lambda x:datetime.date.today() if (x>datetime.date.today()) else x))"
   ]
  },
  {
   "cell_type": "code",
   "execution_count": null,
   "id": "daf0f79c",
   "metadata": {},
   "outputs": [],
   "source": [
    "pat_id_df_updated = pat_id_df.select(['chai_patient_id','diagnosis_date']).sort(by =['chai_patient_id','diagnosis_date'],descending=False).unique(subset=['chai_patient_id'],keep='first').drop_nulls()"
   ]
  },
  {
   "cell_type": "code",
   "execution_count": null,
   "id": "f92aef75",
   "metadata": {},
   "outputs": [],
   "source": [
    "pat_id_df_updated['chai_patient_id'].unique().shape"
   ]
  },
  {
   "cell_type": "code",
   "execution_count": null,
   "id": "54ce0224",
   "metadata": {},
   "outputs": [],
   "source": [
    "criteria_df = criteria_df.join(pat_id_df_updated,on='chai_patient_id',how='inner')\n",
    "criteria_df['chai_patient_id'].unique().shape"
   ]
  },
  {
   "cell_type": "code",
   "execution_count": null,
   "id": "90a17963",
   "metadata": {},
   "outputs": [],
   "source": [
    "criteria_df = criteria_df.with_columns(pl.col('diagnosis_date').apply(lambda x:datetime.datetime.strptime(x, '%Y-%m-%d %H:%M:%S').date() if isinstance(x,str) else x.date()))"
   ]
  },
  {
   "cell_type": "code",
   "execution_count": null,
   "id": "67418bbf",
   "metadata": {},
   "outputs": [],
   "source": [
    "criteria_df = criteria_df.with_columns(pl.struct(['last_activity_date','diagnosis_date']).apply(lambda x:(x['last_activity_date']-x['diagnosis_date']).days).alias('diff'))\\\n",
    "                                        .filter(pl.col('diff')>=0)"
   ]
  },
  {
   "cell_type": "code",
   "execution_count": null,
   "id": "9dbce86a",
   "metadata": {},
   "outputs": [],
   "source": [
    "random.seed(123)\n",
    "criteria_df = criteria_df.with_columns(pl.col('diff').apply(lambda x:random.randint(0,x)).alias('random_point'))\n",
    "criteria_df = criteria_df.with_columns(pl.struct(['diff','random_point']).apply(lambda x:x['diff']-x['random_point']).alias('label'))"
   ]
  },
  {
   "cell_type": "code",
   "execution_count": null,
   "id": "f247edf9",
   "metadata": {},
   "outputs": [],
   "source": [
    "criteria_df['chai_patient_id'].unique().shape"
   ]
  },
  {
   "cell_type": "code",
   "execution_count": null,
   "id": "a7acc793",
   "metadata": {},
   "outputs": [],
   "source": [
    "lab_test_df = lab_test_df.join(criteria_df.select(['chai_patient_id','diagnosis_date','random_point']), on ='chai_patient_id',how='inner')\n",
    "lab_test_df['chai_patient_id'].unique().shape"
   ]
  },
  {
   "cell_type": "code",
   "execution_count": null,
   "id": "aca84d40",
   "metadata": {},
   "outputs": [],
   "source": [
    "lab_test_df = lab_test_df.with_columns(pl.struct(['test_date','diagnosis_date']).apply(lambda x:(x['test_date']-x['diagnosis_date']).days).alias('test_diff'))\\\n",
    "                            .sort(by=['chai_patient_id','test_name_standard_code','test_date'],descending=False)\n",
    "\n",
    "print(lab_test_df['test_name_standard_code'].unique().shape)\n",
    "lab_test_df.shape"
   ]
  },
  {
   "cell_type": "code",
   "execution_count": null,
   "id": "615f19aa",
   "metadata": {},
   "outputs": [],
   "source": [
    "lab_test_df = lab_test_df.filter(pl.col('test_diff')<=pl.col('random_point'))\n",
    "lab_test_df = lab_test_df.sort(by=['chai_patient_id','test_name_standard_code','test_date'],descending=True)\\\n",
    "                        .unique(subset=['chai_patient_id','test_name_standard_code'],keep='first')\\\n",
    "                        .select(['chai_patient_id','test_name_standard_code','test_value_numeric'])"
   ]
  },
  {
   "cell_type": "code",
   "execution_count": null,
   "id": "a942ba7c",
   "metadata": {},
   "outputs": [],
   "source": [
    "test_code_map = {'33358-3' : 'Protein.monoclonal [Mass/volume] in Serum or Plasma by Electrophoresis',\n",
    "'51435-6' : 'Protein.monoclonal band 1 [Mass/volume] in Serum or Plasma by Electrophoresis',\n",
    "'35559-4' : 'Protein.monoclonal band 2 [Mass/volume] in Serum or Plasma by Electrophoresis',\n",
    "'94400-9' : 'Protein.monoclonal [Presence] in Serum or Plasma',\n",
    "'33647-9' : 'protein.monoclonal/protein.total in serum or plasma by electrophoresis',\n",
    "'50796-2' : 'Protein.monoclonal band 3 [Mass/volume] in Serum or Plasma by Electrophoresis',\n",
    "'33647-9' : 'Protein.monoclonal/Protein.total in Serum or Plasma by Electrophoresis',\n",
    "'56766-9' : 'protein.monoclonal band 1/protein.total in serum or plasma by electrophoresis',\n",
    "'44932-2' : 'Protein.monoclonal band 2/Protein.total in Serum or Plasma by Electrophoresis',\n",
    "'50792-1' : 'Protein.monoclonal band 3/Protein.total in Serum or Plasma by Electrophoresis',\n",
    "'42482-0' : 'Protein.monoclonal [Mass/time] in 24 hour Urine by Electrophoresis',\n",
    "'40661-1' : 'Protein.monoclonal [Mass/volume] in Urine by Electrophoresis',\n",
    "'35560-2' : 'Protein.monoclonal [Mass/volume] in Urine',\n",
    "'36916-5' : 'Kappa light chains.free [Mass/volume] in Serum',\n",
    "'33944-0' : 'lambda light chains.free [mass/volume] in serum or plasma',\n",
    "'33944-0' : 'Lambda light chains.free [Mass/volume] in Serum or Plasma',\n",
    "'11051-0' : 'Lambda light chains [Mass/volume] in Serum or Plasma',\n",
    "'11050-2' : 'Kappa light chains [Mass/volume] in Serum or Plasma',\n",
    "'17861-6' : 'Calcium [Mass/volume] in Serum or Plasma',\n",
    "'49765-1' : 'Calcium [Mass/volume] in Blood',\n",
    "'8867-4'  :'heart rate',\n",
    "'8462-4'  :'diastolic blood pressure',\n",
    "'718-7'   :'hemoglobin [mass/volume] in blood',\n",
    "'26515-7' :'platelets [#/volume] in blood',\n",
    "'89262-0' :'ecog performance status [interpretation]',\n",
    "'20509-6' : 'Hemoglobin [Mass/volume] in Blood by calculation',\n",
    "'30313-1' : 'Hemoglobin [Mass/volume] in Arterial blood',\n",
    "'48725-6' : 'Hemoglobin [Mass/volume] in Blood --pre therapeutic phlebotomy',\n",
    "'751-8' : 'Neutrophils [#/volume] in Blood by Automated count',\n",
    "'26499-4' :'Neutrophils [#/volume] in Blood', \n",
    "'768-2' : 'Segmented neutrophils [#/volume] in Blood by Manual count',\n",
    "'30451-9' : 'Segmented neutrophils [#/volume] in Blood',\n",
    "'753-4' : 'Neutrophils [#/volume] in Blood by Manual count',\n",
    "'26474-7' : 'Lymphocytes [#/volume] in Blood',\n",
    "'732-8' : 'Lymphocytes [#/volume] in Blood by Manual count',\n",
    "'731-0' : 'Lymphocytes [#/volume] in Blood by Automated count',\n",
    "'777-3' : 'Platelets [#/volume] in Blood by Automated count',\n",
    "'53800-9' : 'Platelets panel - Blood by Automated count',\n",
    "'49497-1' : 'Platelets [#/volume] in Blood by Estimate',\n",
    "'778-1' : 'Platelets [#/volume] in Blood by Manual count',\n",
    "'2955-3' : 'sodium [moles/volume] in urine',\n",
    "'2951-2' : 'sodium [moles/volume] in serum or plasma',\n",
    "'2823-3' : 'potassium [moles/volume] in serum or plasma',\n",
    "'2828-2' : 'potassium [moles/volume] in urine',\n",
    "'2075-0' : 'chloride [moles/volume] in serum or plasma',\n",
    "'21377-7': 'magnesium [mass/volume] in blood',\n",
    "'19123-9': 'magnesium [mass/volume] in serum or plasma',\n",
    "'2777-1' : 'phosphate [mass/volume] in serum or plasma'}"
   ]
  },
  {
   "cell_type": "code",
   "execution_count": null,
   "id": "5b6fe27c",
   "metadata": {},
   "outputs": [],
   "source": [
    "        feat_lab_list = list(lab_class_map.keys())\n",
    "final_stat_df = pl.DataFrame({'chai_patient_id': list(set(lab_test_df['chai_patient_id']))})\n",
    "\n",
    "for lab in feat_lab_list:\n",
    "    lab_name = lab_class_map[lab]\n",
    "    temp_df = lab_test_df.filter(pl.col('test_name_standard_code')==lab)\\\n",
    "                        .select(['chai_patient_id','test_value_numeric'])\\\n",
    "                        .rename({'test_value_numeric':lab_name})\n",
    "    if temp_df.shape[0]>0:\n",
    "        final_stat_df = final_stat_df.join(temp_df,on='chai_patient_id',how='left')\n",
    "    else:\n",
    "        final_stat_df = final_stat_df.with_columns(pl.lit(None).alias(lab_name))"
   ]
  },
  {
   "cell_type": "code",
   "execution_count": null,
   "id": "dd59fcc6",
   "metadata": {},
   "outputs": [],
   "source": [
    "final_stat_df.shape"
   ]
  },
  {
   "cell_type": "code",
   "execution_count": null,
   "id": "e108d527",
   "metadata": {},
   "outputs": [],
   "source": [
    "final_stat_df = final_stat_df.join(criteria_df[['chai_patient_id','label','final_selection']],on='chai_patient_id',how='inner')"
   ]
  },
  {
   "cell_type": "code",
   "execution_count": null,
   "id": "b38c23da",
   "metadata": {},
   "outputs": [],
   "source": [
    "final_stat_df.shape"
   ]
  },
  {
   "cell_type": "code",
   "execution_count": null,
   "id": "b0a0222d",
   "metadata": {},
   "outputs": [],
   "source": [
    "def to_pandas(df):\n",
    "    \"\"\"\n",
    "    Method to convert Polars DataFrame Object to Pandas Data Frame Object\n",
    "    \n",
    "    ARGUMENTS:\n",
    "    ----------\n",
    "    df: Polars.DataFrame: Polars Data Frame object to convert\n",
    "    \n",
    "    RETURNS:\n",
    "    --------\n",
    "    pandas_df: Pandas.DataFrame\n",
    "    \"\"\"\n",
    "    \n",
    "    pandas_df = df.to_pandas()\n",
    "    \n",
    "    #Polars boolean dtype is converted to object type through `to_pandas()`, recasting to boolean type\n",
    "    bool_cols = df.select(pl.col(pl.Boolean)).columns\n",
    "    for col in bool_cols:\n",
    "        pandas_df[col] = pandas_df[col].astype('bool')\n",
    "        \n",
    "    float_cols = df.select(pl.col(pl.Float64)).columns\n",
    "    float_cols+= df.select(pl.col(pl.Null)).columns\n",
    "    for col in float_cols:\n",
    "        pandas_df[col] = pandas_df[col].astype('float')\n",
    "    \n",
    "    return pandas_df\n",
    "\n",
    "final_stat_df = to_pandas(final_stat_df)"
   ]
  },
  {
   "cell_type": "code",
   "execution_count": null,
   "id": "6e3127ab",
   "metadata": {},
   "outputs": [],
   "source": [
    "final_stat_df.shape"
   ]
  },
  {
   "cell_type": "code",
   "execution_count": null,
   "id": "e625ff51",
   "metadata": {},
   "outputs": [],
   "source": [
    "x = final_stat_df.drop(['chai_patient_id','final_selection','label'],axis=1)\n",
    "y = convert_to_structured((final_stat_df['label']),final_stat_df['final_selection'])"
   ]
  },
  {
   "cell_type": "code",
   "execution_count": null,
   "id": "36c8972d",
   "metadata": {},
   "outputs": [],
   "source": [
    "for col in x.columns:\n",
    "    if '[#/volume]' in col:\n",
    "        x = x.rename(columns={col:col.replace('[#/volume]','').replace('  ',' ')})\n",
    "    if '[Mass/volume]' in col:\n",
    "        x = x.rename(columns={col:col.replace('[Mass/volume]','').replace('  ',' ')})\n",
    "    if '[mass/volume]' in col:\n",
    "        x = x.rename(columns={col:col.replace('[mass/volume]','').replace('  ',' ')})    \n",
    "    if '[Mass/time]' in col:\n",
    "        x = x.rename(columns={col:col.replace('[Mass/time]','').replace('  ',' ')})\n",
    "    if '[Enzymatic activity/volume]' in col:\n",
    "        x = x.rename(columns={col:col.replace('[Enzymatic activity/volume]','').replace('  ',' ')})\n",
    "    if '[Mass Ratio]' in col:\n",
    "        x = x.rename(columns={col:col.replace('[Mass Ratio]','').replace('  ',' ')})\n",
    "    if '[Presence]' in col:\n",
    "        x = x.rename(columns={col:col.replace('[Presence]','').replace('  ',' ')})\n",
    "    if '[Mass/time in 24 hour Urine by Electrophoresis_0]' in col:\n",
    "        x = x.rename(columns={col:col.replace('[Mass/time in 24 hour Urine by Electrophoresis_0]','').replace('  ',' ')})\n",
    "    if '[moles/volume]' in col :\n",
    "        x = x.rename(columns={col:col.replace('[moles/volume]','').replace('  ',' ')})\n",
    "    if '[interpretation]' in col:\n",
    "        x = x.rename(columns={col:col.replace('[interpretation]','').replace('  ',' ')})\n",
    "    if ('[' in col) or (']' in col):\n",
    "        x = x.rename(columns={col:col.replace('[','').replace(']','')})"
   ]
  },
  {
   "cell_type": "code",
   "execution_count": null,
   "id": "364ae577",
   "metadata": {},
   "outputs": [],
   "source": [
    "x_train, x_test, y_train, y_test = train_test_split(x,y, test_size=0.2,random_state=123)"
   ]
  },
  {
   "cell_type": "code",
   "execution_count": null,
   "id": "9ef09a26",
   "metadata": {},
   "outputs": [],
   "source": [
    "x_train_list = []\n",
    "x_test_list = []\n",
    "x_train_list.append(x_train.shape)\n",
    "x_test_list.append(x_test.shape)\n",
    "print(x_train_list)\n",
    "print(x_test_list)"
   ]
  },
  {
   "cell_type": "code",
   "execution_count": null,
   "id": "aa2a1b6e",
   "metadata": {},
   "outputs": [],
   "source": [
    "## pre selected params for models ##\n",
    "\n",
    "PARAMS_XGB_AFT = {\n",
    "    'objective': 'survival:aft',\n",
    "    'eval_metric': 'aft-nloglik',\n",
    "    'aft_loss_distribution': 'normal',\n",
    "    'aft_loss_distribution_scale': 1.0,\n",
    "    'tree_method': 'hist',\n",
    "    'learning_rate': 0.005,\n",
    "    'max_depth': 16,\n",
    "    'booster':'dart',\n",
    "    'subsample': 0.8,\n",
    "    'min_child_weight': 30,\n",
    "    'colsample_bynode':0.8\n",
    "}\n",
    "\n",
    "xgbse_model = XGBSEDebiasedBCE(PARAMS_XGB_AFT)\n",
    "xgbse_model.fit(x_train,y_train,time_bins=np.array([30,60,90,120]))"
   ]
  },
  {
   "cell_type": "code",
   "execution_count": null,
   "id": "d7f49ff0",
   "metadata": {},
   "outputs": [],
   "source": [
    "pred = []\n",
    "pred.append(xgbse_model.predict(x_test))\n",
    "for col in pred[0].columns:\n",
    "    stat_df_list.append(get_stats(f'prob_{col}',pred[0][col]))\n",
    "    \n",
    "event_prob_df = 1-pred[0]\n",
    "event_prob_df.to_csv(f'data_backup/all_feature_prob_{today_date}.csv')\n",
    "slelected_pt_list = []\n",
    "for col in event_prob_df.columns:\n",
    "    selected_df = event_prob_df[event_prob_df[col]>=0.8]\n",
    "    main_index = list(x_test.reset_index().iloc[list(selected_df.index)]['index'])\n",
    "    slelected_pt_list.append(list(final_stat_df.iloc[main_index]['chai_patient_id']))\n",
    "    print(f'{col} : {selected_df.shape}')"
   ]
  },
  {
   "cell_type": "code",
   "execution_count": null,
   "id": "e4bac98a",
   "metadata": {},
   "outputs": [],
   "source": [
    "# from sklearn.metrics import PrecisionRecallDisplay,ConfusionMatrixDisplay,confusion_matrix\n",
    "# import matplotlib.pyplot as plt\n",
    "# # combined_test_info_df = event_prob_df.join(x_test).merge(final_stat_df[['index','chai_patient_id','label','final_selection']],on='index',how='inner')\n",
    "\n",
    "# combined_test_info_df = event_prob_df.join(x_test.reset_index()).merge(final_stat_df.reset_index()[['index','chai_patient_id','label','final_selection']],on='index',how='inner')\n",
    "# for i in [30,60,90,120]:\n",
    "#     combined_test_info_df[f'final_selection_{i}'] = combined_test_info_df.apply(lambda x: False if x['label']>i else x['final_selection'],axis=1)\n",
    "#     print(combined_test_info_df[f'final_selection_{i}'].value_counts())\n",
    "#     PrecisionRecallDisplay.from_predictions(combined_test_info_df[f'final_selection_{i}'], combined_test_info_df[i], name=\"PA_model\", plot_chance_level=True)\n",
    "#     plt.title(f'window : {i}')\n",
    "#     plt.plot()"
   ]
  },
  {
   "cell_type": "code",
   "execution_count": null,
   "id": "f350fc58",
   "metadata": {},
   "outputs": [],
   "source": [
    "from sklearn.metrics import ConfusionMatrixDisplay,confusion_matrix\n",
    "import matplotlib.pyplot as plt\n",
    "# combined_test_info_df = event_prob_df.join(x_test.reset_index()).merge(final_stat_df.reset_index()[['index','chai_patient_id','label','final_selection']],on='index',how='inner')\n",
    "\n",
    "for thresold in [0.3,0.2]:\n",
    "    combined_test_info_df[f'pred_{thresold}'] = combined_test_info_df[30].apply(lambda x:x>thresold)\n",
    "    cm = confusion_matrix(combined_test_info_df['final_selection'],combined_test_info_df[f'pred_{thresold}'])\n",
    "    disp = ConfusionMatrixDisplay(cm)\n",
    "    disp.plot()\n",
    "    plt.title(f'Thresold : {thresold}, Window : {30}')\n",
    "    plt.show()"
   ]
  },
  {
   "cell_type": "code",
   "execution_count": null,
   "id": "16a39755",
   "metadata": {},
   "outputs": [],
   "source": [
    "train_cindex_list = []\n",
    "test_cindex_list = []\n",
    "train_cindex_list.append(concordance_index(y_train, xgbse_model.predict(x_train)))\n",
    "test_cindex_list.append(concordance_index(y_test, xgbse_model.predict(x_test)))"
   ]
  },
  {
   "cell_type": "code",
   "execution_count": null,
   "id": "43ebeb6b",
   "metadata": {},
   "outputs": [],
   "source": [
    "print(f'Train c-index list : {train_cindex_list}')\n",
    "print(f'Test c-index list: {test_cindex_list}')\n",
    "print(f'Train c-index average : {np.mean(train_cindex_list)}')\n",
    "print(f'Test c-index average: {np.mean(test_cindex_list)}')"
   ]
  },
  {
   "cell_type": "code",
   "execution_count": null,
   "id": "9cbdb71b",
   "metadata": {},
   "outputs": [],
   "source": [
    "omop_feature_df = pd.read_csv('../Jaina/dts_patient_availability_3/dts_patient_availability/src/lab_featuer_group_label.csv')"
   ]
  },
  {
   "cell_type": "code",
   "execution_count": null,
   "id": "893e33c9",
   "metadata": {},
   "outputs": [],
   "source": [
    "omop_feature_df.head()"
   ]
  },
  {
   "cell_type": "code",
   "execution_count": null,
   "id": "e3e4bdb8",
   "metadata": {},
   "outputs": [],
   "source": [
    "test_pat_ids = list(final_stat_df.iloc[list(x_test.index)]['chai_patient_id'])\n",
    "omop_feature_df_test = omop_feature_df[omop_feature_df['person_id'].apply(lambda x:'CH'+str(x) in test_pat_ids)]"
   ]
  },
  {
   "cell_type": "code",
   "execution_count": null,
   "id": "16fc48c7",
   "metadata": {},
   "outputs": [],
   "source": [
    "omop_y_test = convert_to_structured((omop_feature_df_test['label']),omop_feature_df_test['final_selection'])"
   ]
  },
  {
   "cell_type": "code",
   "execution_count": null,
   "id": "87bc1c3e",
   "metadata": {},
   "outputs": [],
   "source": [
    "pred_omop_y_test = xgbse_model.predict(omop_feature_df_test[['m_protein_in_serum','m_protein_in_urine','ca','serum_free_light_kappa','serum_free_light_lambda']])\n",
    "\n",
    "concordance_index(omop_y_test,pred_omop_y_test)"
   ]
  },
  {
   "cell_type": "code",
   "execution_count": null,
   "id": "783f5167",
   "metadata": {},
   "outputs": [],
   "source": [
    "(1-pred_omop_y_test[30]).hist(bins=100)"
   ]
  },
  {
   "cell_type": "code",
   "execution_count": null,
   "id": "6b714118",
   "metadata": {},
   "outputs": [],
   "source": [
    "evennt_prob_omop_test = 1- pred_omop_y_test\n",
    "for col in evennt_prob_omop_test.columns:\n",
    "    selected_df = evennt_prob_omop_test[evennt_prob_omop_test[col]>=0.8]\n",
    "    print(selected_df.shape)"
   ]
  },
  {
   "cell_type": "code",
   "execution_count": null,
   "id": "59e61ba5",
   "metadata": {},
   "outputs": [],
   "source": [
    "combined_omop_test_df = evennt_prob_omop_test.join(omop_feature_df_test.reset_index())"
   ]
  },
  {
   "cell_type": "code",
   "execution_count": null,
   "id": "0adf1579",
   "metadata": {},
   "outputs": [],
   "source": [
    "for thresold in [0.2,0.3]:\n",
    "    combined_omop_test_df[f'pred_{thresold}'] = combined_omop_test_df[30].apply(lambda x:x>thresold)\n",
    "    cm = confusion_matrix(combined_omop_test_df['final_selection'],combined_omop_test_df[f'pred_{thresold}'])\n",
    "    disp = ConfusionMatrixDisplay(cm)\n",
    "    disp.plot()\n",
    "    plt.title(f'Thresold : {thresold}, Window : {30}')\n",
    "    plt.show()"
   ]
  },
  {
   "cell_type": "code",
   "execution_count": null,
   "id": "9be5b4d4",
   "metadata": {},
   "outputs": [],
   "source": []
  },
  {
   "cell_type": "code",
   "execution_count": null,
   "id": "4901c966",
   "metadata": {},
   "outputs": [],
   "source": []
  },
  {
   "cell_type": "code",
   "execution_count": null,
   "id": "79b45066",
   "metadata": {},
   "outputs": [],
   "source": [
    "final_stat_df.head()"
   ]
  },
  {
   "cell_type": "code",
   "execution_count": null,
   "id": "979bd04a",
   "metadata": {},
   "outputs": [],
   "source": [
    "feature_importance_df = pd.DataFrame(xgbse_model.feature_importances_.items(),columns=['feature','importance'])\n",
    "feature_importance_df = feature_importance_df.sort_values('importance',ascending=False)\n",
    "# feature_importance_df.iloc[0:50]"
   ]
  },
  {
   "cell_type": "code",
   "execution_count": null,
   "id": "fa174ebf",
   "metadata": {},
   "outputs": [],
   "source": [
    "feature_importance_df_list = []\n",
    "feature_importance_df_list.append(feature_importance_df)"
   ]
  },
  {
   "cell_type": "code",
   "execution_count": null,
   "id": "e7dafed1",
   "metadata": {},
   "outputs": [],
   "source": [
    "feature_importance_df =feature_importance_df.sort_values(by='importance',ascending=False)\n",
    "combine_feature_importance_df_subset = feature_importance_df[:20]\n",
    "combine_feature_importance_df_subset = combine_feature_importance_df_subset.sort_values(by='importance',ascending=True)"
   ]
  },
  {
   "cell_type": "code",
   "execution_count": null,
   "id": "44c03da4",
   "metadata": {},
   "outputs": [],
   "source": [
    "import matplotlib.pyplot as plt"
   ]
  },
  {
   "cell_type": "code",
   "execution_count": null,
   "id": "31292fab",
   "metadata": {},
   "outputs": [],
   "source": [
    "feature_importance_df.shape"
   ]
  },
  {
   "cell_type": "code",
   "execution_count": null,
   "id": "e2254775",
   "metadata": {},
   "outputs": [],
   "source": [
    "x.describe()"
   ]
  },
  {
   "cell_type": "code",
   "execution_count": null,
   "id": "dee31428",
   "metadata": {},
   "outputs": [],
   "source": [
    "x.shape"
   ]
  },
  {
   "cell_type": "code",
   "execution_count": null,
   "id": "19325fdb",
   "metadata": {},
   "outputs": [],
   "source": [
    "x.describe().to_csv('data_backup/describe_notebook_11_10_2023_v2.csv',index=False)"
   ]
  },
  {
   "cell_type": "code",
   "execution_count": null,
   "id": "1cc2e6a2",
   "metadata": {},
   "outputs": [],
   "source": [
    "final_stat_df[['chai_patient_id','final_selection']].to_csv('data_backup/final_selection_11_10_2023_v1.csv',index=False)"
   ]
  },
  {
   "cell_type": "code",
   "execution_count": null,
   "id": "266ab077",
   "metadata": {},
   "outputs": [],
   "source": [
    "pd.DataFrame(y_train)['c2'].describe()"
   ]
  },
  {
   "cell_type": "code",
   "execution_count": null,
   "id": "e2539854",
   "metadata": {},
   "outputs": [],
   "source": [
    "f, ax = plt.subplots(figsize=(20,10))\n",
    "plt.barh(combine_feature_importance_df_subset['feature'],combine_feature_importance_df_subset['importance'])\n",
    "# plt.xticks(range(len(combine_feature_importance_df_subset['feature'])), combine_feature_importance_df_subset['average'],rotation='vertical')\n",
    "plt.show()"
   ]
  },
  {
   "cell_type": "code",
   "execution_count": null,
   "id": "0aefd945",
   "metadata": {},
   "outputs": [],
   "source": [
    "x_train.shape"
   ]
  },
  {
   "cell_type": "code",
   "execution_count": null,
   "id": "b73ec953",
   "metadata": {},
   "outputs": [],
   "source": [
    "# combine_prob_dist_df = pred[0].reset_index().merge(pred[1].reset_index(),on='index',how='outer')\n",
    "# combine_prob_dist_df = combine_prob_dist_df.merge(pred[2].reset_index(),on='index',how='outer')"
   ]
  },
  {
   "cell_type": "code",
   "execution_count": null,
   "id": "1ee1c4d2",
   "metadata": {},
   "outputs": [],
   "source": [
    "# combine_prob_dist_df.head()"
   ]
  },
  {
   "cell_type": "code",
   "execution_count": null,
   "id": "6783a4e1",
   "metadata": {},
   "outputs": [],
   "source": [
    "# combine_prob_dist_df['avg_30'] = combine_prob_dist_df.apply(lambda x:(x['30_x']+x['30_y']+x[30])/3,axis=1)\n",
    "# combine_prob_dist_df['avg_60'] = combine_prob_dist_df.apply(lambda x:(x['60_x']+x['60_y']+x[60])/3,axis=1)\n",
    "# combine_prob_dist_df['avg_90'] = combine_prob_dist_df.apply(lambda x:(x['90_x']+x['90_y']+x[90])/3,axis=1)\n",
    "# combine_prob_dist_df['avg_120'] = combine_prob_dist_df.apply(lambda x:(x['120_x']+x['120_y']+x[120])/3,axis=1)"
   ]
  },
  {
   "cell_type": "code",
   "execution_count": null,
   "id": "07c56113",
   "metadata": {},
   "outputs": [],
   "source": [
    "# combine_prob_dist_df['avg_120'].hist(bins=100)"
   ]
  },
  {
   "cell_type": "code",
   "execution_count": null,
   "id": "d5d19ec5",
   "metadata": {},
   "outputs": [],
   "source": [
    "(1-pred[0])[120].hist(bins=100)"
   ]
  },
  {
   "cell_type": "code",
   "execution_count": null,
   "id": "e0932cc7",
   "metadata": {},
   "outputs": [],
   "source": [
    "import shap"
   ]
  },
  {
   "cell_type": "code",
   "execution_count": null,
   "id": "ff1dac2b",
   "metadata": {},
   "outputs": [],
   "source": [
    "explainer = shap.Explainer(xgbse_model.predict, x_train)\n",
    "shap_values = explainer(x_train)"
   ]
  },
  {
   "cell_type": "code",
   "execution_count": null,
   "id": "219c89fc",
   "metadata": {},
   "outputs": [],
   "source": [
    "shap.plots.beeswarm(shap_values[list(selected_df.index),:,3],max_display=20)"
   ]
  },
  {
   "cell_type": "code",
   "execution_count": null,
   "id": "1b5e12bf",
   "metadata": {},
   "outputs": [],
   "source": []
  }
 ],
 "metadata": {
  "kernelspec": {
   "display_name": "conda_python3",
   "language": "python",
   "name": "conda_python3"
  },
  "language_info": {
   "codemirror_mode": {
    "name": "ipython",
    "version": 3
   },
   "file_extension": ".py",
   "mimetype": "text/x-python",
   "name": "python",
   "nbconvert_exporter": "python",
   "pygments_lexer": "ipython3",
   "version": "3.10.12"
  }
 },
 "nbformat": 4,
 "nbformat_minor": 5
}
