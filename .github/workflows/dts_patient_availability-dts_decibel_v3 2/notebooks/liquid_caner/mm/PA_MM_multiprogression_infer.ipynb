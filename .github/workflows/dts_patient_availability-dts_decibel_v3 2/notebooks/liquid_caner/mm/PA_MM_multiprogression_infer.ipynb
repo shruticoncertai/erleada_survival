{
 "cells": [
  {
   "cell_type": "code",
   "execution_count": null,
   "id": "24c5f894",
   "metadata": {},
   "outputs": [],
   "source": [
    "import polars as pl\n",
    "import pandas as pd\n",
    "import datetime\n",
    "from datetime import timedelta\n",
    "import random\n",
    "import copy\n",
    "import numpy as np\n",
    "import time\n",
    "import traceback\n",
    "import shap\n",
    "from xgbse import (\n",
    "    XGBSEDebiasedBCE,\n",
    "#     XGBSEStackedWeibull,\n",
    "#     XGBSEKaplanNeighbors,\n",
    "#     XGBSEKaplanTree\n",
    ")\n",
    "from xgbse.metrics import concordance_index\n",
    "from xgbse.converters import (\n",
    "    convert_data_to_xgb_format,\n",
    "    convert_to_structured\n",
    ")\n",
    "\n",
    "from ai_knowledge.ai_knowledge.base.convert import *\n",
    "import yaml\n",
    "from sklearn.model_selection import train_test_split\n",
    "\n",
    "# from PA_GE_test.rule_execution import rules_check\n",
    "from sklearn.inspection import PartialDependenceDisplay\n",
    "import matplotlib.pyplot as plt\n",
    "\n",
    "today_date = datetime.date.today()\n",
    "clip_year = 2019"
   ]
  },
  {
   "cell_type": "code",
   "execution_count": null,
   "id": "2f8a8632",
   "metadata": {},
   "outputs": [],
   "source": [
    "import os\n",
    "output_dir = f'data_backup/output_feature_nadir_multiprogression_2024-05-02/'\n",
    "# output_dir = f'data_backup/output_feature_nadir_multiprogression_{today_date}/'\n",
    "output_dir_infer  = f'{output_dir}inference/'\n",
    "\n",
    "if 'inference' not in os.listdir(output_dir):\n",
    "    os.makedirs(output_dir_infer)\n",
    "text_file = open(output_dir_infer+'output_infer.txt','w')"
   ]
  },
  {
   "cell_type": "code",
   "execution_count": null,
   "id": "943520bb",
   "metadata": {},
   "outputs": [],
   "source": [
    "with open('./ai_knowledge/ai_knowledge/base/keys_labs.yaml','r') as file:\n",
    "    lab_kb = yaml.safe_load(file)\n",
    "    \n",
    "lab_kb = {c['key']:c for c in lab_kb}\n",
    "\n",
    "with open('./ai_knowledge/ai_knowledge/base/keys_vitals.yaml','r') as file:\n",
    "    vital_kb = yaml.safe_load(file)\n",
    "    \n",
    "vital_kb = {c['key']:c for c in vital_kb}\n",
    "\n",
    "with open('./ai_knowledge/ai_knowledge/base/units.yaml','r') as file:\n",
    "    unite_conv_map = yaml.safe_load(file)\n",
    "    \n",
    "unite_conv_map = {c['base']:c for c in unite_conv_map}"
   ]
  },
  {
   "cell_type": "code",
   "execution_count": null,
   "id": "e291c67a",
   "metadata": {},
   "outputs": [],
   "source": [
    "def get_stats(feature_name, values):\n",
    "     return pl.DataFrame({'feature':feature_name,'min':values.min(),\\\n",
    "                  'max':values.max(),'mean':values.mean(),'median':values.median(),\\\n",
    "                  'mode':values.mode(),'std':values.std()})\n",
    "    \n",
    "stat_df_list = []"
   ]
  },
  {
   "cell_type": "code",
   "execution_count": null,
   "id": "73fd9855",
   "metadata": {},
   "outputs": [],
   "source": [
    "def warn(*args, **kwargs):\n",
    "    pass\n",
    "import warnings\n",
    "warnings.warn = warn"
   ]
  },
  {
   "cell_type": "code",
   "execution_count": null,
   "id": "8d489fc2",
   "metadata": {},
   "outputs": [],
   "source": [
    "start = time.time()"
   ]
  },
  {
   "cell_type": "code",
   "execution_count": null,
   "id": "40a84763",
   "metadata": {},
   "outputs": [],
   "source": [
    "#DB Connection Details\n",
    "host = \"c0-eurekarwd-web.crdektqhzze9.us-east-1.redshift.amazonaws.com\"\n",
    "port = \"5439\"\n",
    "dbname = \"c0_eurekarwd\"\n",
    "user = \"\"\n",
    "password = \"\""
   ]
  },
  {
   "cell_type": "code",
   "execution_count": null,
   "id": "54044cfa",
   "metadata": {},
   "outputs": [],
   "source": [
    "# schema = 'dts_cdm_master'\n",
    "schema = 'dts_cdm_master_20240501s'"
   ]
  },
  {
   "cell_type": "code",
   "execution_count": null,
   "id": "cef1c3e5",
   "metadata": {},
   "outputs": [],
   "source": [
    "db_conn_uri = \"redshift://{user}:{pwd}@{server}:{port}/{db}\".format(user=user.replace('@','%40'), pwd=password.replace('@','%40'), server=host, port=port, db=dbname)\n",
    "chai_patid_query = \"select chai_patient_id,diagnosis_date,diagnosis_code_standard_code,diagnosis_code_standard_name from {schema}.condition where (lower(diagnosis_code_standard_name) like '%multiple%myeloma%' or lower(diagnosis_code_standard_code) like 'C90.0%') and extract(year from diagnosis_date) > 2019\".format(schema=schema)\n",
    "pat_id_df = pl.read_database(chai_patid_query,db_conn_uri)"
   ]
  },
  {
   "cell_type": "code",
   "execution_count": null,
   "id": "f4d6981d",
   "metadata": {},
   "outputs": [],
   "source": [
    "# pat_id_df = pat_id_df.with_columns(pl.col('diagnosis_date').cast(pl.Date))\n",
    "# rules_check(pat_id_df,'condition','qcca_cdm_master','condition_rule_checks.xlsx')"
   ]
  },
  {
   "cell_type": "code",
   "execution_count": null,
   "id": "622c7d60",
   "metadata": {},
   "outputs": [],
   "source": [
    "pat_id_df_updated = pat_id_df.select(['chai_patient_id','diagnosis_date'])\\\n",
    "            .sort(by =['chai_patient_id','diagnosis_date'],descending=False)\\\n",
    "            .unique(subset=['chai_patient_id'],keep='first')\\\n",
    "            .drop_nulls()"
   ]
  },
  {
   "cell_type": "code",
   "execution_count": null,
   "id": "7f859981",
   "metadata": {},
   "outputs": [],
   "source": [
    "pat_id_df_updated.shape"
   ]
  },
  {
   "cell_type": "code",
   "execution_count": null,
   "id": "1bf3959d",
   "metadata": {},
   "outputs": [],
   "source": [
    "pat_ids = pat_id_df_updated.select(['chai_patient_id']).unique().to_series().to_list()\n",
    "pat_ids = ','.join([\"'\"+str(x)+\"'\" for x in pat_ids])"
   ]
  },
  {
   "cell_type": "code",
   "execution_count": null,
   "id": "8f2e2fe7",
   "metadata": {},
   "outputs": [],
   "source": [
    "lab_dict = {'m_protein_in_serum':['33358-3','51435-6','35559-4','94400-9','50796-2'],\n",
    "            'm_protein_in_urine':['42482-0','35560-2'],\n",
    "            'ca':['17861-6','49765-1'],\n",
    "            'serum_free_light':['36916-5','33944-0'],\n",
    "            'hemoglobin_in_blood':['718-7','20509-6','30313-1','48725-6'],\n",
    "            'neutrophils_count':['751-8','26499-4','768-2','30451-9','753-4'],\n",
    "            'lymphocytes_count':['26474-7','732-8','731-0'],\n",
    "            'platelets':['777-3','26515-7','53800-9','49497-1','778-1'],\n",
    "            'na':['2951-2','2955-3'],\n",
    "            'mg':['21377-7','19123-9'],\n",
    "            'cl':['2075-0'],\n",
    "            'phos' : ['2777-1'],\n",
    "            'hr' : ['8867-4'],\n",
    "            'dbp' : ['8462-4'],\n",
    "            'ecog' : ['89262-0'],\n",
    "            'k' : ['2823-3','2828-2']\n",
    "           }"
   ]
  },
  {
   "cell_type": "code",
   "execution_count": null,
   "id": "76799791",
   "metadata": {},
   "outputs": [],
   "source": [
    "## For OMOP\n",
    "# patient_test_df = pl.read_csv('patient_test.csv')\n",
    "# patient_test_df = patient_test_df.with_columns(pl.col('measurement_date').str.to_datetime(\"%Y-%m-%d\").cast(pl.Date))\n",
    "# patient_test_df = patient_test_df.rename({'person_id':'chai_patient_id','measurement_date':'test_date','value_as_number':'test_value_numeric',\n",
    "#                                           'measurement_unit_source_name':'test_unit_standard_name','concept_code':'test_name_standard_code',\n",
    "#                                           'concept_name':'test_name_standard_name'})"
   ]
  },
  {
   "cell_type": "code",
   "execution_count": null,
   "id": "afcf3999",
   "metadata": {},
   "outputs": [],
   "source": [
    "pat_serum_test_query = \"select chai_patient_id,source_labid,test_date,test_name_standard_code,test_name_standard_name,test_value_numeric,test_unit_standard_name from {schema}.patient_test where (chai_patient_id in ({pat_ids})) and (test_name_standard_code in ('33358-3','51435-6','35559-4','94400-9','50796-2')) and (extract(year from test_date) > {clip_year})\".format(pat_ids=pat_ids,schema=schema,clip_year=clip_year)\n",
    "pat_serum_test_df = pl.read_database(pat_serum_test_query,db_conn_uri)"
   ]
  },
  {
   "cell_type": "code",
   "execution_count": null,
   "id": "6857c1d3",
   "metadata": {},
   "outputs": [],
   "source": [
    "##For OMOP\n",
    "# pat_serum_test_df = pd.read_csv('data_backup/serum_patient_test_202312141244.csv')\n",
    "# pat_serum_test_df = pl.from_pandas(pat_serum_test_df)"
   ]
  },
  {
   "cell_type": "code",
   "execution_count": null,
   "id": "263da3ca",
   "metadata": {},
   "outputs": [],
   "source": [
    "# pat_serum_test_df = pat_serum_test_df.filter(pl.col('chai_patient_id').apply(lambda x:x in pat_ids))\n",
    "pat_serum_test_df = pat_serum_test_df.join(pat_id_df_updated,on='chai_patient_id',how='inner')\n",
    "# pat_serum_test_df = pat_serum_test_df.with_columns(pl.col('test_date').apply(lambda x:datetime.datetime.strptime(x,'%Y-%m-%d %H:%M:%S').date()))\n",
    "pat_serum_test_df = pat_serum_test_df.filter(pl.col('test_date')>=pl.col('diagnosis_date'))\n",
    "pat_serum_test_df.shape"
   ]
  },
  {
   "cell_type": "code",
   "execution_count": null,
   "id": "9a4bfce0",
   "metadata": {},
   "outputs": [],
   "source": [
    "pat_urine_test_query = \"select chai_patient_id,source_labid,test_date,test_name_standard_code,test_name_standard_name,test_value_numeric,test_unit_standard_name from {schema}.patient_test where (chai_patient_id in ({pat_ids})) and (test_name_standard_code in ('42482-0','35560-2')) and (extract(year from test_date) > {clip_year})\".format(pat_ids=pat_ids,schema=schema,clip_year=clip_year)\n",
    "\n",
    "pat_urine_test_df = pl.read_database(pat_urine_test_query,db_conn_uri)"
   ]
  },
  {
   "cell_type": "code",
   "execution_count": null,
   "id": "20fed92a",
   "metadata": {},
   "outputs": [],
   "source": [
    "##For OMOP\n",
    "# pat_urine_test_df = pd.read_csv('data_backup/urine_patient_test_202312141245.csv')\n",
    "# pat_urine_test_df = pl.from_pandas(pat_urine_test_df)\n",
    "# pat_urine_test_df = pat_urine_test_df.filter(pl.col('chai_patient_id').apply(lambda x:x in pat_ids))"
   ]
  },
  {
   "cell_type": "code",
   "execution_count": null,
   "id": "2f4f7c17",
   "metadata": {},
   "outputs": [],
   "source": [
    "pat_urine_test_df = pat_urine_test_df.join(pat_id_df_updated,on='chai_patient_id',how='inner')\n",
    "# pat_urine_test_df = pat_urine_test_df.with_columns(pl.col('test_date').apply(lambda x:datetime.datetime.strptime(x,'%Y-%m-%d %H:%M:%S').date()))\n",
    "pat_urine_test_df = pat_urine_test_df.filter(pl.col('test_date')>=pl.col('diagnosis_date'))\n",
    "pat_urine_test_df.shape"
   ]
  },
  {
   "cell_type": "code",
   "execution_count": null,
   "id": "cc3661a9",
   "metadata": {
    "scrolled": true
   },
   "outputs": [],
   "source": [
    "pat_serum_test_df_cast = pat_serum_test_df.filter(\n",
    "        pl.any_horizontal(\n",
    "            pl.col('test_value_numeric').is_not_null() & pl.col('test_unit_standard_name').is_not_null() \n",
    "        ))\\\n",
    "        .with_columns(pl.col('test_unit_standard_name').apply(lambda x:x.lower()))"
   ]
  },
  {
   "cell_type": "code",
   "execution_count": null,
   "id": "8fee3f69",
   "metadata": {
    "scrolled": true
   },
   "outputs": [],
   "source": [
    "pat_urine_test_df_cast = pat_urine_test_df.filter(\n",
    "        pl.any_horizontal(\n",
    "            pl.col('test_value_numeric').is_not_null() & pl.col('test_unit_standard_name').is_not_null() \n",
    "        ))\\\n",
    "        .with_columns(pl.col('test_unit_standard_name').apply(lambda x:x.lower()))"
   ]
  },
  {
   "cell_type": "code",
   "execution_count": null,
   "id": "5a9b097b",
   "metadata": {},
   "outputs": [],
   "source": [
    "pat_urine_test_df_cast.shape"
   ]
  },
  {
   "cell_type": "code",
   "execution_count": null,
   "id": "48d0b878",
   "metadata": {},
   "outputs": [],
   "source": [
    "pat_serum_test_df_cast = pat_serum_test_df_cast.with_columns(\n",
    "    pl.when(pl.col('test_name_standard_code').is_in(lab_dict['m_protein_in_serum']))\n",
    "    .then(pl.lit('m_protein_in_serum'))\n",
    "    .alias('key')\n",
    ")\n",
    "\n",
    "pat_urine_test_df_cast = pat_urine_test_df_cast.with_columns(\n",
    "    pl.when(pl.col('test_name_standard_code').is_in(lab_dict['m_protein_in_urine']))\n",
    "    .then(pl.lit('m_protein_in_urine'))\n",
    "    .alias('key')\n",
    ")"
   ]
  },
  {
   "cell_type": "code",
   "execution_count": null,
   "id": "75527670",
   "metadata": {},
   "outputs": [],
   "source": [
    "print(pat_urine_test_df_cast.shape)\n",
    "print(pat_serum_test_df_cast.shape)"
   ]
  },
  {
   "cell_type": "code",
   "execution_count": null,
   "id": "798160bd",
   "metadata": {},
   "outputs": [],
   "source": []
  },
  {
   "cell_type": "code",
   "execution_count": null,
   "id": "249da042",
   "metadata": {},
   "outputs": [],
   "source": [
    "def convert_unit(df):\n",
    "    lab_test = df['key'].unique().drop_nulls()\n",
    "    for key in lab_test:\n",
    "        if key not in lab_kb.keys():\n",
    "            raise KeyError(f'Lab test {key} not registered')\n",
    "        std_unit = lab_kb[key]['attributes']['units']\n",
    "        unit_keys = list(unite_conv_map[std_unit]['convert'].keys())\n",
    "        df = df.with_columns(\n",
    "                pl.struct(['test_value_numeric','test_unit_standard_name','key'])\n",
    "                          .apply(lambda x: eval(unite_conv_map[std_unit]['convert'][x['test_unit_standard_name']].split('.')[-1])(x['test_value_numeric'])\\\n",
    "                                 if (x['key']==key) & (x['test_unit_standard_name'] in (unit_keys))\\\n",
    "                                 else x['test_value_numeric']                                                      \n",
    "                                ).alias('test_value_numeric')\n",
    "        )\n",
    "        df = df.with_columns(\n",
    "                        pl.when((pl.col('key')==key) & ((pl.col('test_unit_standard_name')==std_unit) | (pl.col('test_unit_standard_name').is_in(unite_conv_map[std_unit]['convert'].keys()))))\n",
    "                .then(pl.lit(std_unit))\n",
    "                .when(pl.col('key')==key)\n",
    "                .then(None)\n",
    "                .otherwise(pl.col('test_unit_standard_name'))\n",
    "                .alias('test_unit_standard_name'))\\\n",
    "        .drop_nulls('test_unit_standard_name')\n",
    "    return df"
   ]
  },
  {
   "cell_type": "code",
   "execution_count": null,
   "id": "27d23c5c",
   "metadata": {},
   "outputs": [],
   "source": [
    "##OMOP\n",
    "# pat_serum_test_df_cast = patient_test_df.filter(pl.col('key')=='m_protein_in_serum')\n",
    "# pat_urine_test_df_cast = patient_test_df.filter(pl.col('key')=='m_protein_in_urine')"
   ]
  },
  {
   "cell_type": "code",
   "execution_count": null,
   "id": "89cdacd8",
   "metadata": {},
   "outputs": [],
   "source": [
    "pat_serum_test_df_cast = pat_serum_test_df_cast.select(['chai_patient_id','test_date','test_value_numeric','test_name_standard_code','test_unit_standard_name'])\\\n",
    "    .with_columns(pl.col('test_date').apply(lambda x:x.date()))"
   ]
  },
  {
   "cell_type": "code",
   "execution_count": null,
   "id": "c715b42c",
   "metadata": {},
   "outputs": [],
   "source": [
    "pat_urine_test_df_cast = pat_urine_test_df_cast.select(['chai_patient_id','test_date','test_value_numeric','test_name_standard_code','test_unit_standard_name'])\\\n",
    "    .with_columns(pl.col('test_date').apply(lambda x:x.date()))"
   ]
  },
  {
   "cell_type": "code",
   "execution_count": null,
   "id": "d74602c7",
   "metadata": {},
   "outputs": [],
   "source": [
    "print(pat_urine_test_df_cast.shape)\n",
    "print(pat_serum_test_df_cast.shape)"
   ]
  },
  {
   "cell_type": "markdown",
   "id": "5f99f964",
   "metadata": {},
   "source": [
    "## Serum Free light chain"
   ]
  },
  {
   "cell_type": "code",
   "execution_count": null,
   "id": "676b9615",
   "metadata": {},
   "outputs": [],
   "source": [
    "pat_free_light_query = \"select chai_patient_id,source_labid,test_date,test_name_standard_code,test_name_standard_name,test_value_numeric,test_unit_standard_name from {schema}.patient_test where (chai_patient_id in ({pat_ids})) and (test_name_standard_code in ('36916-5','33944-0')) and (extract(year from test_date) > {clip_year})\".format(pat_ids=pat_ids,schema=schema,clip_year=clip_year)\n",
    "\n",
    "pat_free_light_df = pl.read_database(pat_free_light_query,db_conn_uri)"
   ]
  },
  {
   "cell_type": "code",
   "execution_count": null,
   "id": "420a228f",
   "metadata": {},
   "outputs": [],
   "source": [
    "##OMOP\n",
    "# pat_free_light_df = pd.read_csv('data_backup/FLC_patient_test_202312141247.csv')\n",
    "# pat_free_light_df = pl.from_pandas(pat_free_light_df)\n",
    "# pat_serum_test_df = pat_serum_test_df.filter(pl.col('chai_patient_id').apply(lambda x:x in pat_ids))"
   ]
  },
  {
   "cell_type": "code",
   "execution_count": null,
   "id": "f6513e4d",
   "metadata": {},
   "outputs": [],
   "source": [
    "pat_free_light_df = pat_free_light_df.join(pat_id_df_updated,on='chai_patient_id',how='inner')\n",
    "# pat_free_light_df = pat_free_light_df.with_columns(pl.col('test_date').apply(lambda x:datetime.datetime.strptime(x,'%Y-%m-%d %H:%M:%S').date()))\n",
    "pat_free_light_df = pat_free_light_df.filter(pl.col('test_date')>=pl.col('diagnosis_date'))\n",
    "pat_free_light_df.shape"
   ]
  },
  {
   "cell_type": "code",
   "execution_count": null,
   "id": "90532fdd",
   "metadata": {
    "scrolled": true
   },
   "outputs": [],
   "source": [
    "pat_free_light_df.shape"
   ]
  },
  {
   "cell_type": "code",
   "execution_count": null,
   "id": "ddbc250d",
   "metadata": {},
   "outputs": [],
   "source": [
    "# pat_free_light_df = patient_test_df.filter(pl.col('key')=='serum_free_light')"
   ]
  },
  {
   "cell_type": "code",
   "execution_count": null,
   "id": "1ad25f9d",
   "metadata": {},
   "outputs": [],
   "source": [
    "pat_free_light_df = pat_free_light_df.select(['chai_patient_id','test_date','test_value_numeric','test_name_standard_code','test_unit_standard_name'])\\\n",
    "    .with_columns(pl.col('test_date').apply(lambda x:x.date()))"
   ]
  },
  {
   "cell_type": "code",
   "execution_count": null,
   "id": "e9b99f24",
   "metadata": {},
   "outputs": [],
   "source": [
    "pat_free_light_df.shape"
   ]
  },
  {
   "cell_type": "code",
   "execution_count": null,
   "id": "bd98ba8d",
   "metadata": {},
   "outputs": [],
   "source": [
    "lab_test_df = pl.concat([pat_urine_test_df_cast,pat_serum_test_df_cast,pat_free_light_df])"
   ]
  },
  {
   "cell_type": "code",
   "execution_count": null,
   "id": "e8b072ff",
   "metadata": {},
   "outputs": [],
   "source": [
    "print(pat_urine_test_df_cast.shape)\n",
    "print(pat_serum_test_df_cast.shape)\n",
    "print(pat_free_light_df.shape)"
   ]
  },
  {
   "cell_type": "code",
   "execution_count": null,
   "id": "9139f90f",
   "metadata": {},
   "outputs": [],
   "source": [
    "lab_test_df = lab_test_df.with_columns(\n",
    "    pl.when(pl.col('test_name_standard_code').is_in(lab_dict['m_protein_in_serum']))\n",
    "    .then(pl.lit('m_protein_in_serum'))\n",
    "    .when(pl.col('test_name_standard_code').is_in(lab_dict['m_protein_in_urine']))\n",
    "    .then(pl.lit('m_protein_in_urine'))\n",
    "    .when(pl.col('test_name_standard_code').is_in(lab_dict['ca']))\n",
    "    .then(pl.lit('ca'))\n",
    "    .when(pl.col('test_name_standard_code').is_in(lab_dict['serum_free_light']))\n",
    "    .then(pl.lit('serum_free_light'))\n",
    "    .when(pl.col('test_name_standard_code').is_in(lab_dict['hemoglobin_in_blood']))\n",
    "    .then(pl.lit('hemoglobin_in_blood'))\n",
    "    .when(pl.col('test_name_standard_code').is_in(lab_dict['neutrophils_count']))\n",
    "    .then(pl.lit('neutrophils_count'))\n",
    "    .when(pl.col('test_name_standard_code').is_in(lab_dict['lymphocytes_count']))\n",
    "    .then(pl.lit('lymphocytes_count'))\n",
    "    .when(pl.col('test_name_standard_code').is_in(lab_dict['platelets']))\n",
    "    .then(pl.lit('platelets'))\n",
    "    .when(pl.col('test_name_standard_code').is_in(lab_dict['na']))\n",
    "    .then(pl.lit('na'))\n",
    "    .when(pl.col('test_name_standard_code').is_in(lab_dict['mg']))\n",
    "    .then(pl.lit('mg'))\n",
    "    .when(pl.col('test_name_standard_code').is_in(lab_dict['cl']))\n",
    "    .then(pl.lit('cl'))\n",
    "    .when(pl.col('test_name_standard_code').is_in(lab_dict['phos']))\n",
    "    .then(pl.lit('phos'))\n",
    "    .when(pl.col('test_name_standard_code').is_in(lab_dict['k']))\n",
    "    .then(pl.lit('k'))\n",
    "    .alias('key'),\n",
    "    pl.col('test_unit_standard_name').apply(lambda x:x.lower()),\n",
    "    pl.col('test_value_numeric').str.replace('<','').str.replace('>','').str.replace(',','.')\n",
    "    .cast(pl.Float64, strict=False)\n",
    ").drop_nulls(subset='test_value_numeric')\\\n",
    ".with_columns(\n",
    "    pl.when((pl.col('test_name_standard_code').is_in(lab_dict['hr']+lab_dict['dbp']+lab_dict['ecog'])) & (pl.col('test_unit_standard_name').is_null()))\n",
    "    .then(pl.lit('valid'))\n",
    "    .otherwise(pl.col('test_unit_standard_name'))\n",
    "    .alias('test_unit_standard_name')\n",
    ")\n",
    "lab_test_df.shape"
   ]
  },
  {
   "cell_type": "code",
   "execution_count": null,
   "id": "30f4c37e",
   "metadata": {},
   "outputs": [],
   "source": [
    "# lab_test_df = lab_test_df.with_columns(pl.col('test_date').cast(pl.Datetime))\n",
    "# rules_check(lab_test_df,'patient_test_raw','qcca_cdm_master','patient_test_raw_rule_checks.xlsx')"
   ]
  },
  {
   "cell_type": "code",
   "execution_count": null,
   "id": "d8590fe2",
   "metadata": {},
   "outputs": [],
   "source": [
    "lab_test_df = convert_unit(lab_test_df)\n",
    "lab_test_df.shape"
   ]
  },
  {
   "cell_type": "code",
   "execution_count": null,
   "id": "7e9b1cd7",
   "metadata": {},
   "outputs": [],
   "source": [
    "# lab_test_df = lab_test_df.sort(['chai_patient_id','test_date','test_value_numeric'],descending=False)\\\n",
    "#     .unique(subset=['chai_patient_id','test_date','test_name_standard_code'],keep='first')"
   ]
  },
  {
   "cell_type": "code",
   "execution_count": null,
   "id": "aba55618",
   "metadata": {},
   "outputs": [],
   "source": [
    "# lab_test_df = lab_test_df.with_columns(pl.col('test_date').cast(pl.Datetime))\n",
    "# rules_check(lab_test_df,'patient_test_std','qcca_cdm_master','patient_test_std_rule_checks.xlsx')"
   ]
  },
  {
   "cell_type": "code",
   "execution_count": null,
   "id": "9048a0c7",
   "metadata": {},
   "outputs": [],
   "source": [
    "# lab_test_df.shape"
   ]
  },
  {
   "cell_type": "code",
   "execution_count": null,
   "id": "5b2a5e58",
   "metadata": {},
   "outputs": [],
   "source": [
    "for ele in lab_test_df['test_name_standard_code'].unique():\n",
    "    ele_df = lab_test_df.filter(pl.col('test_name_standard_code')==ele)\n",
    "    stat_df_list.append(get_stats(ele,ele_df['test_value_numeric']))"
   ]
  },
  {
   "cell_type": "code",
   "execution_count": null,
   "id": "b84c0612",
   "metadata": {},
   "outputs": [],
   "source": [
    "lab_dict.update({'serum_free_light_kappa':['36916-5'],'serum_free_light_lambda':['33944-0']})\n",
    "lab_class_map =  {0:'m_protein_in_serum',1:'m_protein_in_urine',2:'ca',3:'serum_free_light_kappa',4:'serum_free_light_lambda'}\n",
    "\n",
    "# lab_test_df = lab_test_df.with_columns(\n",
    "#                                     pl.when(pl.col('test_name_standard_code').is_in(lab_dict['m_protein_in_serum']))\n",
    "#                                     .then(pl.lit(0))\n",
    "#                                     .when(pl.col('test_name_standard_code').is_in(lab_dict['m_protein_in_urine']))\n",
    "#                                     .then(pl.lit(1))\n",
    "#                                     .when(pl.col('test_name_standard_code').is_in(lab_dict['ca']))\n",
    "#                                     .then(pl.lit(2))\n",
    "#                                     .when(pl.col('test_name_standard_code').is_in(lab_dict['serum_free_light_kappa']))\n",
    "#                                     .then(pl.lit(3))\n",
    "#                                     .when(pl.col('test_name_standard_code').is_in(lab_dict['serum_free_light_lambda']))\n",
    "#                                     .then(pl.lit(4))\n",
    "#                                     .alias('test_name_standard_code')\n",
    "# )"
   ]
  },
  {
   "cell_type": "code",
   "execution_count": null,
   "id": "f6d91870",
   "metadata": {},
   "outputs": [],
   "source": [
    "lab_test_df = lab_test_df.groupby(by=['chai_patient_id','test_date','test_name_standard_code']).agg(pl.col('test_value_numeric').median())\\\n",
    "                         .select(['chai_patient_id','test_date','test_value_numeric','test_name_standard_code'])"
   ]
  },
  {
   "cell_type": "code",
   "execution_count": null,
   "id": "9c58be8c",
   "metadata": {},
   "outputs": [],
   "source": [
    "lab_test_df['chai_patient_id'].unique().shape"
   ]
  },
  {
   "cell_type": "markdown",
   "id": "2ee3bc43",
   "metadata": {},
   "source": [
    "## Criteria"
   ]
  },
  {
   "cell_type": "code",
   "execution_count": null,
   "id": "a189e080",
   "metadata": {},
   "outputs": [],
   "source": [
    "output_dir"
   ]
  },
  {
   "cell_type": "code",
   "execution_count": null,
   "id": "e51499a1",
   "metadata": {},
   "outputs": [],
   "source": [
    "criteria_df = pl.read_csv(f'{output_dir}criteria_multiprogression_label_2024-04-30.csv')\n",
    "# criteria_df = pl.read_csv(f'{output_dir}criteria_multiprogression_label_{today_date}.csv')\n",
    "\n",
    "criteria_df = criteria_df.with_columns(pl.col('min_date').apply(lambda x:datetime.datetime.strptime(x,'%Y-%m-%d').date()))"
   ]
  },
  {
   "cell_type": "code",
   "execution_count": null,
   "id": "3f066fb4",
   "metadata": {},
   "outputs": [],
   "source": [
    "criteria_df.head()"
   ]
  },
  {
   "cell_type": "code",
   "execution_count": null,
   "id": "572e8f5c",
   "metadata": {},
   "outputs": [],
   "source": [
    "c1_df = copy.deepcopy(criteria_df)\n",
    "criteria_df = criteria_df.drop('criteria_1')"
   ]
  },
  {
   "cell_type": "code",
   "execution_count": null,
   "id": "e2f773e5",
   "metadata": {},
   "outputs": [],
   "source": [
    "criteria_df.shape"
   ]
  },
  {
   "cell_type": "code",
   "execution_count": null,
   "id": "980e8e8e",
   "metadata": {},
   "outputs": [],
   "source": [
    "criteria_df['chai_patient_id'].unique().shape"
   ]
  },
  {
   "cell_type": "code",
   "execution_count": null,
   "id": "83197cb9",
   "metadata": {},
   "outputs": [],
   "source": [
    "def download_dod(source_schema, patients_ids):\n",
    "    \"\"\"\n",
    "    :param source_schema: Source schema name\n",
    "    :param patients_ids: Patient IDs for whom max date is required\n",
    "    :return: A DataFrame with patient ID and max date\n",
    "    \"\"\"\n",
    "    dod_query = '''Select chai_patient_id, date_of_death from {}.patient where chai_patient_id in ({}) \n",
    "        and (date_of_death is not null and date_part(year, date_of_death) >= 1950)'''.format(\n",
    "            source_schema, ', '.join([\"'\" + str(pat) + \"'\" for pat in patients_ids]))\n",
    "    dod_df = pl.read_database(dod_query,db_conn_uri)\n",
    "    \n",
    "#     dod_df[\"date_of_death\"] = pd.to_datetime(dod_df[\"date_of_death\"], errors='coerce')\n",
    "    return dod_df\n",
    "\n",
    "def download_last_activity_date_dod(source_schema, patients_ids):\n",
    "    \"\"\"\n",
    "    This function returns max date information\n",
    "\n",
    "    :param dtu: DTU object for downloading tables from redshift\n",
    "    :param source_schema: Source schema name\n",
    "    :param patients_ids: Patient IDs for whom max date is required\n",
    "    :return: A DataFrame with patient ID and max date\n",
    "    \"\"\"\n",
    "#     dod_df = download_dod(source_schema, patients_ids)\n",
    "    \n",
    "    date_fields = {'medication': 'med_start_date', 'patient_test': 'test_date', 'tumor_exam': 'exam_date',\n",
    "                   'care_goal': 'treatment_plan_start_date', 'surgery': 'surgery_date', 'radiation': 'rad_start_date',\n",
    "                   'condition': 'diagnosis_date', 'adverse_event': 'adverse_event_date', 'encounter': 'encounter_date',\n",
    "                   'disease_status': 'assessment_date', 'staging': 'stage_date'}\n",
    "#     date_fields = {'medication': 'latest_date_medication__202312181034', 'patient_test': 'latest_date_patient_test_202312181038', 'tumor_exam': 'latest_date_tumor_exam_202312181040',\n",
    "#                    'surgery': 'latest_date_surgery_202312181046', 'radiation': 'latest_date_radiation_202312181051',\n",
    "#                    'condition': 'latest_date_condition_202312181053', 'adverse_event': 'latest_date_adverse_event_202312181059', 'encounter': 'latest_date_encounter_202312181101',\n",
    "#                    'disease_status': 'latest_date_disease_status_202312181200', 'staging': 'latest_date_staging_202312181201'}\n",
    "    \n",
    "    visits = pl.DataFrame()\n",
    "    for key, value in date_fields.items():\n",
    "        last_date_query = '''Select distinct chai_patient_id, max({column_name}) as max_date\n",
    "                                                       from {source_schema}.{table_name} where {column_name} is not null and \n",
    "                                                       chai_patient_id in ({pats_list}) group by chai_patient_id '''.format(\n",
    "            column_name=value,\n",
    "            table_name=key,\n",
    "            source_schema=source_schema,\n",
    "            pats_list=', '.join([\"'\" + str(pat) + \"'\" for pat in patients_ids]))\n",
    "        last_date_df = pl.read_database(last_date_query,db_conn_uri)\n",
    "#         last_date_df = pl.read_csv(f'data_backup/{value}.csv')\n",
    "        \n",
    "        visits = pl.concat([visits,last_date_df])\n",
    "   \n",
    "    last_medical_activity = visits.sort(['chai_patient_id', 'max_date'], descending=True)\\\n",
    "                                        .unique(['chai_patient_id']).rename({\"max_date\":\"last_activity_date\"})#.join(dod_df, on=\"chai_patient_id\", how=\"left\")\n",
    "#     last_medical_activity = last_medical_activity.with_columns(pl.min_horizontal('date_of_death','max_date')\\\n",
    "#                                                                .alias('last_activity_date')).drop(['date_of_death', 'max_date'])\n",
    "\n",
    "    last_medical_activity = last_medical_activity.with_columns(pl.col('last_activity_date').apply(lambda x:x.date()))\n",
    "#     last_medical_activity = last_medical_activity.with_columns(pl.col('last_activity_date').str.to_datetime(\"%Y-%m-%d %H:%M:%S\").cast(pl.Date))\n",
    "    return last_medical_activity"
   ]
  },
  {
   "cell_type": "code",
   "execution_count": null,
   "id": "2b228e64",
   "metadata": {},
   "outputs": [],
   "source": [
    "last_date_df = download_last_activity_date_dod(schema,set(list(lab_test_df['chai_patient_id'])))\n",
    "last_date_df = last_date_df.with_columns(pl.col('last_activity_date').apply(lambda x:datetime.date.today() if (x>datetime.date.today()) else x))"
   ]
  },
  {
   "cell_type": "code",
   "execution_count": null,
   "id": "09a4fde4",
   "metadata": {},
   "outputs": [],
   "source": [
    "last_date_df = last_date_df.filter(pl.col('chai_patient_id').is_in(set(list(lab_test_df['chai_patient_id']))))"
   ]
  },
  {
   "cell_type": "code",
   "execution_count": null,
   "id": "f8223bcf",
   "metadata": {},
   "outputs": [],
   "source": [
    "last_date_df['chai_patient_id'].unique().shape"
   ]
  },
  {
   "cell_type": "code",
   "execution_count": null,
   "id": "ea5a2cdd",
   "metadata": {},
   "outputs": [],
   "source": [
    "last_date_df.shape"
   ]
  },
  {
   "cell_type": "code",
   "execution_count": null,
   "id": "ea8bbf8c",
   "metadata": {},
   "outputs": [],
   "source": [
    "pat_id_df_updated = pat_id_df.select(['chai_patient_id','diagnosis_date'])\\\n",
    "                            .sort(by =['chai_patient_id','diagnosis_date'],descending=False)\\\n",
    "                            .unique(subset=['chai_patient_id'],keep='first').drop_nulls()\n",
    "pat_id_df_updated = pat_id_df_updated.with_columns(pl.col('diagnosis_date').apply(lambda x:x.date()))\n",
    "pat_id_df_updated = pat_id_df_updated.filter(pl.col('chai_patient_id').is_in(set(list(lab_test_df['chai_patient_id']))))"
   ]
  },
  {
   "cell_type": "code",
   "execution_count": null,
   "id": "2b8f56d1",
   "metadata": {},
   "outputs": [],
   "source": [
    "criteria_df = criteria_df.filter(pl.col('chai_patient_id').is_in(lab_test_df['chai_patient_id']))"
   ]
  },
  {
   "cell_type": "code",
   "execution_count": null,
   "id": "48c8df54",
   "metadata": {},
   "outputs": [],
   "source": [
    "criteria_df_merged = criteria_df.join(pat_id_df_updated,on='chai_patient_id',how='outer').join(last_date_df,on='chai_patient_id',how='outer')\n",
    "criteria_df_merged.shape"
   ]
  },
  {
   "cell_type": "code",
   "execution_count": null,
   "id": "1e23e6a2",
   "metadata": {},
   "outputs": [],
   "source": [
    "criteria_df_merged = criteria_df_merged.filter(pl.col('diagnosis_date')<pl.col('last_activity_date'))"
   ]
  },
  {
   "cell_type": "code",
   "execution_count": null,
   "id": "9d4aab84",
   "metadata": {},
   "outputs": [],
   "source": [
    "criteria_df_merged = criteria_df_merged.filter(((pl.col('last_activity_date')>pl.col('min_date')) & (pl.col('diagnosis_date')<pl.col('min_date'))) | pl.col('min_date').is_null())"
   ]
  },
  {
   "cell_type": "code",
   "execution_count": null,
   "id": "3427b154",
   "metadata": {},
   "outputs": [],
   "source": [
    "criteria_df = pl.concat([criteria_df_merged[['chai_patient_id','min_date']].drop_nulls(),criteria_df_merged[['chai_patient_id','diagnosis_date']].rename({'diagnosis_date':'min_date'})])\n",
    "criteria_df = pl.concat([criteria_df,criteria_df_merged[['chai_patient_id','last_activity_date']].rename({'last_activity_date':'min_date'})])\n",
    "criteria_df = criteria_df.unique()\n",
    "criteria_df.shape"
   ]
  },
  {
   "cell_type": "code",
   "execution_count": null,
   "id": "cb5012a4",
   "metadata": {},
   "outputs": [],
   "source": [
    "criteria_df.unique().shape"
   ]
  },
  {
   "cell_type": "code",
   "execution_count": null,
   "id": "45aefc65",
   "metadata": {},
   "outputs": [],
   "source": [
    "def get_time_windows(date_list):\n",
    "    start_date=[]\n",
    "    end_date=[]\n",
    "    final_selection = []\n",
    "    pc = 0\n",
    "    progression_count = []\n",
    "    prg_cnt_2_years = []\n",
    "    for i in range(len(date_list)-1):  \n",
    "        start_date.append(date_list[i])\n",
    "        end_date.append(date_list[i+1])\n",
    "        final_selection.append(True)\n",
    "        pc_2_year=0\n",
    "        for j in range(1,i):\n",
    "            if (date_list[j]<=date_list[i+1]) and (date_list[j]>=(date_list[i+1]-timedelta(days=730))):\n",
    "                pc_2_year+=1\n",
    "                \n",
    "        prg_cnt_2_years.append(pc_2_year)\n",
    "        progression_count.append(pc)\n",
    "        pc+=1\n",
    "    final_selection[-1] = False\n",
    "    return({'start_date':start_date,'end_date':end_date,'final_selection':final_selection,'progression_count':progression_count,'prg_cnt_2_years':prg_cnt_2_years})\n",
    "\n",
    "criteria_df = criteria_df.sort(by=['chai_patient_id','min_date'],descending=False)\\\n",
    "                        .groupby(['chai_patient_id']).agg(pl.col('min_date'))\\\n",
    "                        .filter(pl.col('min_date').apply(lambda x:len(x)>1))\\\n",
    "                        .with_columns(pl.col('min_date').apply(lambda x:get_time_windows(x)).alias('windows'))\\\n",
    "                        .unnest('windows')\\\n",
    "                        .drop('min_date')\\\n",
    "                        .explode(['start_date','end_date','final_selection','progression_count','prg_cnt_2_years'])"
   ]
  },
  {
   "cell_type": "code",
   "execution_count": null,
   "id": "5a33b4f6",
   "metadata": {},
   "outputs": [],
   "source": [
    "criteria_df = criteria_df.filter((pl.col('start_date')<datetime.date(2023,6,17)) & (pl.col('end_date')>datetime.date(2023,6,17)))"
   ]
  },
  {
   "cell_type": "code",
   "execution_count": null,
   "id": "4171b1c7",
   "metadata": {},
   "outputs": [],
   "source": [
    "criteria_df.shape"
   ]
  },
  {
   "cell_type": "code",
   "execution_count": null,
   "id": "4b2fc684",
   "metadata": {},
   "outputs": [],
   "source": [
    "criteria_df[['chai_patient_id']].unique().shape"
   ]
  },
  {
   "cell_type": "code",
   "execution_count": null,
   "id": "5e68d1d3",
   "metadata": {},
   "outputs": [],
   "source": [
    "# random.seed(123)\n",
    "criteria_df = criteria_df.with_columns(pl.struct(['start_date','end_date']).apply(lambda x:(x['end_date']-x['start_date']).days).alias('diff'))\n",
    "criteria_df = criteria_df.with_columns(pl.lit(datetime.date(2023,6,17)).alias('random_date'))\n",
    "# criteria_df = criteria_df.with_columns(pl.struct(['diff','start_date']).apply(lambda x:x['start_date']+timedelta(days=random.randint(1,x['diff']))).alias('random_date'))"
   ]
  },
  {
   "cell_type": "code",
   "execution_count": null,
   "id": "31add75a",
   "metadata": {},
   "outputs": [],
   "source": [
    "criteria_df = criteria_df.with_columns(pl.struct(['random_date','end_date']).apply(lambda x:(x['end_date']-x['random_date']).days).alias('label'))"
   ]
  },
  {
   "cell_type": "code",
   "execution_count": null,
   "id": "e06be58f",
   "metadata": {},
   "outputs": [],
   "source": [
    "criteria_df.head()"
   ]
  },
  {
   "cell_type": "code",
   "execution_count": null,
   "id": "f8c46dbe",
   "metadata": {},
   "outputs": [],
   "source": []
  },
  {
   "cell_type": "code",
   "execution_count": null,
   "id": "d78cb64e",
   "metadata": {},
   "outputs": [],
   "source": [
    "lab_test_df = lab_test_df.join(criteria_df.select(['chai_patient_id','start_date','random_date']), on ='chai_patient_id',how='inner')\n",
    "lab_test_df['chai_patient_id'].unique().shape"
   ]
  },
  {
   "cell_type": "code",
   "execution_count": null,
   "id": "cefc8419",
   "metadata": {},
   "outputs": [],
   "source": [
    "lab_test_df.head()"
   ]
  },
  {
   "cell_type": "code",
   "execution_count": null,
   "id": "d78b4481",
   "metadata": {},
   "outputs": [],
   "source": [
    "lab_test_df.shape"
   ]
  },
  {
   "cell_type": "code",
   "execution_count": null,
   "id": "051edfae",
   "metadata": {},
   "outputs": [],
   "source": [
    "lab_test_df = lab_test_df.filter((pl.col('test_date')>pl.col('start_date')) & (pl.col('test_date')<=pl.col('random_date')))"
   ]
  },
  {
   "cell_type": "code",
   "execution_count": null,
   "id": "813a94b5",
   "metadata": {},
   "outputs": [],
   "source": [
    "# lab_test_df = lab_test_df.with_columns(pl.struct(['test_date','start_date']).apply(lambda x:(x['test_date']-x['start_date']).days).alias('test_diff'))\n",
    "lab_test_df = lab_test_df.sort(by=['chai_patient_id','start_date','test_name_standard_code','test_date'],descending=False)\n",
    "\n",
    "print(lab_test_df['test_name_standard_code'].unique().shape)\n",
    "lab_test_df.shape"
   ]
  },
  {
   "cell_type": "code",
   "execution_count": null,
   "id": "650ac910",
   "metadata": {},
   "outputs": [],
   "source": [
    "# lab_test_df = lab_test_df.filter(pl.col('test_diff')<=pl.col('random_point'))\n",
    "min_df = lab_test_df.groupby(['chai_patient_id','start_date','test_name_standard_code']).agg(pl.col('test_value_numeric').min().alias('nadir_value'))"
   ]
  },
  {
   "cell_type": "code",
   "execution_count": null,
   "id": "2f5afd3d",
   "metadata": {},
   "outputs": [],
   "source": [
    "min_df.shape"
   ]
  },
  {
   "cell_type": "code",
   "execution_count": null,
   "id": "f362b19e",
   "metadata": {},
   "outputs": [],
   "source": [
    "lab_test_df = lab_test_df.filter(pl.struct(['test_date','random_date']).apply(lambda x:True if (x['test_date']>(x['random_date']-timedelta(days=90))) else False))\n",
    "print(lab_test_df['chai_patient_id'].unique().shape)\n",
    "lab_test_df.shape"
   ]
  },
  {
   "cell_type": "code",
   "execution_count": null,
   "id": "cc677d28",
   "metadata": {},
   "outputs": [],
   "source": [
    "latest_lab_test_df = lab_test_df.sort(by=['chai_patient_id','start_date','test_name_standard_code','test_date'],descending=True)\\\n",
    "                        .unique(subset=['chai_patient_id','start_date','test_name_standard_code'],keep='first')\\\n",
    "                        .select(['chai_patient_id','start_date','test_name_standard_code','test_value_numeric','test_date'])\n",
    "lab_test_df.shape"
   ]
  },
  {
   "cell_type": "code",
   "execution_count": null,
   "id": "9546acd3",
   "metadata": {},
   "outputs": [],
   "source": [
    "nadir_df = min_df.join(latest_lab_test_df.select(['chai_patient_id','start_date','test_name_standard_code','test_value_numeric','test_date']),on=['chai_patient_id','start_date','test_name_standard_code'],how='inner')\n",
    "nadir_df = nadir_df.with_columns(pl.struct(['test_value_numeric','nadir_value'])\\\n",
    "                                  .apply(lambda x:x['test_value_numeric']-x['nadir_value']).alias('abs_change_from_nadir'))\n",
    "nadir_df = nadir_df.with_columns(pl.struct(['test_value_numeric','nadir_value']).apply(lambda x:(x['test_value_numeric']-x['nadir_value'])/(x['nadir_value']+0.0001)).alias('perc_change_from_nadir'))"
   ]
  },
  {
   "cell_type": "code",
   "execution_count": null,
   "id": "f30f2d7f",
   "metadata": {},
   "outputs": [],
   "source": [
    "nadir_df.head()"
   ]
  },
  {
   "cell_type": "code",
   "execution_count": null,
   "id": "31d57247",
   "metadata": {},
   "outputs": [],
   "source": [
    "nadir_df.shape"
   ]
  },
  {
   "cell_type": "code",
   "execution_count": null,
   "id": "91a9c0ac",
   "metadata": {},
   "outputs": [],
   "source": [
    "# thresold_map = {'m_protein_in_serum':0.5,'m_protein_in_urine':200,'serum_free_light_kappa':10,'serum_free_light_lambda':10}\n",
    "# feat_lab_list = list(lab_class_map.keys())\n",
    "# final_stat_df = pl.DataFrame({'chai_patient_id': list(set(lab_test_df['chai_patient_id']))})\n",
    "\n",
    "# for lab in feat_lab_list:\n",
    "#     if lab==2:\n",
    "#         continue\n",
    "#     lab_name = lab_class_map[lab]\n",
    "#     temp_df = lab_test_df.filter(pl.col('test_name_standard_code')==lab)\\\n",
    "#                         .select(['chai_patient_id','test_value_numeric'])\\\n",
    "#                         .rename({'test_value_numeric':lab_name})\n",
    "#     if temp_df.shape[0]>0:\n",
    "# #         temp_df = temp_df.with_columns(pl.col(lab_name).apply(lambda x:x-thresold_map[lab_name] if (x>=thresold_map[lab_name]) else None).alias(f'{lab_name}_base_diff'))\n",
    "#         final_stat_df = final_stat_df.join(temp_df,on='chai_patient_id',how='left')\n",
    "#     else:\n",
    "#         final_stat_df = final_stat_df.with_columns(pl.lit(None).alias(lab_name))\n",
    "# #         final_stat_df = final_stat_df.with_columns(pl.lit(None).alias(lab_name),pl.lit(None).alias(f'{lab_name}_base_diff'))\n",
    "        \n",
    "#     temp_df = nadir_df.filter(pl.col('test_name_standard_code')==lab)\\\n",
    "#                         .select(['chai_patient_id','abs_change_from_nadir','perc_change_from_nadir'])\\\n",
    "#                         .rename({'abs_change_from_nadir':f'abs_change_from_nadir_{lab_name}',\n",
    "#                                  'perc_change_from_nadir':f'perc_change_from_nadir_{lab_name}'})\n",
    "#     if temp_df.shape[0]>0:\n",
    "#         final_stat_df = final_stat_df.join(temp_df,on='chai_patient_id',how='left')\n",
    "#     else:\n",
    "#         final_stat_df = final_stat_df.with_columns(pl.lit(None).alias(f'abs_change_from_nadir_{lab_name}'),\\\n",
    "#                                                   pl.lit(None).alias(f'perc_change_from_nadir_{lab_name}'))\n",
    "#################################        \n",
    "        \n",
    "feat_lab_list = list(lab_class_map.keys())\n",
    "final_stat_df = pl.DataFrame({'chai_patient_id': list(set(lab_test_df['chai_patient_id']))})\n",
    "final_stat_df = lab_test_df[['chai_patient_id','start_date']].unique()\n",
    "\n",
    "for lab in feat_lab_list:\n",
    "    if lab==2:\n",
    "        continue\n",
    "    lab_name = lab_class_map[lab]\n",
    "    lab_codes = lab_dict[lab_name]\n",
    "#     temp_df = lab_test_df.filter(pl.col('test_name_standard_code')==lab)\n",
    "    temp_df = lab_test_df.filter(pl.col('test_name_standard_code').is_in(lab_codes))\n",
    "    temp_df = temp_df.sort(by=['chai_patient_id','start_date','test_date'],descending=True)\\\n",
    "                    .unique(subset=['chai_patient_id','start_date'],keep='first')\\\n",
    "                    .select(['chai_patient_id','start_date','test_value_numeric'])\\\n",
    "                    .rename({'test_value_numeric':lab_name})\n",
    "    if temp_df.shape[0]>0:\n",
    "#         temp_df = temp_df.with_columns(pl.col(lab_name).apply(lambda x:x-thresold_map[lab_name] if (x>=thresold_map[lab_name]) else None).alias(f'{lab_name}_base_diff'))\n",
    "        final_stat_df = final_stat_df.join(temp_df,on=['chai_patient_id','start_date'],how='left')\n",
    "    else:\n",
    "        final_stat_df = final_stat_df.with_columns(pl.lit(None).alias(lab_name))\n",
    "#         final_stat_df = final_stat_df.with_columns(pl.lit(None).alias(lab_name),pl.lit(None).alias(f'{lab_name}_base_diff'))\n",
    "        \n",
    "#     temp_df = nadir_df.filter(pl.col('test_name_standard_code')==lab)\\\n",
    "    temp_df = nadir_df.filter(pl.col('test_name_standard_code').is_in(lab_codes))\n",
    "    temp_df = temp_df.sort(by=['chai_patient_id','start_date','test_date'],descending=True)\\\n",
    "                    .unique(subset=['chai_patient_id','start_date'],keep='first')\\\n",
    "                    .select(['chai_patient_id','start_date','abs_change_from_nadir','perc_change_from_nadir'])\\\n",
    "                    .rename({'abs_change_from_nadir':f'abs_change_from_nadir_{lab_name}',\n",
    "                                 'perc_change_from_nadir':f'perc_change_from_nadir_{lab_name}'})\n",
    "    if temp_df.shape[0]>0:\n",
    "        final_stat_df = final_stat_df.join(temp_df,on=['chai_patient_id','start_date'],how='left')\n",
    "    else:\n",
    "        final_stat_df = final_stat_df.with_columns(pl.lit(None).alias(f'abs_change_from_nadir_{lab_name}'),\\\n",
    "                                                  pl.lit(None).alias(f'perc_change_from_nadir_{lab_name}'))"
   ]
  },
  {
   "cell_type": "code",
   "execution_count": null,
   "id": "cd1b32c8",
   "metadata": {},
   "outputs": [],
   "source": [
    "final_stat_df.shape"
   ]
  },
  {
   "cell_type": "code",
   "execution_count": null,
   "id": "d3279de6",
   "metadata": {},
   "outputs": [],
   "source": [
    "final_stat_df = final_stat_df.join(criteria_df[['chai_patient_id','start_date','end_date','label','final_selection','diff','progression_count','prg_cnt_2_years']],on=['chai_patient_id','start_date'],how='inner')"
   ]
  },
  {
   "cell_type": "code",
   "execution_count": null,
   "id": "3b594d07",
   "metadata": {},
   "outputs": [],
   "source": [
    "final_stat_df = final_stat_df.join(c1_df,left_on=['chai_patient_id','end_date'],right_on=['chai_patient_id','min_date'],how='left')"
   ]
  },
  {
   "cell_type": "code",
   "execution_count": null,
   "id": "967da738",
   "metadata": {},
   "outputs": [],
   "source": [
    "end = time.time()\n",
    "print(end-start)"
   ]
  },
  {
   "cell_type": "code",
   "execution_count": null,
   "id": "d82362c8",
   "metadata": {},
   "outputs": [],
   "source": [
    "final_stat_df = final_stat_df.fill_nan(None)"
   ]
  },
  {
   "cell_type": "code",
   "execution_count": null,
   "id": "aabbcd0b",
   "metadata": {},
   "outputs": [],
   "source": [
    "final_stat_df = final_stat_df.filter(~pl.all_horizontal(pl.col(['m_protein_in_serum','m_protein_in_urine','serum_free_light_kappa','serum_free_light_lambda'\n",
    "                            ]).is_null()))\n",
    "final_stat_df.shape"
   ]
  },
  {
   "cell_type": "code",
   "execution_count": null,
   "id": "53ec2576",
   "metadata": {},
   "outputs": [],
   "source": [
    "def to_pandas(df):\n",
    "    \"\"\"\n",
    "    Method to convert Polars DataFrame Object to Pandas Data Frame Object\n",
    "    \n",
    "    ARGUMENTS:\n",
    "    ----------\n",
    "    df: Polars.DataFrame: Polars Data Frame object to convert\n",
    "    \n",
    "    RETURNS:\n",
    "    --------\n",
    "    pandas_df: Pandas.DataFrame\n",
    "    \"\"\"\n",
    "    \n",
    "    pandas_df = df.to_pandas()\n",
    "    \n",
    "    #Polars boolean dtype is converted to object type through `to_pandas()`, recasting to boolean type\n",
    "    bool_cols = df.select(pl.col(pl.Boolean)).columns\n",
    "    for col in bool_cols:\n",
    "        pandas_df[col] = pandas_df[col].astype('bool')\n",
    "        \n",
    "    float_cols = df.select(pl.col(pl.Float64)).columns\n",
    "    float_cols+= df.select(pl.col(pl.Null)).columns\n",
    "    for col in float_cols:\n",
    "        pandas_df[col] = pandas_df[col].astype('float')\n",
    "    \n",
    "    return pandas_df\n",
    "\n",
    "final_stat_df = to_pandas(final_stat_df)"
   ]
  },
  {
   "cell_type": "code",
   "execution_count": null,
   "id": "346a373e",
   "metadata": {},
   "outputs": [],
   "source": [
    "for col in final_stat_df.columns:\n",
    "    if '[#/volume]' in col:\n",
    "        final_stat_df = final_stat_df.rename(columns={col:col.replace('[#/volume]','').replace('  ',' ')})\n",
    "    if '[Mass/volume]' in col:\n",
    "        final_stat_df = final_stat_df.rename(columns={col:col.replace('[Mass/volume]','').replace('  ',' ')})\n",
    "    if '[mass/volume]' in col:\n",
    "        final_stat_df = final_stat_df.rename(columns={col:col.replace('[mass/volume]','').replace('  ',' ')})    \n",
    "    if '[Mass/time]' in col:\n",
    "        final_stat_df = final_stat_df.rename(columns={col:col.replace('[Mass/time]','').replace('  ',' ')})\n",
    "    if '[Enzymatic activity/volume]' in col:\n",
    "        final_stat_df = final_stat_df.rename(columns={col:col.replace('[Enzymatic activity/volume]','').replace('  ',' ')})\n",
    "    if '[Mass Ratio]' in col:\n",
    "        final_stat_df = final_stat_df.rename(columns={col:col.replace('[Mass Ratio]','').replace('  ',' ')})\n",
    "    if '[Presence]' in col:\n",
    "        final_stat_df = final_stat_df.rename(columns={col:col.replace('[Presence]','').replace('  ',' ')})\n",
    "    if '[Mass/time in 24 hour Urine by Electrophoresis_0]' in col:\n",
    "        final_stat_df = final_stat_df.rename(columns={col:col.replace('[Mass/time in 24 hour Urine by Electrophoresis_0]','').replace('  ',' ')})\n",
    "    if '[moles/volume]' in col :\n",
    "        final_stat_df = final_stat_df.rename(columns={col:col.replace('[moles/volume]','').replace('  ',' ')})\n",
    "    if '[interpretation]' in col:\n",
    "        final_stat_df = final_stat_df.rename(columns={col:col.replace('[interpretation]','').replace('  ',' ')})\n",
    "    if ('[' in col) or (']' in col):\n",
    "        final_stat_df = final_stat_df.rename(columns={col:col.replace('[','').replace(']','')})"
   ]
  },
  {
   "cell_type": "code",
   "execution_count": null,
   "id": "fdddbfdb",
   "metadata": {},
   "outputs": [],
   "source": [
    "train_pat = random.sample(list(final_stat_df['chai_patient_id'].unique()),int(final_stat_df['chai_patient_id'].unique().shape[0]*0.8))\n",
    "final_stat_df_train = final_stat_df[final_stat_df['chai_patient_id'].isin(train_pat)]\n",
    "final_stat_df_test = final_stat_df[~final_stat_df['chai_patient_id'].isin(train_pat)]"
   ]
  },
  {
   "cell_type": "code",
   "execution_count": null,
   "id": "cca4ab4e",
   "metadata": {},
   "outputs": [],
   "source": [
    "final_stat_df.head()"
   ]
  },
  {
   "cell_type": "code",
   "execution_count": null,
   "id": "3a38889b",
   "metadata": {},
   "outputs": [],
   "source": [
    "x = final_stat_df.drop(['chai_patient_id','start_date','end_date','final_selection','label','diff','criteria_1','progression_count'],axis=1)\n",
    "y = convert_to_structured((final_stat_df['label']),final_stat_df['final_selection'])"
   ]
  },
  {
   "cell_type": "code",
   "execution_count": null,
   "id": "74ad1ba1",
   "metadata": {},
   "outputs": [],
   "source": [
    "x.head()"
   ]
  },
  {
   "cell_type": "code",
   "execution_count": null,
   "id": "a7b2fffe",
   "metadata": {},
   "outputs": [],
   "source": [
    "x.dropna(how='all').shape"
   ]
  },
  {
   "cell_type": "code",
   "execution_count": null,
   "id": "7a10c440",
   "metadata": {},
   "outputs": [],
   "source": [
    "print(x.shape)\n",
    "text_file.write(f'x shape : {x.shape} \\n')"
   ]
  },
  {
   "cell_type": "code",
   "execution_count": null,
   "id": "32095d37",
   "metadata": {},
   "outputs": [],
   "source": [
    "text_file.write(f'label distribution : \\n{pd.DataFrame(y)[\"c1\"].value_counts()} \\n\\n')"
   ]
  },
  {
   "cell_type": "code",
   "execution_count": null,
   "id": "5cb9c046",
   "metadata": {},
   "outputs": [],
   "source": [
    "text_file.write('Stats for duration between dx and event/censor date \\n')\n",
    "text_file.write(f\"{final_stat_df['diff'].describe(percentiles=[0.1,0.25,0.50,0.75,0.9])} \\n\\n\")"
   ]
  },
  {
   "cell_type": "code",
   "execution_count": null,
   "id": "4ac7f25d",
   "metadata": {},
   "outputs": [],
   "source": [
    "text_file.write('Stats for duration between random point and event/censor date \\n')\n",
    "text_file.write(f\"{final_stat_df['label'].describe(percentiles=[0.1,0.25,0.50,0.75,0.9])} \\n\\n\")"
   ]
  },
  {
   "cell_type": "code",
   "execution_count": null,
   "id": "5acf2f33",
   "metadata": {},
   "outputs": [],
   "source": [
    "print(f'c-index : {concordance_index(y, xgbse_model.predict(x))}')\n",
    "text_file.write(f'c-index : {concordance_index(y, xgbse_model.predict(x))} \\n\\n')"
   ]
  },
  {
   "cell_type": "code",
   "execution_count": null,
   "id": "99b3a877",
   "metadata": {},
   "outputs": [],
   "source": [
    "output_dir"
   ]
  },
  {
   "cell_type": "code",
   "execution_count": null,
   "id": "7b6ae352",
   "metadata": {},
   "outputs": [],
   "source": [
    "import pickle\n",
    "import joblib\n",
    "date = '05_02_2024'\n",
    "# # event_prob_df = pd.read_csv(f'data_backup/event_prob_df_{date}.csv')\n",
    "# x_train = pd.read_csv(f'{output_dir}x_train_{date}.csv')\n",
    "# x_test = pd.read_csv(f'{output_dir}x_test_{date}.csv')\n",
    "# y_train = np.load(f'{output_dir}y_train_{date}.npy')\n",
    "# y_test = np.load(f'{output_dir}y_test_{date}.npy')\n",
    "# final_stat_df = pd.read_csv(f'{output_dir}final_stat_df_{date}.csv')\n",
    "\n",
    "with open(f'{output_dir}model_{date}.pkl','rb') as f:\n",
    "    xgbse_model = pickle.load(f) "
   ]
  },
  {
   "cell_type": "code",
   "execution_count": null,
   "id": "1dcc9286",
   "metadata": {},
   "outputs": [],
   "source": [
    "# final_stat_df = final_stat_df.drop(['start_date','end_date','final_selection','label','diff','criteria_1','progression_count'],axis=1)\n",
    "prediction_df = 1-pd.DataFrame(xgbse_model.predict(x))"
   ]
  },
  {
   "cell_type": "code",
   "execution_count": null,
   "id": "56de9e39",
   "metadata": {},
   "outputs": [],
   "source": [
    "prediction_df.shape"
   ]
  },
  {
   "cell_type": "code",
   "execution_count": null,
   "id": "03404662",
   "metadata": {},
   "outputs": [],
   "source": [
    "result_df = pd.concat([final_stat_df,prediction_df],axis=1)\n",
    "result_df.shape"
   ]
  },
  {
   "cell_type": "code",
   "execution_count": null,
   "id": "f88f7504",
   "metadata": {},
   "outputs": [],
   "source": [
    "criteria_df = criteria_df.to_pandas()\n",
    "result_df = criteria_df.merge(result_df,on=['chai_patient_id'],how = 'inner')\n",
    "result_df.head()"
   ]
  },
  {
   "cell_type": "code",
   "execution_count": null,
   "id": "ac4510a4",
   "metadata": {},
   "outputs": [],
   "source": [
    "result_df.to_csv(f'{output_dir_infer}Inference_prediction_17_06_2023_index_{date}.csv',index=False)"
   ]
  },
  {
   "cell_type": "code",
   "execution_count": null,
   "id": "bb59786b",
   "metadata": {},
   "outputs": [],
   "source": [
    "text_file.close()"
   ]
  },
  {
   "cell_type": "code",
   "execution_count": null,
   "id": "62020f00",
   "metadata": {},
   "outputs": [],
   "source": [
    "from sklearn.metrics import PrecisionRecallDisplay,ConfusionMatrixDisplay,confusion_matrix,roc_auc_score\n",
    "import matplotlib.pyplot as plt\n",
    "# combined_test_info_df = event_prob_df.join(x_test).merge(final_stat_df[['index','chai_patient_id','label','final_selection']],on='index',how='inner')\n",
    "\n",
    "text_file.write('GT Label counts at different prediction windows \\n')\n",
    "combined_test_info_df = event_prob_df.join(x_test.reset_index()).merge(final_stat_df.reset_index()[['index','chai_patient_id','label','final_selection']],on='index',how='inner')\n",
    "for i in [30,60,90,120,150,180]:\n",
    "    combined_test_info_df[f'final_selection_{i}'] = combined_test_info_df.apply(lambda x: False if x['label']>i else x['final_selection'],axis=1)\n",
    "    print(combined_test_info_df[f'final_selection_{i}'].value_counts())\n",
    "    print(f\"ROC AUC Score : {roc_auc_score(combined_test_info_df[f'final_selection_{i}'], combined_test_info_df[i])}\")\n",
    "    text_file.write(f'Label counts for window : {i} \\n')\n",
    "    text_file.write(f\"{combined_test_info_df[f'final_selection_{i}'].value_counts()} \\n\\n\")\n",
    "    PrecisionRecallDisplay.from_predictions(combined_test_info_df[f'final_selection_{i}'], combined_test_info_df[i], name=\"PA_model\", plot_chance_level=True)\n",
    "    plt.title(f'window : {i}')\n",
    "    plt.savefig(f'{output_dir}/PRC_Window_{i}.png')\n",
    "    plt.plot()\n",
    "    \n",
    "text_file.close()"
   ]
  },
  {
   "cell_type": "code",
   "execution_count": null,
   "id": "8f6a8809",
   "metadata": {},
   "outputs": [],
   "source": [
    "# text_file.close()"
   ]
  },
  {
   "cell_type": "code",
   "execution_count": null,
   "id": "e5da773e",
   "metadata": {},
   "outputs": [],
   "source": [
    "from sklearn.metrics import ConfusionMatrixDisplay,confusion_matrix\n",
    "import matplotlib.pyplot as plt\n",
    "# combined_test_info_df = event_prob_df.join(x_test.reset_index()).merge(final_stat_df.reset_index()[['index','chai_patient_id','label','final_selection']],on='index',how='inner')\n",
    "\n",
    "for window in [30,60,90,120,150,180]:\n",
    "    for thresold in [0.1]:\n",
    "        combined_test_info_df[f'pred_{thresold}'] = combined_test_info_df[window].apply(lambda x:x>thresold)\n",
    "        cm = confusion_matrix(combined_test_info_df[f'final_selection_{window}'],combined_test_info_df[f'pred_{thresold}'])\n",
    "        disp = ConfusionMatrixDisplay(cm)\n",
    "        disp.plot()\n",
    "        plt.title(f'Thresold : {thresold}, Window : {window}')\n",
    "        plt.savefig(f'{output_dir}/CF_thresold_{thresold}_Window_{window}.png')\n",
    "#         plt.show()"
   ]
  },
  {
   "cell_type": "code",
   "execution_count": null,
   "id": "773102d9",
   "metadata": {},
   "outputs": [],
   "source": [
    "from sklearn.metrics import ConfusionMatrixDisplay,confusion_matrix\n",
    "# combined_test_info_df = event_prob_df.join(x_test.reset_index()).merge(final_stat_df.reset_index()[['index','chai_patient_id','label','final_selection']],on='index',how='inner')\n",
    "metric_list = []\n",
    "for window in [30,60,90,120,150,180]:\n",
    "    window_df = pd.DataFrame({'window':[window]})\n",
    "    for thresold in [0.2,0.3,0.4,0.5,0.6,0.7,0.8]:\n",
    "        combined_test_info_df[f'pred_{thresold}'] = combined_test_info_df[window].apply(lambda x:x>thresold)\n",
    "        cm = confusion_matrix(combined_test_info_df[f'final_selection_{i}'],combined_test_info_df[f'pred_{thresold}'])\n",
    "        tn,fp,fn,tp = cm[0,0],cm[0,1],cm[1,0],cm[1,1]\n",
    "        p1 = tp/(tp+fp)\n",
    "        r1 = tp/(tp+fn)\n",
    "        f1 = 2*p1*r1/(p1+r1)\n",
    "        p0 = tn/(tn+fn)\n",
    "        r0 = tn/(tn+fp)\n",
    "        f0 = 2*p0*r0/(p0+r0)\n",
    "        window_df = pd.concat([window_df,pd.DataFrame({\n",
    "            f'tn_{thresold}' : [tn],\n",
    "            f'fp_{thresold}' : [fp],\n",
    "            f'fn_{thresold}' : [fn],\n",
    "            f'tp_{thresold}' : [tp],\n",
    "            f'p1_{thresold}' : [p1],\n",
    "            f'r1_{thresold}' : [r1],\n",
    "            f'f1_{thresold}' : [f1],\n",
    "            f'p0_{thresold}' : [p0],\n",
    "            f'r0_{thresold}' : [r0],\n",
    "            f'f0_{thresold}' : [f0],\n",
    "        })],axis=1)\n",
    "    metric_list.append(window_df)\n",
    "metric_df = pd.concat(metric_list)"
   ]
  },
  {
   "cell_type": "code",
   "execution_count": null,
   "id": "6b295c56",
   "metadata": {},
   "outputs": [],
   "source": [
    "metric_df.to_csv(f'data_backup/metric_df_{date}.csv',index=False)"
   ]
  },
  {
   "cell_type": "code",
   "execution_count": null,
   "id": "1cf4749e",
   "metadata": {},
   "outputs": [],
   "source": [
    "for i in [30,60,90,120,150,180]:\n",
    "    print(i)\n",
    "    event_prob_df[i].hist(bins=100)\n",
    "    plt.savefig(f'{output_dir}predicted_prob_distribution_{i}.png')\n",
    "    plt.show()"
   ]
  },
  {
   "cell_type": "code",
   "execution_count": null,
   "id": "c24c4c85",
   "metadata": {},
   "outputs": [],
   "source": []
  }
 ],
 "metadata": {
  "kernelspec": {
   "display_name": "conda_python3",
   "language": "python",
   "name": "conda_python3"
  },
  "language_info": {
   "codemirror_mode": {
    "name": "ipython",
    "version": 3
   },
   "file_extension": ".py",
   "mimetype": "text/x-python",
   "name": "python",
   "nbconvert_exporter": "python",
   "pygments_lexer": "ipython3",
   "version": "3.10.14"
  }
 },
 "nbformat": 4,
 "nbformat_minor": 5
}
