{
 "cells": [
  {
   "cell_type": "code",
   "execution_count": null,
   "id": "713c5907",
   "metadata": {},
   "outputs": [],
   "source": [
    "import polars as pl\n",
    "import pandas as pd\n",
    "import datetime\n",
    "from datetime import timedelta\n",
    "import random\n",
    "import copy\n",
    "import numpy as np\n",
    "import time\n",
    "import traceback\n",
    "import shap\n",
    "from xgbse import (\n",
    "    XGBSEDebiasedBCE,\n",
    "#     XGBSEStackedWeibull,\n",
    "#     XGBSEKaplanNeighbors,\n",
    "#     XGBSEKaplanTree\n",
    ")\n",
    "from xgbse.metrics import concordance_index\n",
    "from xgbse.converters import (\n",
    "    convert_data_to_xgb_format,\n",
    "    convert_to_structured\n",
    ")\n",
    "\n",
    "from ai_knowledge.ai_knowledge.base.convert import *\n",
    "import yaml\n",
    "from sklearn.model_selection import train_test_split\n",
    "\n",
    "# from PA_GE_test.rule_execution import rules_check\n",
    "from sklearn.inspection import PartialDependenceDisplay\n",
    "\n",
    "import matplotlib.pyplot as plt\n",
    "\n",
    "today_date = datetime.date.today()\n",
    "clip_year = 2019"
   ]
  },
  {
   "cell_type": "code",
   "execution_count": null,
   "id": "38dafb2c",
   "metadata": {},
   "outputs": [],
   "source": [
    "import os\n",
    "output_dir = f'data_backup/output_feature_nadir_multiprogression_{today_date}/'\n",
    "if output_dir.split('/')[1] not in os.listdir('data_backup/'):\n",
    "    os.makedirs(output_dir)\n",
    "text_file = open(output_dir+'output.txt','w')"
   ]
  },
  {
   "cell_type": "code",
   "execution_count": null,
   "id": "60cbf487",
   "metadata": {},
   "outputs": [],
   "source": [
    "# text_file.write(\"Added progression count and kappa-lambda ration as feature\")"
   ]
  },
  {
   "cell_type": "code",
   "execution_count": null,
   "id": "59e75ae9",
   "metadata": {},
   "outputs": [],
   "source": [
    "with open('./ai_knowledge/ai_knowledge/base/keys_labs.yaml','r') as file:\n",
    "    lab_kb = yaml.safe_load(file)\n",
    "    \n",
    "lab_kb = {c['key']:c for c in lab_kb}\n",
    "\n",
    "with open('./ai_knowledge/ai_knowledge/base/keys_vitals.yaml','r') as file:\n",
    "    vital_kb = yaml.safe_load(file)\n",
    "    \n",
    "vital_kb = {c['key']:c for c in vital_kb}\n",
    "\n",
    "with open('./ai_knowledge/ai_knowledge/base/units.yaml','r') as file:\n",
    "    unite_conv_map = yaml.safe_load(file)\n",
    "    \n",
    "unite_conv_map = {c['base']:c for c in unite_conv_map}"
   ]
  },
  {
   "cell_type": "code",
   "execution_count": null,
   "id": "6c9b6b0c",
   "metadata": {},
   "outputs": [],
   "source": [
    "def get_stats(feature_name, values):\n",
    "     return pl.DataFrame({'feature':feature_name,'min':values.min(),\\\n",
    "                  'max':values.max(),'mean':values.mean(),'median':values.median(),\\\n",
    "                  'mode':values.mode(),'std':values.std()})\n",
    "    \n",
    "stat_df_list = []"
   ]
  },
  {
   "cell_type": "code",
   "execution_count": null,
   "id": "a72bf005",
   "metadata": {},
   "outputs": [],
   "source": [
    "def warn(*args, **kwargs):\n",
    "    pass\n",
    "import warnings\n",
    "warnings.warn = warn"
   ]
  },
  {
   "cell_type": "code",
   "execution_count": null,
   "id": "de937527",
   "metadata": {},
   "outputs": [],
   "source": [
    "start = time.time()"
   ]
  },
  {
   "cell_type": "code",
   "execution_count": null,
   "id": "3e0e59af",
   "metadata": {},
   "outputs": [],
   "source": [
    "#DB Connection Details\n",
    "host = \"c0-eurekarwd-web.crdektqhzze9.us-east-1.redshift.amazonaws.com\"\n",
    "port = \"5439\"\n",
    "dbname = \"c0_eurekarwd\"\n",
    "user = \"\"\n",
    "password = \"\""
   ]
  },
  {
   "cell_type": "code",
   "execution_count": null,
   "id": "dd433526",
   "metadata": {},
   "outputs": [],
   "source": [
    "# schema = 'dts_cdm_master'\n",
    "schema = 'dts_cdm_master_20240501s'"
   ]
  },
  {
   "cell_type": "code",
   "execution_count": null,
   "id": "555a2445",
   "metadata": {},
   "outputs": [],
   "source": [
    "db_conn_uri = \"redshift://{user}:{pwd}@{server}:{port}/{db}\".format(user=user.replace('@','%40'), pwd=password.replace('@','%40'), server=host, port=port, db=dbname)\n",
    "chai_patid_query = \"select chai_patient_id,diagnosis_date,diagnosis_code_standard_code,diagnosis_code_standard_name from {schema}.condition where (lower(diagnosis_code_standard_name) like '%multiple%myeloma%' or lower(diagnosis_code_standard_code) like 'C90.0%') and extract(year from diagnosis_date) > 2019\".format(schema=schema)\n",
    "pat_id_df = pl.read_database(chai_patid_query,db_conn_uri)"
   ]
  },
  {
   "cell_type": "code",
   "execution_count": null,
   "id": "44d97016",
   "metadata": {},
   "outputs": [],
   "source": [
    "# pat_id_df = pat_id_df.with_columns(pl.col('diagnosis_date').cast(pl.Date))\n",
    "# rules_check(pat_id_df,'condition','qcca_cdm_master','condition_rule_checks.xlsx')"
   ]
  },
  {
   "cell_type": "code",
   "execution_count": null,
   "id": "9d3e63ca",
   "metadata": {},
   "outputs": [],
   "source": [
    "pat_id_df_updated = pat_id_df.select(['chai_patient_id','diagnosis_date'])\\\n",
    "            .sort(by =['chai_patient_id','diagnosis_date'],descending=False)\\\n",
    "            .unique(subset=['chai_patient_id'],keep='first')\\\n",
    "            .drop_nulls()"
   ]
  },
  {
   "cell_type": "code",
   "execution_count": null,
   "id": "5d252aec",
   "metadata": {},
   "outputs": [],
   "source": [
    "pat_id_df_updated.shape"
   ]
  },
  {
   "cell_type": "code",
   "execution_count": null,
   "id": "5539a097",
   "metadata": {},
   "outputs": [],
   "source": [
    "pat_ids = pat_id_df_updated.select(['chai_patient_id']).unique().to_series().to_list()\n",
    "pat_ids = ','.join([\"'\"+str(x)+\"'\" for x in pat_ids])"
   ]
  },
  {
   "cell_type": "code",
   "execution_count": null,
   "id": "04a74d47",
   "metadata": {},
   "outputs": [],
   "source": [
    "lab_dict = {'m_protein_in_serum':['33358-3','51435-6','35559-4','94400-9','50796-2'],\n",
    "            'm_protein_in_urine':['42482-0','35560-2'],\n",
    "            'ca':['17861-6','49765-1'],\n",
    "            'serum_free_light':['36916-5','33944-0'],\n",
    "            'hemoglobin_in_blood':['718-7','20509-6','30313-1','48725-6'],\n",
    "            'neutrophils_count':['751-8','26499-4','768-2','30451-9','753-4'],\n",
    "            'lymphocytes_count':['26474-7','732-8','731-0'],\n",
    "            'platelets':['777-3','26515-7','53800-9','49497-1','778-1'],\n",
    "            'na':['2951-2','2955-3'],\n",
    "            'mg':['21377-7','19123-9'],\n",
    "            'cl':['2075-0'],\n",
    "            'phos' : ['2777-1'],\n",
    "            'hr' : ['8867-4'],\n",
    "            'dbp' : ['8462-4'],\n",
    "            'ecog' : ['89262-0'],\n",
    "            'k' : ['2823-3','2828-2']\n",
    "           }"
   ]
  },
  {
   "cell_type": "code",
   "execution_count": null,
   "id": "89e6710d",
   "metadata": {},
   "outputs": [],
   "source": [
    "## For OMOP\n",
    "# patient_test_df = pl.read_csv('patient_test.csv')\n",
    "# patient_test_df = patient_test_df.with_columns(pl.col('measurement_date').str.to_datetime(\"%Y-%m-%d\").cast(pl.Date))\n",
    "# patient_test_df = patient_test_df.rename({'person_id':'chai_patient_id','measurement_date':'test_date','value_as_number':'test_value_numeric',\n",
    "#                                           'measurement_unit_source_name':'test_unit_standard_name','concept_code':'test_name_standard_code',\n",
    "#                                           'concept_name':'test_name_standard_name'})"
   ]
  },
  {
   "cell_type": "code",
   "execution_count": null,
   "id": "644f60e6",
   "metadata": {},
   "outputs": [],
   "source": [
    "pat_serum_test_query = \"select chai_patient_id,source_labid,test_date,test_name_standard_code,test_name_standard_name,test_value_numeric,test_unit_standard_name from {schema}.patient_test where (chai_patient_id in ({pat_ids})) and (test_name_standard_code in ('33358-3','51435-6','35559-4','94400-9','50796-2')) and (extract(year from test_date) > {clip_year})\".format(pat_ids=pat_ids,schema=schema,clip_year=clip_year)\n",
    "pat_serum_test_df = pl.read_database(pat_serum_test_query,db_conn_uri)"
   ]
  },
  {
   "cell_type": "code",
   "execution_count": null,
   "id": "49da02d6",
   "metadata": {},
   "outputs": [],
   "source": [
    "##For OMOP\n",
    "# pat_serum_test_df = pd.read_csv('data_backup/serum_patient_test_202312141244.csv')\n",
    "# pat_serum_test_df = pl.from_pandas(pat_serum_test_df)"
   ]
  },
  {
   "cell_type": "code",
   "execution_count": null,
   "id": "368f9605",
   "metadata": {},
   "outputs": [],
   "source": [
    "# pat_serum_test_df = pat_serum_test_df.filter(pl.col('chai_patient_id').apply(lambda x:x in pat_ids))\n",
    "pat_serum_test_df = pat_serum_test_df.join(pat_id_df_updated,on='chai_patient_id',how='inner')\n",
    "# pat_serum_test_df = pat_serum_test_df.with_columns(pl.col('test_date').apply(lambda x:datetime.datetime.strptime(x,'%Y-%m-%d %H:%M:%S').date()))\n",
    "pat_serum_test_df = pat_serum_test_df.filter(pl.col('test_date')>=pl.col('diagnosis_date'))\n",
    "pat_serum_test_df.shape"
   ]
  },
  {
   "cell_type": "code",
   "execution_count": null,
   "id": "d7526cbf",
   "metadata": {},
   "outputs": [],
   "source": [
    "pat_urine_test_query = \"select chai_patient_id,source_labid,test_date,test_name_standard_code,test_name_standard_name,test_value_numeric,test_unit_standard_name from {schema}.patient_test where (chai_patient_id in ({pat_ids})) and (test_name_standard_code in ('42482-0','35560-2')) and (extract(year from test_date) > {clip_year})\".format(pat_ids=pat_ids,schema=schema,clip_year=clip_year)\n",
    "\n",
    "pat_urine_test_df = pl.read_database(pat_urine_test_query,db_conn_uri)"
   ]
  },
  {
   "cell_type": "code",
   "execution_count": null,
   "id": "c7866df3",
   "metadata": {},
   "outputs": [],
   "source": [
    "##For OMOP\n",
    "# pat_urine_test_df = pd.read_csv('data_backup/urine_patient_test_202312141245.csv')\n",
    "# pat_urine_test_df = pl.from_pandas(pat_urine_test_df)\n",
    "# pat_urine_test_df = pat_urine_test_df.filter(pl.col('chai_patient_id').apply(lambda x:x in pat_ids))"
   ]
  },
  {
   "cell_type": "code",
   "execution_count": null,
   "id": "8fa0d048",
   "metadata": {},
   "outputs": [],
   "source": [
    "pat_urine_test_df = pat_urine_test_df.join(pat_id_df_updated,on='chai_patient_id',how='inner')\n",
    "# pat_urine_test_df = pat_urine_test_df.with_columns(pl.col('test_date').apply(lambda x:datetime.datetime.strptime(x,'%Y-%m-%d %H:%M:%S').date()))\n",
    "pat_urine_test_df = pat_urine_test_df.filter(pl.col('test_date')>=pl.col('diagnosis_date'))\n",
    "pat_urine_test_df.shape"
   ]
  },
  {
   "cell_type": "code",
   "execution_count": null,
   "id": "df13ebba",
   "metadata": {
    "scrolled": true
   },
   "outputs": [],
   "source": [
    "pat_serum_test_df_cast = pat_serum_test_df.filter(\n",
    "        pl.any_horizontal(\n",
    "            pl.col('test_value_numeric').is_not_null() & pl.col('test_unit_standard_name').is_not_null() \n",
    "        ))\\\n",
    "        .with_columns(pl.col('test_unit_standard_name').apply(lambda x:x.lower()))"
   ]
  },
  {
   "cell_type": "code",
   "execution_count": null,
   "id": "5752fd4c",
   "metadata": {
    "scrolled": true
   },
   "outputs": [],
   "source": [
    "pat_urine_test_df_cast = pat_urine_test_df.filter(\n",
    "        pl.any_horizontal(\n",
    "            pl.col('test_value_numeric').is_not_null() & pl.col('test_unit_standard_name').is_not_null() \n",
    "        ))\\\n",
    "        .with_columns(pl.col('test_unit_standard_name').apply(lambda x:x.lower()))"
   ]
  },
  {
   "cell_type": "code",
   "execution_count": null,
   "id": "0f640f46",
   "metadata": {},
   "outputs": [],
   "source": [
    "pat_urine_test_df_cast.shape"
   ]
  },
  {
   "cell_type": "code",
   "execution_count": null,
   "id": "0b67c3d7",
   "metadata": {},
   "outputs": [],
   "source": [
    "pat_serum_test_df_cast = pat_serum_test_df_cast.with_columns(\n",
    "    pl.when(pl.col('test_name_standard_code').is_in(lab_dict['m_protein_in_serum']))\n",
    "    .then(pl.lit('m_protein_in_serum'))\n",
    "    .alias('key')\n",
    ")\n",
    "\n",
    "pat_urine_test_df_cast = pat_urine_test_df_cast.with_columns(\n",
    "    pl.when(pl.col('test_name_standard_code').is_in(lab_dict['m_protein_in_urine']))\n",
    "    .then(pl.lit('m_protein_in_urine'))\n",
    "    .alias('key')\n",
    ")"
   ]
  },
  {
   "cell_type": "code",
   "execution_count": null,
   "id": "00e73cd6",
   "metadata": {},
   "outputs": [],
   "source": [
    "print(pat_urine_test_df_cast.shape)\n",
    "print(pat_serum_test_df_cast.shape)"
   ]
  },
  {
   "cell_type": "code",
   "execution_count": null,
   "id": "ef829f8b",
   "metadata": {},
   "outputs": [],
   "source": []
  },
  {
   "cell_type": "code",
   "execution_count": null,
   "id": "a01da304",
   "metadata": {},
   "outputs": [],
   "source": [
    "def convert_unit(df):\n",
    "    lab_test = df['key'].unique().drop_nulls()\n",
    "    for key in lab_test:\n",
    "        if key not in lab_kb.keys():\n",
    "            raise KeyError(f'Lab test {key} not registered')\n",
    "        std_unit = lab_kb[key]['attributes']['units']\n",
    "        unit_keys = list(unite_conv_map[std_unit]['convert'].keys())\n",
    "        df = df.with_columns(\n",
    "                pl.struct(['test_value_numeric','test_unit_standard_name','key'])\n",
    "                          .apply(lambda x: eval(unite_conv_map[std_unit]['convert'][x['test_unit_standard_name']].split('.')[-1])(x['test_value_numeric'])\\\n",
    "                                 if (x['key']==key) & (x['test_unit_standard_name'] in (unit_keys))\\\n",
    "                                 else x['test_value_numeric']                                                      \n",
    "                                ).alias('test_value_numeric')\n",
    "        )\n",
    "        df = df.with_columns(\n",
    "                        pl.when((pl.col('key')==key) & ((pl.col('test_unit_standard_name')==std_unit) | (pl.col('test_unit_standard_name').is_in(unite_conv_map[std_unit]['convert'].keys()))))\n",
    "                .then(pl.lit(std_unit))\n",
    "                .when(pl.col('key')==key)\n",
    "                .then(None)\n",
    "                .otherwise(pl.col('test_unit_standard_name'))\n",
    "                .alias('test_unit_standard_name'))\\\n",
    "        .drop_nulls('test_unit_standard_name')\n",
    "    return df"
   ]
  },
  {
   "cell_type": "code",
   "execution_count": null,
   "id": "ca691894",
   "metadata": {},
   "outputs": [],
   "source": [
    "##OMOP\n",
    "# pat_serum_test_df_cast = patient_test_df.filter(pl.col('key')=='m_protein_in_serum')\n",
    "# pat_urine_test_df_cast = patient_test_df.filter(pl.col('key')=='m_protein_in_urine')"
   ]
  },
  {
   "cell_type": "code",
   "execution_count": null,
   "id": "49a238bc",
   "metadata": {},
   "outputs": [],
   "source": [
    "pat_serum_test_df_cast = pat_serum_test_df_cast.select(['chai_patient_id','test_date','test_value_numeric','test_name_standard_code','test_unit_standard_name'])\\\n",
    "    .with_columns(pl.col('test_date').apply(lambda x:x.date()))"
   ]
  },
  {
   "cell_type": "code",
   "execution_count": null,
   "id": "9ec016b2",
   "metadata": {},
   "outputs": [],
   "source": [
    "pat_urine_test_df_cast = pat_urine_test_df_cast.select(['chai_patient_id','test_date','test_value_numeric','test_name_standard_code','test_unit_standard_name'])\\\n",
    "    .with_columns(pl.col('test_date').apply(lambda x:x.date()))"
   ]
  },
  {
   "cell_type": "code",
   "execution_count": null,
   "id": "e8c10820",
   "metadata": {},
   "outputs": [],
   "source": [
    "print(pat_urine_test_df_cast.shape)\n",
    "print(pat_serum_test_df_cast.shape)"
   ]
  },
  {
   "cell_type": "markdown",
   "id": "1db16c4e",
   "metadata": {},
   "source": [
    "## Serum Free light chain"
   ]
  },
  {
   "cell_type": "code",
   "execution_count": null,
   "id": "22f03375",
   "metadata": {},
   "outputs": [],
   "source": [
    "pat_free_light_query = \"select chai_patient_id,source_labid,test_date,test_name_standard_code,test_name_standard_name,test_value_numeric,test_unit_standard_name from {schema}.patient_test where (chai_patient_id in ({pat_ids})) and (test_name_standard_code in ('36916-5','33944-0')) and (extract(year from test_date) > {clip_year})\".format(pat_ids=pat_ids,schema=schema,clip_year=clip_year)\n",
    "\n",
    "pat_free_light_df = pl.read_database(pat_free_light_query,db_conn_uri)"
   ]
  },
  {
   "cell_type": "code",
   "execution_count": null,
   "id": "9db59b5a",
   "metadata": {},
   "outputs": [],
   "source": [
    "##OMOP\n",
    "# pat_free_light_df = pd.read_csv('data_backup/FLC_patient_test_202312141247.csv')\n",
    "# pat_free_light_df = pl.from_pandas(pat_free_light_df)\n",
    "# pat_free_light_df = pat_free_light_df.filter(pl.col('chai_patient_id').apply(lambda x:x in pat_ids))"
   ]
  },
  {
   "cell_type": "code",
   "execution_count": null,
   "id": "1367bae2",
   "metadata": {},
   "outputs": [],
   "source": [
    "pat_free_light_df = pat_free_light_df.join(pat_id_df_updated,on='chai_patient_id',how='inner')\n",
    "# pat_free_light_df = pat_free_light_df.with_columns(pl.col('test_date').apply(lambda x:datetime.datetime.strptime(x,'%Y-%m-%d %H:%M:%S').date()))\n",
    "pat_free_light_df = pat_free_light_df.filter(pl.col('test_date')>=pl.col('diagnosis_date'))\n",
    "pat_free_light_df.shape"
   ]
  },
  {
   "cell_type": "code",
   "execution_count": null,
   "id": "eafebcf7",
   "metadata": {
    "scrolled": true
   },
   "outputs": [],
   "source": [
    "pat_free_light_df.shape"
   ]
  },
  {
   "cell_type": "code",
   "execution_count": null,
   "id": "d7da430f",
   "metadata": {},
   "outputs": [],
   "source": [
    "# pat_free_light_df = patient_test_df.filter(pl.col('key')=='serum_free_light')"
   ]
  },
  {
   "cell_type": "code",
   "execution_count": null,
   "id": "45aa754b",
   "metadata": {},
   "outputs": [],
   "source": [
    "pat_free_light_df = pat_free_light_df.select(['chai_patient_id','test_date','test_value_numeric','test_name_standard_code','test_unit_standard_name'])\\\n",
    "    .with_columns(pl.col('test_date').apply(lambda x:x.date()))"
   ]
  },
  {
   "cell_type": "code",
   "execution_count": null,
   "id": "5cf53880",
   "metadata": {},
   "outputs": [],
   "source": [
    "pat_free_light_df.head()"
   ]
  },
  {
   "cell_type": "code",
   "execution_count": null,
   "id": "8475b893",
   "metadata": {},
   "outputs": [],
   "source": [
    "pat_free_light_df.shape"
   ]
  },
  {
   "cell_type": "code",
   "execution_count": null,
   "id": "11f9746c",
   "metadata": {},
   "outputs": [],
   "source": [
    "lab_test_df = pl.concat([pat_urine_test_df_cast,pat_serum_test_df_cast,pat_free_light_df])"
   ]
  },
  {
   "cell_type": "code",
   "execution_count": null,
   "id": "02c22958",
   "metadata": {},
   "outputs": [],
   "source": [
    "print(pat_urine_test_df_cast.shape)\n",
    "print(pat_serum_test_df_cast.shape)\n",
    "print(pat_free_light_df.shape)"
   ]
  },
  {
   "cell_type": "code",
   "execution_count": null,
   "id": "75743782",
   "metadata": {},
   "outputs": [],
   "source": [
    "lab_test_df = lab_test_df.with_columns(\n",
    "    pl.when(pl.col('test_name_standard_code').is_in(lab_dict['m_protein_in_serum']))\n",
    "    .then(pl.lit('m_protein_in_serum'))\n",
    "    .when(pl.col('test_name_standard_code').is_in(lab_dict['m_protein_in_urine']))\n",
    "    .then(pl.lit('m_protein_in_urine'))\n",
    "    .when(pl.col('test_name_standard_code').is_in(lab_dict['ca']))\n",
    "    .then(pl.lit('ca'))\n",
    "    .when(pl.col('test_name_standard_code').is_in(lab_dict['serum_free_light']))\n",
    "    .then(pl.lit('serum_free_light'))\n",
    "    .when(pl.col('test_name_standard_code').is_in(lab_dict['hemoglobin_in_blood']))\n",
    "    .then(pl.lit('hemoglobin_in_blood'))\n",
    "    .when(pl.col('test_name_standard_code').is_in(lab_dict['neutrophils_count']))\n",
    "    .then(pl.lit('neutrophils_count'))\n",
    "    .when(pl.col('test_name_standard_code').is_in(lab_dict['lymphocytes_count']))\n",
    "    .then(pl.lit('lymphocytes_count'))\n",
    "    .when(pl.col('test_name_standard_code').is_in(lab_dict['platelets']))\n",
    "    .then(pl.lit('platelets'))\n",
    "    .when(pl.col('test_name_standard_code').is_in(lab_dict['na']))\n",
    "    .then(pl.lit('na'))\n",
    "    .when(pl.col('test_name_standard_code').is_in(lab_dict['mg']))\n",
    "    .then(pl.lit('mg'))\n",
    "    .when(pl.col('test_name_standard_code').is_in(lab_dict['cl']))\n",
    "    .then(pl.lit('cl'))\n",
    "    .when(pl.col('test_name_standard_code').is_in(lab_dict['phos']))\n",
    "    .then(pl.lit('phos'))\n",
    "    .when(pl.col('test_name_standard_code').is_in(lab_dict['k']))\n",
    "    .then(pl.lit('k'))\n",
    "    .alias('key'),\n",
    "    pl.col('test_unit_standard_name').apply(lambda x:x.lower()),\n",
    "    pl.col('test_value_numeric').str.replace('<','').str.replace('>','').str.replace(',','.')\n",
    "    .cast(pl.Float64, strict=False)\n",
    ").drop_nulls(subset='test_value_numeric')\\\n",
    ".with_columns(\n",
    "    pl.when((pl.col('test_name_standard_code').is_in(lab_dict['hr']+lab_dict['dbp']+lab_dict['ecog'])) & (pl.col('test_unit_standard_name').is_null()))\n",
    "    .then(pl.lit('valid'))\n",
    "    .otherwise(pl.col('test_unit_standard_name'))\n",
    "    .alias('test_unit_standard_name')\n",
    ")\n",
    "lab_test_df.shape"
   ]
  },
  {
   "cell_type": "code",
   "execution_count": null,
   "id": "0390c913",
   "metadata": {},
   "outputs": [],
   "source": [
    "# lab_test_df = lab_test_df.with_columns(pl.col('test_date').cast(pl.Datetime))\n",
    "# rules_check(lab_test_df,'patient_test_raw','qcca_cdm_master','patient_test_raw_rule_checks.xlsx')"
   ]
  },
  {
   "cell_type": "code",
   "execution_count": null,
   "id": "bee5d15a",
   "metadata": {},
   "outputs": [],
   "source": [
    "lab_test_df = convert_unit(lab_test_df)\n",
    "lab_test_df.shape"
   ]
  },
  {
   "cell_type": "code",
   "execution_count": null,
   "id": "64e4db90",
   "metadata": {},
   "outputs": [],
   "source": [
    "# lab_test_df = lab_test_df.sort(['chai_patient_id','test_date','test_value_numeric'],descending=False)\\\n",
    "#     .unique(subset=['chai_patient_id','test_date','test_name_standard_code'],keep='first')"
   ]
  },
  {
   "cell_type": "code",
   "execution_count": null,
   "id": "e00b20d2",
   "metadata": {},
   "outputs": [],
   "source": [
    "# lab_test_df = lab_test_df.with_columns(pl.col('test_date').cast(pl.Datetime))\n",
    "# rules_check(lab_test_df,'patient_test_std','qcca_cdm_master','patient_test_std_rule_checks.xlsx')"
   ]
  },
  {
   "cell_type": "code",
   "execution_count": null,
   "id": "5756aae3",
   "metadata": {},
   "outputs": [],
   "source": [
    "# lab_test_df.shape"
   ]
  },
  {
   "cell_type": "code",
   "execution_count": null,
   "id": "2e351920",
   "metadata": {},
   "outputs": [],
   "source": [
    "for ele in lab_test_df['test_name_standard_code'].unique():\n",
    "    ele_df = lab_test_df.filter(pl.col('test_name_standard_code')==ele)\n",
    "    stat_df_list.append(get_stats(ele,ele_df['test_value_numeric']))"
   ]
  },
  {
   "cell_type": "code",
   "execution_count": null,
   "id": "002c9bcf",
   "metadata": {},
   "outputs": [],
   "source": [
    "lab_dict.update({'serum_free_light_kappa':['36916-5'],'serum_free_light_lambda':['33944-0']})\n",
    "lab_class_map =  {0:'m_protein_in_serum',1:'m_protein_in_urine',2:'ca',3:'serum_free_light_kappa',4:'serum_free_light_lambda'}\n",
    "\n",
    "# lab_test_df = lab_test_df.with_columns(\n",
    "#                                     pl.when(pl.col('test_name_standard_code').is_in(lab_dict['m_protein_in_serum']))\n",
    "#                                     .then(pl.lit(0))\n",
    "#                                     .when(pl.col('test_name_standard_code').is_in(lab_dict['m_protein_in_urine']))\n",
    "#                                     .then(pl.lit(1))\n",
    "#                                     .when(pl.col('test_name_standard_code').is_in(lab_dict['ca']))\n",
    "#                                     .then(pl.lit(2))\n",
    "#                                     .when(pl.col('test_name_standard_code').is_in(lab_dict['serum_free_light_kappa']))\n",
    "#                                     .then(pl.lit(3))\n",
    "#                                     .when(pl.col('test_name_standard_code').is_in(lab_dict['serum_free_light_lambda']))\n",
    "#                                     .then(pl.lit(4))\n",
    "#                                     .alias('test_name_standard_code')\n",
    "# )"
   ]
  },
  {
   "cell_type": "code",
   "execution_count": null,
   "id": "b2822c1a",
   "metadata": {},
   "outputs": [],
   "source": [
    "lab_test_df = lab_test_df.groupby(by=['chai_patient_id','test_date','test_name_standard_code']).agg(pl.col('test_value_numeric').median())\\\n",
    "                         .select(['chai_patient_id','test_date','test_value_numeric','test_name_standard_code'])"
   ]
  },
  {
   "cell_type": "code",
   "execution_count": null,
   "id": "d1c0a9e2",
   "metadata": {},
   "outputs": [],
   "source": [
    "lab_test_df['chai_patient_id'].unique().shape"
   ]
  },
  {
   "cell_type": "markdown",
   "id": "2b950163",
   "metadata": {},
   "source": [
    "## Criteria"
   ]
  },
  {
   "cell_type": "code",
   "execution_count": null,
   "id": "9407b76b",
   "metadata": {},
   "outputs": [],
   "source": [
    "output_dir"
   ]
  },
  {
   "cell_type": "code",
   "execution_count": null,
   "id": "4cf4dead",
   "metadata": {},
   "outputs": [],
   "source": [
    "criteria_df = pl.read_csv(f'{output_dir}criteria_multiprogression_label_{today_date}.csv')\n",
    "\n",
    "criteria_df = criteria_df.with_columns(pl.col('min_date').apply(lambda x:datetime.datetime.strptime(x,'%Y-%m-%d').date()))"
   ]
  },
  {
   "cell_type": "code",
   "execution_count": null,
   "id": "c34331d1",
   "metadata": {},
   "outputs": [],
   "source": [
    "criteria_df.head()"
   ]
  },
  {
   "cell_type": "code",
   "execution_count": null,
   "id": "327c95fd",
   "metadata": {},
   "outputs": [],
   "source": [
    "c1_df = copy.deepcopy(criteria_df)\n",
    "criteria_df = criteria_df.drop('criteria_1')"
   ]
  },
  {
   "cell_type": "code",
   "execution_count": null,
   "id": "0c62a31b",
   "metadata": {},
   "outputs": [],
   "source": [
    "criteria_df.shape"
   ]
  },
  {
   "cell_type": "code",
   "execution_count": null,
   "id": "8dcf43d7",
   "metadata": {},
   "outputs": [],
   "source": [
    "criteria_df['chai_patient_id'].unique().shape"
   ]
  },
  {
   "cell_type": "code",
   "execution_count": null,
   "id": "259fb69f",
   "metadata": {},
   "outputs": [],
   "source": [
    "def download_dod(source_schema, patients_ids):\n",
    "    \"\"\"\n",
    "    :param source_schema: Source schema name\n",
    "    :param patients_ids: Patient IDs for whom max date is required\n",
    "    :return: A DataFrame with patient ID and max date\n",
    "    \"\"\"\n",
    "    dod_query = '''Select chai_patient_id, date_of_death from {}.patient where chai_patient_id in ({}) \n",
    "        and (date_of_death is not null and date_part(year, date_of_death) >= 1950)'''.format(\n",
    "            source_schema, ', '.join([\"'\" + str(pat) + \"'\" for pat in patients_ids]))\n",
    "    dod_df = pl.read_database(dod_query,db_conn_uri)\n",
    "    \n",
    "#     dod_df[\"date_of_death\"] = pd.to_datetime(dod_df[\"date_of_death\"], errors='coerce')\n",
    "    return dod_df\n",
    "\n",
    "def download_last_activity_date_dod(source_schema, patients_ids):\n",
    "    \"\"\"\n",
    "    This function returns max date information\n",
    "\n",
    "    :param dtu: DTU object for downloading tables from redshift\n",
    "    :param source_schema: Source schema name\n",
    "    :param patients_ids: Patient IDs for whom max date is required\n",
    "    :return: A DataFrame with patient ID and max date\n",
    "    \"\"\"\n",
    "#     dod_df = download_dod(source_schema, patients_ids)\n",
    "    \n",
    "    date_fields = {'medication': 'med_start_date', 'patient_test': 'test_date', 'tumor_exam': 'exam_date',\n",
    "                   'care_goal': 'treatment_plan_start_date', 'surgery': 'surgery_date', 'radiation': 'rad_start_date',\n",
    "                   'condition': 'diagnosis_date', 'adverse_event': 'adverse_event_date', 'encounter': 'encounter_date',\n",
    "                   'disease_status': 'assessment_date', 'staging': 'stage_date'}\n",
    "#     date_fields = {'medication': 'latest_date_medication__202312181034', 'patient_test': 'latest_date_patient_test_202312181038', 'tumor_exam': 'latest_date_tumor_exam_202312181040',\n",
    "#                    'surgery': 'latest_date_surgery_202312181046', 'radiation': 'latest_date_radiation_202312181051',\n",
    "#                    'condition': 'latest_date_condition_202312181053', 'adverse_event': 'latest_date_adverse_event_202312181059', 'encounter': 'latest_date_encounter_202312181101',\n",
    "#                    'disease_status': 'latest_date_disease_status_202312181200', 'staging': 'latest_date_staging_202312181201'}\n",
    "    \n",
    "    visits = pl.DataFrame()\n",
    "    for key, value in date_fields.items():\n",
    "        last_date_query = '''Select distinct chai_patient_id, max({column_name}) as max_date\n",
    "                                                       from {source_schema}.{table_name} where {column_name} is not null and \n",
    "                                                       chai_patient_id in ({pats_list}) group by chai_patient_id '''.format(\n",
    "            column_name=value,\n",
    "            table_name=key,\n",
    "            source_schema=source_schema,\n",
    "            pats_list=', '.join([\"'\" + str(pat) + \"'\" for pat in patients_ids]))\n",
    "        last_date_df = pl.read_database(last_date_query,db_conn_uri)\n",
    "#         last_date_df = pl.read_csv(f'data_backup/{value}.csv')\n",
    "        \n",
    "        visits = pl.concat([visits,last_date_df])\n",
    "   \n",
    "    last_medical_activity = visits.sort(['chai_patient_id', 'max_date'], descending=True)\\\n",
    "                                        .unique(['chai_patient_id']).rename({\"max_date\":\"last_activity_date\"})#.join(dod_df, on=\"chai_patient_id\", how=\"left\")\n",
    "#     last_medical_activity = last_medical_activity.with_columns(pl.min_horizontal('date_of_death','max_date')\\\n",
    "#                                                                .alias('last_activity_date')).drop(['date_of_death', 'max_date'])\n",
    "\n",
    "    last_medical_activity = last_medical_activity.with_columns(pl.col('last_activity_date').apply(lambda x:x.date()))\n",
    "#     last_medical_activity = last_medical_activity.with_columns(pl.col('last_activity_date').str.to_datetime(\"%Y-%m-%d %H:%M:%S\").cast(pl.Date))\n",
    "    return last_medical_activity"
   ]
  },
  {
   "cell_type": "code",
   "execution_count": null,
   "id": "915b881e",
   "metadata": {},
   "outputs": [],
   "source": [
    "last_date_df = download_last_activity_date_dod(schema,set(list(lab_test_df['chai_patient_id'])))\n",
    "last_date_df = last_date_df.with_columns(pl.col('last_activity_date').apply(lambda x:datetime.date.today() if (x>datetime.date.today()) else x))"
   ]
  },
  {
   "cell_type": "code",
   "execution_count": null,
   "id": "a74f482b",
   "metadata": {},
   "outputs": [],
   "source": [
    "last_date_df = last_date_df.filter(pl.col('chai_patient_id').is_in(set(list(lab_test_df['chai_patient_id']))))"
   ]
  },
  {
   "cell_type": "code",
   "execution_count": null,
   "id": "d0784ce5",
   "metadata": {},
   "outputs": [],
   "source": [
    "last_date_df['chai_patient_id'].unique().shape"
   ]
  },
  {
   "cell_type": "code",
   "execution_count": null,
   "id": "1afdab15",
   "metadata": {},
   "outputs": [],
   "source": [
    "last_date_df.shape"
   ]
  },
  {
   "cell_type": "code",
   "execution_count": null,
   "id": "708de850",
   "metadata": {},
   "outputs": [],
   "source": [
    "pat_id_df_updated = pat_id_df.select(['chai_patient_id','diagnosis_date'])\\\n",
    "                            .sort(by =['chai_patient_id','diagnosis_date'],descending=False)\\\n",
    "                            .unique(subset=['chai_patient_id'],keep='first').drop_nulls()\n",
    "pat_id_df_updated = pat_id_df_updated.with_columns(pl.col('diagnosis_date').apply(lambda x:x.date()))\n",
    "pat_id_df_updated = pat_id_df_updated.filter(pl.col('chai_patient_id').is_in(set(list(lab_test_df['chai_patient_id']))))"
   ]
  },
  {
   "cell_type": "code",
   "execution_count": null,
   "id": "79310620",
   "metadata": {},
   "outputs": [],
   "source": [
    "criteria_df.shape"
   ]
  },
  {
   "cell_type": "code",
   "execution_count": null,
   "id": "ac5fadbe",
   "metadata": {},
   "outputs": [],
   "source": [
    "criteria_df = criteria_df.filter(pl.col('chai_patient_id').is_in(lab_test_df['chai_patient_id']))"
   ]
  },
  {
   "cell_type": "code",
   "execution_count": null,
   "id": "36614c1e",
   "metadata": {},
   "outputs": [],
   "source": [
    "criteria_df_merged = criteria_df.join(pat_id_df_updated,on='chai_patient_id',how='outer').join(last_date_df,on='chai_patient_id',how='outer')\n",
    "criteria_df_merged.shape"
   ]
  },
  {
   "cell_type": "code",
   "execution_count": null,
   "id": "451cec47",
   "metadata": {},
   "outputs": [],
   "source": [
    "criteria_df_merged.head()"
   ]
  },
  {
   "cell_type": "code",
   "execution_count": null,
   "id": "e59358d0",
   "metadata": {},
   "outputs": [],
   "source": [
    "criteria_df_merged = criteria_df_merged.filter(pl.col('diagnosis_date')<pl.col('last_activity_date'))"
   ]
  },
  {
   "cell_type": "code",
   "execution_count": null,
   "id": "5fea07e6",
   "metadata": {},
   "outputs": [],
   "source": [
    "criteria_df_merged = criteria_df_merged.filter(((pl.col('last_activity_date')>pl.col('min_date')) & (pl.col('diagnosis_date')<pl.col('min_date'))) | pl.col('min_date').is_null())"
   ]
  },
  {
   "cell_type": "code",
   "execution_count": null,
   "id": "c1fa5ea4",
   "metadata": {},
   "outputs": [],
   "source": [
    "criteria_df = pl.concat([criteria_df_merged[['chai_patient_id','min_date']].drop_nulls(),criteria_df_merged[['chai_patient_id','diagnosis_date']].rename({'diagnosis_date':'min_date'})])\n",
    "criteria_df = pl.concat([criteria_df,criteria_df_merged[['chai_patient_id','last_activity_date']].rename({'last_activity_date':'min_date'})])\n",
    "criteria_df = criteria_df.unique()\n",
    "criteria_df.shape"
   ]
  },
  {
   "cell_type": "code",
   "execution_count": null,
   "id": "b2e23d73",
   "metadata": {},
   "outputs": [],
   "source": [
    "criteria_df.unique().shape"
   ]
  },
  {
   "cell_type": "code",
   "execution_count": null,
   "id": "08df6956",
   "metadata": {},
   "outputs": [],
   "source": [
    "def get_time_windows(date_list):\n",
    "    start_date=[]\n",
    "    end_date=[]\n",
    "    final_selection = []\n",
    "    pc = 0\n",
    "    progression_count = []\n",
    "    prg_cnt_2_years = []\n",
    "    for i in range(len(date_list)-1):  \n",
    "        start_date.append(date_list[i])\n",
    "        end_date.append(date_list[i+1])\n",
    "        final_selection.append(True)\n",
    "        pc_2_year=0\n",
    "        for j in range(1,i):\n",
    "            if (date_list[j]<=date_list[i+1]) and (date_list[j]>=(date_list[i+1]-timedelta(days=730))):\n",
    "                pc_2_year+=1\n",
    "                \n",
    "        prg_cnt_2_years.append(pc_2_year)\n",
    "        progression_count.append(pc)\n",
    "        pc+=1\n",
    "    final_selection[-1] = False\n",
    "    return({'start_date':start_date,'end_date':end_date,'final_selection':final_selection,'progression_count':progression_count,'prg_cnt_2_years':prg_cnt_2_years})\n",
    "\n",
    "criteria_df = criteria_df.sort(by=['chai_patient_id','min_date'],descending=False)\\\n",
    "                        .groupby(['chai_patient_id']).agg(pl.col('min_date'))\\\n",
    "                        .filter(pl.col('min_date').apply(lambda x:len(x)>1))\\\n",
    "                        .with_columns(pl.col('min_date').apply(lambda x:get_time_windows(x)).alias('windows'))\\\n",
    "                        .unnest('windows')\\\n",
    "                        .drop('min_date')\\\n",
    "                        .explode(['start_date','end_date','final_selection','progression_count','prg_cnt_2_years'])"
   ]
  },
  {
   "cell_type": "code",
   "execution_count": null,
   "id": "104a6f4a",
   "metadata": {},
   "outputs": [],
   "source": [
    "criteria_df.head()"
   ]
  },
  {
   "cell_type": "code",
   "execution_count": null,
   "id": "6157f927",
   "metadata": {},
   "outputs": [],
   "source": [
    "criteria_df[['chai_patient_id']].unique().shape"
   ]
  },
  {
   "cell_type": "code",
   "execution_count": null,
   "id": "1440f593",
   "metadata": {},
   "outputs": [],
   "source": [
    "random.seed(123)\n",
    "criteria_df = criteria_df.with_columns(pl.struct(['start_date','end_date']).apply(lambda x:(x['end_date']-x['start_date']).days).alias('diff'))\n",
    "criteria_df = criteria_df.with_columns(pl.struct(['diff','start_date']).apply(lambda x:x['start_date']+timedelta(days=random.randint(1,x['diff']))).alias('random_date'))"
   ]
  },
  {
   "cell_type": "code",
   "execution_count": null,
   "id": "eafc729c",
   "metadata": {},
   "outputs": [],
   "source": [
    "criteria_df = criteria_df.with_columns(pl.struct(['random_date','end_date']).apply(lambda x:(x['end_date']-x['random_date']).days).alias('label'))"
   ]
  },
  {
   "cell_type": "code",
   "execution_count": null,
   "id": "1b9132d8",
   "metadata": {},
   "outputs": [],
   "source": [
    "criteria_df.head()"
   ]
  },
  {
   "cell_type": "code",
   "execution_count": null,
   "id": "e2609448",
   "metadata": {},
   "outputs": [],
   "source": []
  },
  {
   "cell_type": "code",
   "execution_count": null,
   "id": "30a8c5be",
   "metadata": {},
   "outputs": [],
   "source": [
    "lab_test_df = lab_test_df.join(criteria_df.select(['chai_patient_id','start_date','random_date']), on ='chai_patient_id',how='inner')\n",
    "lab_test_df['chai_patient_id'].unique().shape"
   ]
  },
  {
   "cell_type": "code",
   "execution_count": null,
   "id": "d193051f",
   "metadata": {},
   "outputs": [],
   "source": [
    "lab_test_df.head()"
   ]
  },
  {
   "cell_type": "code",
   "execution_count": null,
   "id": "85418c59",
   "metadata": {},
   "outputs": [],
   "source": [
    "lab_test_df.shape"
   ]
  },
  {
   "cell_type": "code",
   "execution_count": null,
   "id": "6fe99f0c",
   "metadata": {},
   "outputs": [],
   "source": [
    "lab_test_df = lab_test_df.filter((pl.col('test_date')>pl.col('start_date')) & (pl.col('test_date')<=pl.col('random_date')))"
   ]
  },
  {
   "cell_type": "code",
   "execution_count": null,
   "id": "8aa1f645",
   "metadata": {},
   "outputs": [],
   "source": [
    "lab_test_df = lab_test_df.sort(by=['chai_patient_id','start_date','test_name_standard_code','test_date'],descending=False)\n",
    "\n",
    "print(lab_test_df['test_name_standard_code'].unique().shape)\n",
    "lab_test_df.shape"
   ]
  },
  {
   "cell_type": "code",
   "execution_count": null,
   "id": "5a880b9f",
   "metadata": {},
   "outputs": [],
   "source": [
    "min_df = lab_test_df.groupby(['chai_patient_id','start_date','test_name_standard_code']).agg(pl.col('test_value_numeric').min().alias('nadir_value'))"
   ]
  },
  {
   "cell_type": "code",
   "execution_count": null,
   "id": "b93eae24",
   "metadata": {},
   "outputs": [],
   "source": [
    "min_df.shape"
   ]
  },
  {
   "cell_type": "code",
   "execution_count": null,
   "id": "4f8b370d",
   "metadata": {},
   "outputs": [],
   "source": [
    "lab_test_df = lab_test_df.filter(pl.struct(['test_date','random_date']).apply(lambda x:True if (x['test_date']>(x['random_date']-timedelta(days=90))) else False))\n",
    "print(lab_test_df['chai_patient_id'].unique().shape)\n",
    "lab_test_df.shape"
   ]
  },
  {
   "cell_type": "code",
   "execution_count": null,
   "id": "e3ad6629",
   "metadata": {},
   "outputs": [],
   "source": [
    "latest_lab_test_df = lab_test_df.sort(by=['chai_patient_id','start_date','test_name_standard_code','test_date'],descending=True)\\\n",
    "                        .unique(subset=['chai_patient_id','start_date','test_name_standard_code'],keep='first')\\\n",
    "                        .select(['chai_patient_id','start_date','test_name_standard_code','test_value_numeric','test_date'])\n",
    "lab_test_df.shape"
   ]
  },
  {
   "cell_type": "code",
   "execution_count": null,
   "id": "62e3ecfc",
   "metadata": {},
   "outputs": [],
   "source": [
    "nadir_df = min_df.join(latest_lab_test_df.select(['chai_patient_id','start_date','test_name_standard_code','test_value_numeric','test_date']),on=['chai_patient_id','start_date','test_name_standard_code'],how='inner')\n",
    "nadir_df = nadir_df.with_columns(pl.struct(['test_value_numeric','nadir_value'])\\\n",
    "                                  .apply(lambda x:x['test_value_numeric']-x['nadir_value']).alias('abs_change_from_nadir'))\n",
    "nadir_df = nadir_df.with_columns(pl.struct(['test_value_numeric','nadir_value']).apply(lambda x:(x['test_value_numeric']-x['nadir_value'])/(x['nadir_value']+0.0001)).alias('perc_change_from_nadir'))"
   ]
  },
  {
   "cell_type": "code",
   "execution_count": null,
   "id": "c8bf2c88",
   "metadata": {},
   "outputs": [],
   "source": [
    "nadir_df.head()"
   ]
  },
  {
   "cell_type": "code",
   "execution_count": null,
   "id": "ce19888a",
   "metadata": {},
   "outputs": [],
   "source": [
    "nadir_df.shape"
   ]
  },
  {
   "cell_type": "code",
   "execution_count": null,
   "id": "adc9064d",
   "metadata": {},
   "outputs": [],
   "source": [
    "# thresold_map = {'m_protein_in_serum':0.5,'m_protein_in_urine':200,'serum_free_light_kappa':10,'serum_free_light_lambda':10}\n",
    "# feat_lab_list = list(lab_class_map.keys())\n",
    "# final_stat_df = pl.DataFrame({'chai_patient_id': list(set(lab_test_df['chai_patient_id']))})\n",
    "\n",
    "# for lab in feat_lab_list:\n",
    "#     if lab==2:\n",
    "#         continue\n",
    "#     lab_name = lab_class_map[lab]\n",
    "#     temp_df = lab_test_df.filter(pl.col('test_name_standard_code')==lab)\\\n",
    "#                         .select(['chai_patient_id','test_value_numeric'])\\\n",
    "#                         .rename({'test_value_numeric':lab_name})\n",
    "#     if temp_df.shape[0]>0:\n",
    "# #         temp_df = temp_df.with_columns(pl.col(lab_name).apply(lambda x:x-thresold_map[lab_name] if (x>=thresold_map[lab_name]) else None).alias(f'{lab_name}_base_diff'))\n",
    "#         final_stat_df = final_stat_df.join(temp_df,on='chai_patient_id',how='left')\n",
    "#     else:\n",
    "#         final_stat_df = final_stat_df.with_columns(pl.lit(None).alias(lab_name))\n",
    "# #         final_stat_df = final_stat_df.with_columns(pl.lit(None).alias(lab_name),pl.lit(None).alias(f'{lab_name}_base_diff'))\n",
    "        \n",
    "#     temp_df = nadir_df.filter(pl.col('test_name_standard_code')==lab)\\\n",
    "#                         .select(['chai_patient_id','abs_change_from_nadir','perc_change_from_nadir'])\\\n",
    "#                         .rename({'abs_change_from_nadir':f'abs_change_from_nadir_{lab_name}',\n",
    "#                                  'perc_change_from_nadir':f'perc_change_from_nadir_{lab_name}'})\n",
    "#     if temp_df.shape[0]>0:\n",
    "#         final_stat_df = final_stat_df.join(temp_df,on='chai_patient_id',how='left')\n",
    "#     else:\n",
    "#         final_stat_df = final_stat_df.with_columns(pl.lit(None).alias(f'abs_change_from_nadir_{lab_name}'),\\\n",
    "#                                                   pl.lit(None).alias(f'perc_change_from_nadir_{lab_name}'))\n",
    "#################################        \n",
    "        \n",
    "feat_lab_list = list(lab_class_map.keys())\n",
    "final_stat_df = pl.DataFrame({'chai_patient_id': list(set(lab_test_df['chai_patient_id']))})\n",
    "final_stat_df = lab_test_df[['chai_patient_id','start_date']].unique()\n",
    "\n",
    "for lab in feat_lab_list:\n",
    "    if lab==2:\n",
    "        continue\n",
    "    lab_name = lab_class_map[lab]\n",
    "    lab_codes = lab_dict[lab_name]\n",
    "#     temp_df = lab_test_df.filter(pl.col('test_name_standard_code')==lab)\n",
    "    temp_df = lab_test_df.filter(pl.col('test_name_standard_code').is_in(lab_codes))\n",
    "    temp_df = temp_df.sort(by=['chai_patient_id','start_date','test_date'],descending=True)\\\n",
    "                    .unique(subset=['chai_patient_id','start_date'],keep='first')\\\n",
    "                    .select(['chai_patient_id','start_date','test_value_numeric'])\\\n",
    "                    .rename({'test_value_numeric':lab_name})\n",
    "    if temp_df.shape[0]>0:\n",
    "#         temp_df = temp_df.with_columns(pl.col(lab_name).apply(lambda x:x-thresold_map[lab_name] if (x>=thresold_map[lab_name]) else None).alias(f'{lab_name}_base_diff'))\n",
    "        final_stat_df = final_stat_df.join(temp_df,on=['chai_patient_id','start_date'],how='left')\n",
    "    else:\n",
    "        final_stat_df = final_stat_df.with_columns(pl.lit(None).alias(lab_name))\n",
    "#         final_stat_df = final_stat_df.with_columns(pl.lit(None).alias(lab_name),pl.lit(None).alias(f'{lab_name}_base_diff'))\n",
    "        \n",
    "#     temp_df = nadir_df.filter(pl.col('test_name_standard_code')==lab)\\\n",
    "    temp_df = nadir_df.filter(pl.col('test_name_standard_code').is_in(lab_codes))\n",
    "    temp_df = temp_df.sort(by=['chai_patient_id','start_date','test_date'],descending=True)\\\n",
    "                    .unique(subset=['chai_patient_id','start_date'],keep='first')\\\n",
    "                    .select(['chai_patient_id','start_date','abs_change_from_nadir','perc_change_from_nadir'])\\\n",
    "                    .rename({'abs_change_from_nadir':f'abs_change_from_nadir_{lab_name}',\n",
    "                                 'perc_change_from_nadir':f'perc_change_from_nadir_{lab_name}'})\n",
    "    if temp_df.shape[0]>0:\n",
    "        final_stat_df = final_stat_df.join(temp_df,on=['chai_patient_id','start_date'],how='left')\n",
    "    else:\n",
    "        final_stat_df = final_stat_df.with_columns(pl.lit(None).alias(f'abs_change_from_nadir_{lab_name}'),\\\n",
    "                                                  pl.lit(None).alias(f'perc_change_from_nadir_{lab_name}'))"
   ]
  },
  {
   "cell_type": "code",
   "execution_count": null,
   "id": "687033bb",
   "metadata": {},
   "outputs": [],
   "source": [
    "final_stat_df.shape"
   ]
  },
  {
   "cell_type": "code",
   "execution_count": null,
   "id": "ff2f2a87",
   "metadata": {},
   "outputs": [],
   "source": [
    "final_stat_df = final_stat_df.join(criteria_df[['chai_patient_id','start_date','end_date','label','final_selection','diff','progression_count','prg_cnt_2_years']],on=['chai_patient_id','start_date'],how='inner')\n",
    "final_stat_df.shape"
   ]
  },
  {
   "cell_type": "code",
   "execution_count": null,
   "id": "9c547d17",
   "metadata": {},
   "outputs": [],
   "source": [
    "final_stat_df = final_stat_df.join(c1_df,left_on=['chai_patient_id','end_date'],right_on=['chai_patient_id','min_date'],how='left')"
   ]
  },
  {
   "cell_type": "code",
   "execution_count": null,
   "id": "d5ac4ef9",
   "metadata": {},
   "outputs": [],
   "source": [
    "##Creating synthetic data\n",
    "synthetic_df = final_stat_df.filter(pl.col('criteria_1')==True)\n",
    "col_erace = ['serum_free_light_kappa','abs_change_from_nadir_serum_free_light_kappa','perc_change_from_nadir_serum_free_light_kappa',\n",
    "             'serum_free_light_lambda','abs_change_from_nadir_serum_free_light_lambda','perc_change_from_nadir_serum_free_light_lambda']\n",
    "for col_name in col_erace:\n",
    "    synthetic_df = synthetic_df.with_columns(pl.lit(np.nan).alias(col_name))\n",
    "print(synthetic_df.shape)\n",
    "\n",
    "final_stat_df = pl.concat([final_stat_df,synthetic_df])\n",
    "final_stat_df.shape"
   ]
  },
  {
   "cell_type": "code",
   "execution_count": null,
   "id": "be454b68",
   "metadata": {},
   "outputs": [],
   "source": [
    "end = time.time()\n",
    "print(end-start)"
   ]
  },
  {
   "cell_type": "code",
   "execution_count": null,
   "id": "5d56b9bf",
   "metadata": {},
   "outputs": [],
   "source": [
    "final_stat_df = final_stat_df.fill_nan(None)"
   ]
  },
  {
   "cell_type": "code",
   "execution_count": null,
   "id": "b901a61e",
   "metadata": {},
   "outputs": [],
   "source": [
    "final_stat_df = final_stat_df.filter(~pl.all_horizontal(pl.col(['m_protein_in_serum','m_protein_in_urine','serum_free_light_kappa','serum_free_light_lambda'\n",
    "                            ]).is_null()))\n",
    "final_stat_df.shape"
   ]
  },
  {
   "cell_type": "code",
   "execution_count": null,
   "id": "f70eae7d",
   "metadata": {},
   "outputs": [],
   "source": [
    "def to_pandas(df):\n",
    "    \"\"\"\n",
    "    Method to convert Polars DataFrame Object to Pandas Data Frame Object\n",
    "    \n",
    "    ARGUMENTS:\n",
    "    ----------\n",
    "    df: Polars.DataFrame: Polars Data Frame object to convert\n",
    "    \n",
    "    RETURNS:\n",
    "    --------\n",
    "    pandas_df: Pandas.DataFrame\n",
    "    \"\"\"\n",
    "    \n",
    "    pandas_df = df.to_pandas()\n",
    "    \n",
    "    #Polars boolean dtype is converted to object type through `to_pandas()`, recasting to boolean type\n",
    "    bool_cols = df.select(pl.col(pl.Boolean)).columns\n",
    "    for col in bool_cols:\n",
    "        pandas_df[col] = pandas_df[col].astype('bool')\n",
    "        \n",
    "    float_cols = df.select(pl.col(pl.Float64)).columns\n",
    "    float_cols+= df.select(pl.col(pl.Null)).columns\n",
    "    for col in float_cols:\n",
    "        pandas_df[col] = pandas_df[col].astype('float')\n",
    "    \n",
    "    return pandas_df\n",
    "\n",
    "final_stat_df = to_pandas(final_stat_df)"
   ]
  },
  {
   "cell_type": "code",
   "execution_count": null,
   "id": "4fda4e13",
   "metadata": {},
   "outputs": [],
   "source": [
    "for col in final_stat_df.columns:\n",
    "    if '[#/volume]' in col:\n",
    "        final_stat_df = final_stat_df.rename(columns={col:col.replace('[#/volume]','').replace('  ',' ')})\n",
    "    if '[Mass/volume]' in col:\n",
    "        final_stat_df = final_stat_df.rename(columns={col:col.replace('[Mass/volume]','').replace('  ',' ')})\n",
    "    if '[mass/volume]' in col:\n",
    "        final_stat_df = final_stat_df.rename(columns={col:col.replace('[mass/volume]','').replace('  ',' ')})    \n",
    "    if '[Mass/time]' in col:\n",
    "        final_stat_df = final_stat_df.rename(columns={col:col.replace('[Mass/time]','').replace('  ',' ')})\n",
    "    if '[Enzymatic activity/volume]' in col:\n",
    "        final_stat_df = final_stat_df.rename(columns={col:col.replace('[Enzymatic activity/volume]','').replace('  ',' ')})\n",
    "    if '[Mass Ratio]' in col:\n",
    "        final_stat_df = final_stat_df.rename(columns={col:col.replace('[Mass Ratio]','').replace('  ',' ')})\n",
    "    if '[Presence]' in col:\n",
    "        final_stat_df = final_stat_df.rename(columns={col:col.replace('[Presence]','').replace('  ',' ')})\n",
    "    if '[Mass/time in 24 hour Urine by Electrophoresis_0]' in col:\n",
    "        final_stat_df = final_stat_df.rename(columns={col:col.replace('[Mass/time in 24 hour Urine by Electrophoresis_0]','').replace('  ',' ')})\n",
    "    if '[moles/volume]' in col :\n",
    "        final_stat_df = final_stat_df.rename(columns={col:col.replace('[moles/volume]','').replace('  ',' ')})\n",
    "    if '[interpretation]' in col:\n",
    "        final_stat_df = final_stat_df.rename(columns={col:col.replace('[interpretation]','').replace('  ',' ')})\n",
    "    if ('[' in col) or (']' in col):\n",
    "        final_stat_df = final_stat_df.rename(columns={col:col.replace('[','').replace(']','')})"
   ]
  },
  {
   "cell_type": "code",
   "execution_count": null,
   "id": "2d115f12",
   "metadata": {},
   "outputs": [],
   "source": [
    "train_pat = random.sample(list(final_stat_df['chai_patient_id'].unique()),int(final_stat_df['chai_patient_id'].unique().shape[0]*0.8))\n",
    "final_stat_df_train = final_stat_df[final_stat_df['chai_patient_id'].isin(train_pat)]\n",
    "final_stat_df_test = final_stat_df[~final_stat_df['chai_patient_id'].isin(train_pat)]"
   ]
  },
  {
   "cell_type": "code",
   "execution_count": null,
   "id": "71d08888",
   "metadata": {},
   "outputs": [],
   "source": [
    "final_stat_df.head()"
   ]
  },
  {
   "cell_type": "code",
   "execution_count": null,
   "id": "098c789d",
   "metadata": {},
   "outputs": [],
   "source": [
    "x_train = final_stat_df_train.drop(['chai_patient_id','start_date','end_date','final_selection','label','diff','criteria_1','progression_count'],axis=1)\n",
    "y_train = convert_to_structured((final_stat_df_train['label']),final_stat_df_train['final_selection'])\n",
    "\n",
    "x_test = final_stat_df_test.drop(['chai_patient_id','start_date','end_date','final_selection','label','diff','criteria_1','progression_count'],axis=1)\n",
    "y_test = convert_to_structured((final_stat_df_test['label']),final_stat_df_test['final_selection'])"
   ]
  },
  {
   "cell_type": "code",
   "execution_count": null,
   "id": "3986df8a",
   "metadata": {},
   "outputs": [],
   "source": [
    "x_train.head()"
   ]
  },
  {
   "cell_type": "code",
   "execution_count": null,
   "id": "47071299",
   "metadata": {},
   "outputs": [],
   "source": []
  },
  {
   "cell_type": "code",
   "execution_count": null,
   "id": "292fd7f2",
   "metadata": {},
   "outputs": [],
   "source": [
    "# x_train['progression_count'].value_counts()\n",
    "text_file.write(f\"x_train progression value count : {x_train['prg_cnt_2_years'].value_counts()} \\n\")\n",
    "text_file.write(f\"x_test progression value count : {x_test['prg_cnt_2_years'].value_counts()} \\n\")"
   ]
  },
  {
   "cell_type": "code",
   "execution_count": null,
   "id": "f20642ef",
   "metadata": {},
   "outputs": [],
   "source": [
    "# x_train['prg_cnt_2_years'].value_counts()\n",
    "text_file.write(f\"x_train progression value count for last 2 years : {x_train['prg_cnt_2_years'].value_counts()} \\n\")\n",
    "text_file.write(f\"x_test progression value count for last years : {x_test['prg_cnt_2_years'].value_counts()} \\n\")"
   ]
  },
  {
   "cell_type": "code",
   "execution_count": null,
   "id": "bdf74343",
   "metadata": {},
   "outputs": [],
   "source": [
    "x_train_list = []\n",
    "x_test_list = []\n",
    "x_train_list.append(x_train.shape)\n",
    "x_test_list.append(x_test.shape)\n",
    "print(x_train_list)\n",
    "print(x_test_list)"
   ]
  },
  {
   "cell_type": "code",
   "execution_count": null,
   "id": "838fa7e0",
   "metadata": {},
   "outputs": [],
   "source": [
    "x_train.dropna(how='all').shape"
   ]
  },
  {
   "cell_type": "code",
   "execution_count": null,
   "id": "9c2fd828",
   "metadata": {},
   "outputs": [],
   "source": [
    "text_file.write(f'x_train shape : {x_train.shape} \\n')\n",
    "text_file.write(f'x_test shape : {x_test.shape} \\n\\n')"
   ]
  },
  {
   "cell_type": "code",
   "execution_count": null,
   "id": "e5d030a2",
   "metadata": {},
   "outputs": [],
   "source": [
    "text_file.write(f'Train label distribution : \\n{pd.DataFrame(y_train)[\"c1\"].value_counts()} \\n')\n",
    "text_file.write(f'Test label distribution : \\n{pd.DataFrame(y_test)[\"c1\"].value_counts()} \\n\\n')"
   ]
  },
  {
   "cell_type": "code",
   "execution_count": null,
   "id": "e2ba2c98",
   "metadata": {},
   "outputs": [],
   "source": [
    "text_file.write('Stats for duration between dx and event/censor date \\n')\n",
    "text_file.write(f\"{final_stat_df['diff'].describe(percentiles=[0.1,0.25,0.50,0.75,0.9])} \\n\\n\")"
   ]
  },
  {
   "cell_type": "code",
   "execution_count": null,
   "id": "b3b26c07",
   "metadata": {},
   "outputs": [],
   "source": [
    "text_file.write('Stats for duration between random point and event/censor date \\n')\n",
    "text_file.write(f\"{final_stat_df['label'].describe(percentiles=[0.1,0.25,0.50,0.75,0.9])} \\n\\n\")"
   ]
  },
  {
   "cell_type": "code",
   "execution_count": null,
   "id": "f802cc9d",
   "metadata": {},
   "outputs": [],
   "source": [
    "## pre selected params describe models ##\n",
    "\n",
    "PARAMS_XGB_AFT = {\n",
    "    'objective': 'survival:aft',\n",
    "    'eval_metric': 'aft-nloglik',\n",
    "    'aft_loss_distribution': 'normal',\n",
    "    'aft_loss_distribution_scale': 1.0,\n",
    "    'tree_method': 'hist',\n",
    "    'learning_rate': 0.005,\n",
    "    'max_depth': 16,\n",
    "    'booster':'dart',\n",
    "    'subsample': 0.8,\n",
    "    'min_child_weight': 30,\n",
    "    'colsample_bynode':0.8,\n",
    "}\n",
    "\n",
    "xgbse_model = XGBSEDebiasedBCE(PARAMS_XGB_AFT)\n",
    "xgbse_model.fit(x_train,y_train,validation_data=[x_test,y_test],time_bins=np.array([30,60,90,120,150,180]),early_stopping_rounds=10)"
   ]
  },
  {
   "cell_type": "code",
   "execution_count": null,
   "id": "3d76b19b",
   "metadata": {},
   "outputs": [],
   "source": [
    "train_cindex = concordance_index(y_train, xgbse_model.predict(x_train))\n",
    "test_cindex = concordance_index(y_test, xgbse_model.predict(x_test))"
   ]
  },
  {
   "cell_type": "code",
   "execution_count": null,
   "id": "37e33ab4",
   "metadata": {},
   "outputs": [],
   "source": [
    "print(f'Train c-index : {train_cindex}')\n",
    "print(f'Test c-index : {test_cindex_list}')\n",
    "text_file.write(f'Train c-index : {train_cindex} \\n')\n",
    "text_file.write(f'Test c-index : {test_cindex} \\n')"
   ]
  },
  {
   "cell_type": "code",
   "execution_count": null,
   "id": "42c73788",
   "metadata": {},
   "outputs": [],
   "source": []
  },
  {
   "cell_type": "code",
   "execution_count": null,
   "id": "dcb39290",
   "metadata": {},
   "outputs": [],
   "source": [
    "pred = []\n",
    "pred.append(xgbse_model.predict(x_test))\n",
    "for col in pred[0].columns:\n",
    "    stat_df_list.append(get_stats(f'prob_{col}',pred[0][col]))\n",
    "    \n",
    "event_prob_df = 1-pred[0]\n",
    "# event_prob_df.to_csv(f'data_backup/all_feature_prob_{today_date}.csv')\n",
    "slelected_pt_list = []\n",
    "for col in event_prob_df.columns:\n",
    "    selected_df = event_prob_df[event_prob_df[col]>=0.8]\n",
    "    main_index = list(x_test.reset_index().iloc[list(selected_df.index)]['index'])\n",
    "    slelected_pt_list.append(list(final_stat_df.iloc[main_index]['chai_patient_id']))\n",
    "    print(f'{col} : {selected_df.shape}')"
   ]
  },
  {
   "cell_type": "code",
   "execution_count": null,
   "id": "0c188858",
   "metadata": {},
   "outputs": [],
   "source": [
    "# selcted_patient_info = pd.DataFrame({'chai_patient_id':slelected_pt_list[3]})\n",
    "# window =[30,60,90,120]\n",
    "# for i in range(len(slelected_pt_list)):\n",
    "#     selcted_patient_info[window[i]] = selcted_patient_info['chai_patient_id'].apply(lambda x:True if x in slelected_pt_list[i] else False)\n",
    "\n",
    "# selcted_patient_info = selcted_patient_info.merge(final_stat_df,on='chai_patient_id',how='inner') "
   ]
  },
  {
   "cell_type": "code",
   "execution_count": null,
   "id": "200899e9",
   "metadata": {},
   "outputs": [],
   "source": [
    "import pickle\n",
    "import joblib\n",
    "date = '05_02_2024'\n",
    "event_prob_df.to_csv(f'{output_dir}event_prob_df_{date}.csv')\n",
    "x_train.to_csv(f'{output_dir}x_train_{date}.csv')\n",
    "x_test.to_csv(f'{output_dir}x_test_{date}.csv')\n",
    "np.save(f'{output_dir}y_train_{date}.npy',y_train)\n",
    "np.save(f'{output_dir}y_test_{date}.npy',y_test)\n",
    "final_stat_df.to_csv(f'{output_dir}final_stat_df_{date}.csv')\n",
    "with open(f'{output_dir}model_{date}.pkl','wb') as f:\n",
    "    pickle.dump(xgbse_model,f)\n",
    "joblib.dump(xgbse_model,f'{output_dir}model_{date}.joblib')"
   ]
  },
  {
   "cell_type": "code",
   "execution_count": null,
   "id": "12bc47db",
   "metadata": {},
   "outputs": [],
   "source": [
    "output_dir"
   ]
  },
  {
   "cell_type": "code",
   "execution_count": null,
   "id": "1e70efe9",
   "metadata": {},
   "outputs": [],
   "source": [
    "# import pickle\n",
    "# import joblib\n",
    "# date = '04_10_2024'\n",
    "# event_prob_df = pd.read_csv(f'{output_dir}event_prob_df_{date}.csv')\n",
    "# x_train = pd.read_csv(f'{output_dir}x_train_{date}.csv')\n",
    "# x_test = pd.read_csv(f'{output_dir}x_test_{date}.csv')\n",
    "# y_train = np.load(f'{output_dir}y_train_{date}.npy')\n",
    "# y_test = np.load(f'{output_dir}y_test_{date}.npy')\n",
    "# final_stat_df = pd.read_csv(f'{output_dir}final_stat_df_{date}.csv')\n",
    "\n",
    "# with open(f'{output_dir}model_{date}.pkl','rb') as f:\n",
    "#     xgbse_model = pickle.load(f) "
   ]
  },
  {
   "cell_type": "code",
   "execution_count": null,
   "id": "1a4922e9",
   "metadata": {},
   "outputs": [],
   "source": [
    "# x_train = x_train.drop('Unnamed: 0',axis=1)\n",
    "# x_test = x_test.drop('Unnamed: 0',axis=1)\n",
    "# final_stat_df = final_stat_df.drop('Unnamed: 0',axis=1)\n"
   ]
  },
  {
   "cell_type": "code",
   "execution_count": null,
   "id": "39883745",
   "metadata": {},
   "outputs": [],
   "source": [
    "from sklearn.metrics import PrecisionRecallDisplay,ConfusionMatrixDisplay,confusion_matrix,roc_auc_score\n",
    "import matplotlib.pyplot as plt\n",
    "# combined_test_info_df = event_prob_df.join(x_test).merge(final_stat_df[['index','chai_patient_id','label','final_selection']],on='index',how='inner')\n",
    "\n",
    "text_file.write('GT Label counts at different prediction windows \\n')\n",
    "combined_test_info_df = event_prob_df.join(x_test.reset_index()).merge(final_stat_df.reset_index()[['index','chai_patient_id','label','final_selection']],on='index',how='inner')\n",
    "for i in [30,60,90,120,150,180]:\n",
    "    combined_test_info_df[f'final_selection_{i}'] = combined_test_info_df.apply(lambda x: False if x['label']>i else x['final_selection'],axis=1)\n",
    "    print(combined_test_info_df[f'final_selection_{i}'].value_counts())\n",
    "    print(f\"ROC AUC Score : {roc_auc_score(combined_test_info_df[f'final_selection_{i}'], combined_test_info_df[i])}\")\n",
    "    text_file.write(f'Label counts for window : {i} \\n')\n",
    "    text_file.write(f\"{combined_test_info_df[f'final_selection_{i}'].value_counts()} \\n\\n\")\n",
    "    PrecisionRecallDisplay.from_predictions(combined_test_info_df[f'final_selection_{i}'], combined_test_info_df[i], name=\"PA_model\", plot_chance_level=True)\n",
    "    plt.title(f'window : {i}')\n",
    "    plt.savefig(f'{output_dir}/PRC_Window_{i}.png')\n",
    "    plt.plot()\n",
    "    "
   ]
  },
  {
   "cell_type": "code",
   "execution_count": null,
   "id": "11f4304b",
   "metadata": {},
   "outputs": [],
   "source": [
    "text_file.close()"
   ]
  },
  {
   "cell_type": "code",
   "execution_count": null,
   "id": "f0a8ddc2",
   "metadata": {},
   "outputs": [],
   "source": [
    "from sklearn.metrics import ConfusionMatrixDisplay,confusion_matrix\n",
    "import matplotlib.pyplot as plt\n",
    "# combined_test_info_df = event_prob_df.join(x_test.reset_index()).merge(final_stat_df.reset_index()[['index','chai_patient_id','label','final_selection']],on='index',how='inner')\n",
    "\n",
    "for window in [30,60,90,120,150,180]:\n",
    "    for thresold in [0.1]:\n",
    "        combined_test_info_df[f'pred_{thresold}'] = combined_test_info_df[window].apply(lambda x:x>thresold)\n",
    "        cm = confusion_matrix(combined_test_info_df[f'final_selection_{window}'],combined_test_info_df[f'pred_{thresold}'])\n",
    "        disp = ConfusionMatrixDisplay(cm)\n",
    "        disp.plot()\n",
    "        plt.title(f'Thresold : {thresold}, Window : {window}')\n",
    "        plt.savefig(f'{output_dir}/CF_thresold_{thresold}_Window_{window}.png')\n",
    "#         plt.show()"
   ]
  },
  {
   "cell_type": "code",
   "execution_count": null,
   "id": "31d6557a",
   "metadata": {},
   "outputs": [],
   "source": [
    "# from sklearn.metrics import ConfusionMatrixDisplay,confusion_matrix\n",
    "# # combined_test_info_df = event_prob_df.join(x_test.reset_index()).merge(final_stat_df.reset_index()[['index','chai_patient_id','label','final_selection']],on='index',how='inner')\n",
    "# metric_list = []\n",
    "# for window in [30,60,90,120,150,180]:\n",
    "#     window_df = pd.DataFrame({'window':[window]})\n",
    "#     for thresold in [0.2,0.3,0.4,0.5,0.6,0.7,0.8]:\n",
    "#         combined_test_info_df[f'pred_{thresold}'] = combined_test_info_df[window].apply(lambda x:x>thresold)\n",
    "#         cm = confusion_matrix(combined_test_info_df[f'final_selection_{i}'],combined_test_info_df[f'pred_{thresold}'])\n",
    "#         tn,fp,fn,tp = cm[0,0],cm[0,1],cm[1,0],cm[1,1]\n",
    "#         p1 = tp/(tp+fp)\n",
    "#         r1 = tp/(tp+fn)\n",
    "#         f1 = 2*p1*r1/(p1+r1)\n",
    "#         p0 = tn/(tn+fn)\n",
    "#         r0 = tn/(tn+fp)\n",
    "#         f0 = 2*p0*r0/(p0+r0)\n",
    "#         window_df = pd.concat([window_df,pd.DataFrame({\n",
    "#             f'tn_{thresold}' : [tn],\n",
    "#             f'fp_{thresold}' : [fp],\n",
    "#             f'fn_{thresold}' : [fn],\n",
    "#             f'tp_{thresold}' : [tp],\n",
    "#             f'p1_{thresold}' : [p1],\n",
    "#             f'r1_{thresold}' : [r1],\n",
    "#             f'f1_{thresold}' : [f1],\n",
    "#             f'p0_{thresold}' : [p0],\n",
    "#             f'r0_{thresold}' : [r0],\n",
    "#             f'f0_{thresold}' : [f0],\n",
    "#         })],axis=1)\n",
    "#     metric_list.append(window_df)\n",
    "# metric_df = pd.concat(metric_list)\n",
    "\n",
    "# metric_df.to_csv(f'data_backup/metric_df_{date}.csv',index=False)"
   ]
  },
  {
   "cell_type": "code",
   "execution_count": null,
   "id": "58e3ae6a",
   "metadata": {},
   "outputs": [],
   "source": [
    "for i in [30,60,90,120,150,180]:\n",
    "    print(i)\n",
    "    event_prob_df[i].hist(bins=100)\n",
    "    plt.savefig(f'{output_dir}predicted_prob_distribution_{i}.png')\n",
    "    plt.show()"
   ]
  },
  {
   "cell_type": "code",
   "execution_count": null,
   "id": "2d2dc3d6",
   "metadata": {},
   "outputs": [],
   "source": [
    "## Importance plot\n",
    "feature_importance_df = pd.DataFrame(xgbse_model.feature_importances_.items(),columns=['feature','importance'])\n",
    "feature_importance_df = feature_importance_df.sort_values('importance',ascending=False)\n",
    "# feature_importance_df.iloc[0:50]\n",
    "print(feature_importance_df.shape)\n",
    "\n",
    "feature_importance_df = feature_importance_df.sort_values(by='importance',ascending=False)\n",
    "combine_feature_importance_df_subset = feature_importance_df[:20]\n",
    "combine_feature_importance_df_subset = combine_feature_importance_df_subset.sort_values(by='importance',ascending=True)\n",
    "\n",
    "f, ax = plt.subplots(figsize=(20,10))\n",
    "plt.barh(combine_feature_importance_df_subset['feature'],combine_feature_importance_df_subset['importance'])\n",
    "# plt.xticks(range(len(combine_feature_importance_df_subset['feature'])), combine_feature_importance_df_subset['average'],rotation='vertical')\n",
    "# plt.show()\n",
    "plt.savefig(f'{output_dir}/importance_plot.png',bbox_inches = 'tight')"
   ]
  },
  {
   "cell_type": "code",
   "execution_count": null,
   "id": "9fd1b74b",
   "metadata": {},
   "outputs": [],
   "source": [
    "x_train_sample =  x_train.sample(n=200,random_state=123).astype('float64')\n",
    "explainer = shap.Explainer(xgbse_model.predict, x_train_sample)\n",
    "shap_values = explainer(x_train_sample)\n",
    "shap_values.shape"
   ]
  },
  {
   "cell_type": "code",
   "execution_count": null,
   "id": "ce5a1c8f",
   "metadata": {},
   "outputs": [],
   "source": [
    "## Beeswarm SHAP plot\n",
    "shap.plots.beeswarm(shap_values[:,:,1],max_display=20,show=False)\n",
    "plt.savefig(f'{output_dir}/shap_plot.png',bbox_inches = 'tight')"
   ]
  },
  {
   "cell_type": "code",
   "execution_count": null,
   "id": "c12119f2",
   "metadata": {},
   "outputs": [],
   "source": [
    "shap.plots.bar(shap_values[8,:,0])"
   ]
  },
  {
   "cell_type": "code",
   "execution_count": null,
   "id": "95109850",
   "metadata": {},
   "outputs": [],
   "source": [
    "shap.plots.waterfall(shap_values[8,:,0])"
   ]
  },
  {
   "cell_type": "code",
   "execution_count": null,
   "id": "f28748e1",
   "metadata": {},
   "outputs": [],
   "source": [
    "merged_df = pd.concat([x_train,pd.DataFrame(y_train)],axis=1)"
   ]
  },
  {
   "cell_type": "code",
   "execution_count": null,
   "id": "9f6b0a61",
   "metadata": {},
   "outputs": [],
   "source": [
    "merged_df.head()"
   ]
  },
  {
   "cell_type": "code",
   "execution_count": null,
   "id": "0f27192c",
   "metadata": {},
   "outputs": [],
   "source": [
    "merged_df[merged_df['c1']==True]['m_protein_in_serum'].hist(bins=100,alpha=0.5)\n",
    "merged_df[merged_df['c1']==False]['m_protein_in_serum'].hist(bins=100,alpha=0.5)"
   ]
  },
  {
   "cell_type": "code",
   "execution_count": null,
   "id": "72a541a1",
   "metadata": {},
   "outputs": [],
   "source": [
    "merged_df[(merged_df['c1']==True) & (merged_df['abs_change_from_nadir_serum_free_light_lambda']<50)]['abs_change_from_nadir_serum_free_light_lambda'].plot.kde()\n",
    "merged_df[(merged_df['c1']==False) & (merged_df['abs_change_from_nadir_serum_free_light_lambda']<50)]['abs_change_from_nadir_serum_free_light_lambda'].plot.kde()\n",
    "plt.legend(['Event','Censored'])\n",
    "plt.title('m_protein_in_serum')"
   ]
  },
  {
   "cell_type": "code",
   "execution_count": null,
   "id": "89e943bb",
   "metadata": {},
   "outputs": [],
   "source": [
    "merged_df[(merged_df['c1']==True) & (merged_df['serum_free_light_kappa']<75)]['serum_free_light_kappa'].hist(bins=100,alpha=0.5)\n",
    "merged_df[(merged_df['c1']==False) & (merged_df['serum_free_light_kappa']<75)]['serum_free_light_kappa'].hist(bins=100,alpha=0.5)"
   ]
  },
  {
   "cell_type": "code",
   "execution_count": null,
   "id": "e4561338",
   "metadata": {},
   "outputs": [],
   "source": [
    "merged_df[(merged_df['c1']==True) & (merged_df['serum_free_light_kappa']<75)]['serum_free_light_kappa'].plot.kde()\n",
    "merged_df[(merged_df['c1']==False) & (merged_df['serum_free_light_kappa']<75)]['serum_free_light_kappa'].plot.kde()\n",
    "plt.legend(['Event','Censored'])\n",
    "plt.title('serum_free_light_kappa')"
   ]
  },
  {
   "cell_type": "code",
   "execution_count": null,
   "id": "9a178341",
   "metadata": {},
   "outputs": [],
   "source": [
    "merged_df[(merged_df['c1']==True) & (merged_df['serum_free_light_lambda']<100)]['serum_free_light_lambda'].hist(bins=100,alpha=0.5)\n",
    "merged_df[(merged_df['c1']==False) & (merged_df['serum_free_light_lambda']<100)]['serum_free_light_lambda'].hist(bins=100,alpha=0.5)"
   ]
  },
  {
   "cell_type": "code",
   "execution_count": null,
   "id": "d8cd50fa",
   "metadata": {},
   "outputs": [],
   "source": [
    "merged_df[(merged_df['c1']==True)  & (merged_df['serum_free_light_lambda']<100)]['serum_free_light_lambda'].plot.kde()\n",
    "merged_df[(merged_df['c1']==False)  & (merged_df['serum_free_light_lambda']<100)]['serum_free_light_lambda'].plot.kde()\n",
    "plt.legend(['Event','Censored'])\n",
    "plt.title('serum_free_light_lambda')"
   ]
  },
  {
   "cell_type": "code",
   "execution_count": null,
   "id": "04138e6c",
   "metadata": {},
   "outputs": [],
   "source": [
    "merged_df[(merged_df['c1']==True) & (merged_df['m_protein_in_urine']<1000)]['m_protein_in_urine'].hist(bins=100,alpha=0.5)\n",
    "merged_df[(merged_df['c1']==False) & (merged_df['m_protein_in_urine']<1000)]['m_protein_in_urine'].hist(bins=100,alpha=0.5)"
   ]
  },
  {
   "cell_type": "code",
   "execution_count": null,
   "id": "9787ff09",
   "metadata": {},
   "outputs": [],
   "source": [
    "merged_df[(merged_df['c1']==True)  & (merged_df['m_protein_in_urine']<1000)]['m_protein_in_urine'].plot.kde()\n",
    "merged_df[(merged_df['c1']==False)  & (merged_df['m_protein_in_urine']<1000)]['m_protein_in_urine'].plot.kde()\n",
    "plt.legend(['Event','Censored'])\n",
    "plt.title('m_protein_in_urine')"
   ]
  },
  {
   "cell_type": "code",
   "execution_count": null,
   "id": "a6103427",
   "metadata": {},
   "outputs": [],
   "source": [
    "event_prob_df_train = 1-xgbse_model.predict(x_train)\n",
    "merged_df = pd.concat([merged_df,event_prob_df_train],axis=1)\n",
    "merged_df.head()"
   ]
  },
  {
   "cell_type": "code",
   "execution_count": null,
   "id": "4047b34e",
   "metadata": {},
   "outputs": [],
   "source": [
    "merged_df[merged_df['c1']==True][180].plot.kde()\n",
    "merged_df[merged_df['c1']==False][180].plot.kde()\n",
    "plt.legend(['Event','Censored'])\n",
    "plt.title('Prediction window : 180')"
   ]
  },
  {
   "cell_type": "code",
   "execution_count": null,
   "id": "def4f045",
   "metadata": {},
   "outputs": [],
   "source": [
    "for window in [30,60,90,120,150,180]:\n",
    "    combined_test_info_df[combined_test_info_df[f'final_selection_{window}']==True][str(window)].plot.kde()\n",
    "    combined_test_info_df[combined_test_info_df[f'final_selection_{window}']==False][str(window)].plot.kde()\n",
    "    plt.legend(['Event','Censored'])\n",
    "    plt.title(f'Prediction window : {window}')\n",
    "    plt.show()"
   ]
  },
  {
   "cell_type": "code",
   "execution_count": null,
   "id": "583da954",
   "metadata": {},
   "outputs": [],
   "source": [
    "temp_df = pd.DataFrame({'abs_change_from_nadir_serum_free_light_kappa':[7,8,9,10,11,12,13,14,15,16]})\n",
    "for col in x_train.columns:\n",
    "    if col!='abs_change_from_nadir_serum_free_light_kappa':\n",
    "        temp_df[col] = temp_df.apply(lambda x:np.nan)\n",
    "        \n",
    "temp_df = temp_df[x_train.columns]"
   ]
  },
  {
   "cell_type": "code",
   "execution_count": null,
   "id": "8c1ad554",
   "metadata": {},
   "outputs": [],
   "source": [
    "xgbse_model.predict(temp_df)"
   ]
  },
  {
   "cell_type": "code",
   "execution_count": null,
   "id": "d27af293",
   "metadata": {},
   "outputs": [],
   "source": []
  }
 ],
 "metadata": {
  "kernelspec": {
   "display_name": "conda_python3",
   "language": "python",
   "name": "conda_python3"
  },
  "language_info": {
   "codemirror_mode": {
    "name": "ipython",
    "version": 3
   },
   "file_extension": ".py",
   "mimetype": "text/x-python",
   "name": "python",
   "nbconvert_exporter": "python",
   "pygments_lexer": "ipython3",
   "version": "3.10.14"
  }
 },
 "nbformat": 4,
 "nbformat_minor": 5
}
