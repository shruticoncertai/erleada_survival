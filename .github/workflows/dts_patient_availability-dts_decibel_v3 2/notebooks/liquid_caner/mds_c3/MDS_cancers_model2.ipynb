{
 "cells": [
  {
   "cell_type": "code",
   "execution_count": null,
   "id": "1d7bf88a",
   "metadata": {},
   "outputs": [],
   "source": [
    "%load_ext autoreload\n",
    "%autoreload 2"
   ]
  },
  {
   "cell_type": "code",
   "execution_count": null,
   "id": "e2503c7d",
   "metadata": {},
   "outputs": [],
   "source": [
    "def warn(*args, **kwargs):\n",
    "    pass\n",
    "import warnings\n",
    "warnings.warn = warn\n",
    "import pandas as pd\n",
    "from IPython.display import display\n",
    "pd.options.display.max_columns = None\n",
    "import numpy as np\n",
    "import json\n",
    "from data_transfer_utility.application import DataTransferUtility\n",
    "from xgboost import XGBClassifier\n",
    "import shap\n",
    "import xgboost\n",
    "from sklearn.model_selection import train_test_split\n",
    "from sklearn import metrics\n",
    "from lifelines.utils import concordance_index\n",
    "import random\n",
    "import copy\n",
    "from cryptography.fernet import Fernet\n",
    "import pickle\n",
    "import datetime\n",
    "\n",
    "import re\n",
    "import os\n",
    "from datetime import date,timedelta\n",
    "import matplotlib.pyplot as plt\n",
    "\n",
    "today_date = date.today()"
   ]
  },
  {
   "cell_type": "code",
   "execution_count": null,
   "id": "32ffde30-4048-44c2-83fb-8a28d8d76b6d",
   "metadata": {},
   "outputs": [],
   "source": [
    "output_dir = f'data_backup/m2_mds_{today_date}/'\n",
    "# output_dir = f'data_backup/m2_mds_2024-05-29/'\n",
    "if output_dir.split('/')[1] not in os.listdir('data_backup/'):\n",
    "    os.makedirs(output_dir)\n",
    "text_file = open(output_dir+'output.txt','w')\n",
    "# # text_file = open(output_dir+'output.txt','a')"
   ]
  },
  {
   "cell_type": "code",
   "execution_count": null,
   "id": "2993963c-6c2d-4cdf-950a-1dfba10c9681",
   "metadata": {},
   "outputs": [],
   "source": [
    "text_file.write(\"Consdiering onlly lab based features.I have added labs like wbc, hemoglobin, platelates,ferritin,blasts and neutrophil as features.\\n\\\n",
    "Removed medication, imaging, stage, biomarker and labs like 489004, 26516-5, 53800-9, 74464-9,13056-7, 48725-6, 93846-4, 33256-9, 30350-3,804-5,49497-1,20509-6,30313-1,778-1,30351-1,49498-9\\n\\\n",
    "Also removed Mean, Median, 25th percentile, 75th percentile, Range, Min delta, Max delta, Satandard Deviattion for lab stats.\\n\\\n",
    "Considered mean of respectiive different code features belong to same lab group\")"
   ]
  },
  {
   "cell_type": "code",
   "execution_count": null,
   "id": "bee8ac67",
   "metadata": {},
   "outputs": [],
   "source": [
    "from mds_features_model2 import *\n",
    "from mds_labs_model2 import *"
   ]
  },
  {
   "cell_type": "code",
   "execution_count": null,
   "id": "b7ba99b0",
   "metadata": {
    "tags": []
   },
   "outputs": [],
   "source": [
    "REDSHIFT_CREDENTIALS = json.load(open('../secrets/dtu_redshift_credentials.json', 'r'))\n",
    "dtu = DataTransferUtility(df_mode='pandas', **REDSHIFT_CREDENTIALS)"
   ]
  },
  {
   "cell_type": "code",
   "execution_count": null,
   "id": "261bb810-c13d-40a0-a0cf-bcf72de851a0",
   "metadata": {},
   "outputs": [],
   "source": []
  },
  {
   "cell_type": "code",
   "execution_count": null,
   "id": "ca574af6",
   "metadata": {},
   "outputs": [],
   "source": [
    "# biomarker_schemas = {'Lung':'c3_gn360_202312_nsclc',\n",
    "#                      'Breast':'c3_gn360_202309_breast',\n",
    "#                      'Prostate':'c3_gn360_202309_prostate',\n",
    "#                      'Bladder':'c3_gn360_202309_bladder',\n",
    "#                      'Pancreas':'c3_gn360_202309_pancreatic',\n",
    "#                      'Colorectal':'c3_gn360_202309_crc'}\n",
    "\n",
    "biomarker_schemas= {'Bladder':'c3_gn360_202403_bladder',\n",
    "                    'Breast':'c3_gn360_202403_breast',\n",
    "                    'Colorectal':'c3_gn360_202403_crc',\n",
    "                    'NSCLC':'c3_gn360_202403_nsclc',\n",
    "                    'Ovarian':'c3_gn360_202403_ovarian',\n",
    "                    'Pancreas':'c3_gn360_202403_pancreatic',\n",
    "                    'Prostate':'c3_gn360_202403_prostate',\n",
    "                    'SCLC':'c3_gn360_202403_sclc'}"
   ]
  },
  {
   "cell_type": "code",
   "execution_count": null,
   "id": "0bbe6013",
   "metadata": {},
   "outputs": [],
   "source": [
    "cohort = 'mds'\n",
    "schema = 'cdm_structured_202402'\n",
    "# index_date_table = 'model_factory_dev.ofpc_LoT_index_date_c3_cdm_ss_all_ovarian_202312_v2_2_1_20231208_0619'\n",
    "initial_dx_table = 'model_factory_dev.initial_dx_date_cdm_structured_202402_v2_5_20240404_1034'\n",
    "lot_table_name = 'line_of_therapy.mds_rbs_rwd360_cdm_structured_202402_lot_v6_7_20240404_1146'"
   ]
  },
  {
   "cell_type": "code",
   "execution_count": null,
   "id": "f664993f-ee39-4fcf-a0c5-e3c37cb13be2",
   "metadata": {},
   "outputs": [],
   "source": [
    "index_date_df = get_mds_initial_dx_table(initial_dx_table)\n",
    "patient_ids = list(set(index_date_df['chai_patient_id']))\n",
    "pat_str = \"','\".join(patient_ids)"
   ]
  },
  {
   "cell_type": "code",
   "execution_count": null,
   "id": "76f89f34-f2f7-45e0-aed3-a490fae6d13f",
   "metadata": {
    "tags": []
   },
   "outputs": [],
   "source": [
    "patient_test_df = dtu.redshift_to_df('''SELECT \n",
    "    chai_patient_id,curation_indicator,test_name_standard_name,test_name_standard_code,\n",
    "    test_date,test_value_numeric_standard,test_unit_standard_name FROM {schema}.patient_test\n",
    "    WHERE chai_patient_id IN ('{pat_str}')'''.format(schema=schema,pat_str=pat_str))"
   ]
  },
  {
   "cell_type": "code",
   "execution_count": null,
   "id": "8c1deecc-0b05-4678-8594-9e41d034a5d9",
   "metadata": {},
   "outputs": [],
   "source": [
    "patient_test_df.shape"
   ]
  },
  {
   "cell_type": "code",
   "execution_count": null,
   "id": "3b3bf0c0-2668-4a13-a376-84757543f7b9",
   "metadata": {},
   "outputs": [],
   "source": [
    "unique_labs = patient_test_df['test_name_standard_name'].unique()"
   ]
  },
  {
   "cell_type": "code",
   "execution_count": null,
   "id": "fe997471-09bb-4d59-b7e4-c1b42326c1df",
   "metadata": {},
   "outputs": [],
   "source": [
    "unique_labs"
   ]
  },
  {
   "cell_type": "code",
   "execution_count": null,
   "id": "882da084-b89a-497e-ad1a-350949337be6",
   "metadata": {},
   "outputs": [],
   "source": [
    "blast_list = [x for x in unique_labs if 'Blasts' in x]"
   ]
  },
  {
   "cell_type": "code",
   "execution_count": null,
   "id": "3d94b467-65a5-4192-8d07-b1e8dc56b215",
   "metadata": {},
   "outputs": [],
   "source": [
    "temp_patient_test_df = patient_test_df[patient_test_df['test_name_standard_code'].isin(['30376-8','708-8'])]"
   ]
  },
  {
   "cell_type": "code",
   "execution_count": null,
   "id": "dc4c51d6-8d8a-46b8-bebf-ada5fac994e6",
   "metadata": {},
   "outputs": [],
   "source": [
    "temp_patient_test_df['test_unit_standard_name'].value_counts()"
   ]
  },
  {
   "cell_type": "code",
   "execution_count": null,
   "id": "82ab51bf-014a-492f-9d7f-30198ef85bec",
   "metadata": {},
   "outputs": [],
   "source": []
  },
  {
   "cell_type": "code",
   "execution_count": null,
   "id": "700c610b-3d81-441c-b5d9-f5077bc1c1ef",
   "metadata": {},
   "outputs": [],
   "source": []
  },
  {
   "cell_type": "code",
   "execution_count": null,
   "id": "279cc7d1-f319-498d-83b7-939d69292b7c",
   "metadata": {},
   "outputs": [],
   "source": [
    "temp = patient_test_df[patient_test_df['test_name_standard_name'].apply(lambda x:'ecog' in x.lower())]\n",
    "temp_lab = temp.groupby(['test_name_standard_name','test_name_standard_code']).count()\n",
    "temp_lab = temp_lab.sort_values(by='chai_patient_id',ascending=False)"
   ]
  },
  {
   "cell_type": "code",
   "execution_count": null,
   "id": "d3b575ff-e4d0-4705-bc86-0c699678585d",
   "metadata": {},
   "outputs": [],
   "source": [
    "temp_lab.shape"
   ]
  },
  {
   "cell_type": "code",
   "execution_count": null,
   "id": "4012c027-3f24-445b-b8d5-0699daa0c24f",
   "metadata": {},
   "outputs": [],
   "source": [
    "temp_lab = temp_lab.reset_index()\n",
    "temp_lab = temp_lab[['test_name_standard_name','test_name_standard_code','chai_patient_id']].rename(columns={'chai_patient_id':'count'})\n",
    "temp_lab.head()"
   ]
  },
  {
   "cell_type": "code",
   "execution_count": null,
   "id": "25e73889-61c3-4c64-a71a-42d42fd96bf8",
   "metadata": {},
   "outputs": [],
   "source": [
    "temp_lab.to_csv('mds_ecog_counts.csv')"
   ]
  },
  {
   "cell_type": "code",
   "execution_count": null,
   "id": "d54b0e7a-b136-4a86-9fa9-2010c8a3def4",
   "metadata": {},
   "outputs": [],
   "source": []
  },
  {
   "cell_type": "code",
   "execution_count": null,
   "id": "773b2ab3-0406-430b-91ba-99c21d9b93e5",
   "metadata": {},
   "outputs": [],
   "source": []
  },
  {
   "cell_type": "code",
   "execution_count": null,
   "id": "c8cf94e1-b9a1-45cb-9abd-77bfd2329d64",
   "metadata": {},
   "outputs": [],
   "source": [
    "from datetime import date\n",
    "import re\n",
    "import time\n",
    "import datetime\n",
    "from datetime import timedelta\n",
    "\n",
    "def _identify_following_month_first_date(month, year):\n",
    "    if month == 12:\n",
    "        cutoff_year = int(year) + 1\n",
    "        cutoff_month = 1\n",
    "    else:\n",
    "        cutoff_year = year\n",
    "        cutoff_month = month + 1\n",
    "\n",
    "    cut_off_date = datetime.datetime(\n",
    "        int(cutoff_year), cutoff_month, 1\n",
    "    )\n",
    "\n",
    "    return cut_off_date\n",
    "\n",
    "\n",
    "def prepare_cutoff_date(schema_name):\n",
    "    current_year = str(date.today()).split(\"-\")[0]\n",
    "    prev_year = str(int(str(date.today()).split(\"-\")[0]) - 1)\n",
    "    if re.search(current_year + r\"(\\d+)\", schema_name):\n",
    "        year = current_year\n",
    "    elif re.search(prev_year + r\"(\\d+)\", schema_name):\n",
    "        year = prev_year\n",
    "    month = int(re.search(year + r\"(\\d+)\", schema_name).group(1))\n",
    "    cut_off_date = _identify_following_month_first_date(month, year)\n",
    "\n",
    "    return (cut_off_date - timedelta(days=1))\n"
   ]
  },
  {
   "cell_type": "code",
   "execution_count": null,
   "id": "5ecc2198",
   "metadata": {
    "tags": []
   },
   "outputs": [],
   "source": [
    "def main(schema, initial_dx_table, lot_table_name, cohort):\n",
    "    feature_dict = {}\n",
    "    cohort_org = copy.deepcopy(cohort)\n",
    "    if cohort in ['NSCLC','SCLC']:\n",
    "        cohort='Lung'\n",
    "    # cond_table = get_condition_table(schema, cohort)\n",
    "    # pat_ids = list(cond_table.unique())\n",
    "\n",
    "    # index_date_df = get_index_table(index_date_table, cond_table)\n",
    "    # index_date_df = get_index_table_wo_cond(index_date_table)\n",
    "    index_date_df = get_mds_initial_dx_table(initial_dx_table)\n",
    "    index_date_df = index_date_df.rename(columns={'diagnosis_date':'index_date'})\n",
    "    index_date_df = index_date_df[index_date_df[\"index_date\"].notnull()]\n",
    "    print(f\"Index_date : {index_date_df.shape}, unique patients : {index_date_df['chai_patient_id'].nunique()}\")\n",
    "\n",
    "    # cond_table = cond_table.merge(index_date_df[['chai_patient_id','index_date']],on=['chai_patient_id'],how='inner')\n",
    "    cond_table = index_date_df[['chai_patient_id','index_date']]\n",
    "    cond_table = cond_table[cond_table['index_date'].dt.year>2014]\n",
    "    # cond_table = cond_table[cond_table['index_date']>cond_table['diagnosis_date']]\n",
    "    cond_table = cond_table.drop_duplicates(subset=['chai_patient_id','index_date'])\n",
    "\n",
    "    censored = get_censored_patients(schema, cond_table)\n",
    "    cut_off_date = prepare_cutoff_date(schema)\n",
    "    censored[\"cut_off_date\"] = cut_off_date\n",
    "    censored['last_available_date'] = censored.apply(lambda x:x['cut_off_date'] if (x['cut_off_date']<x['last_available_date']) else x['last_available_date'],axis=1)\n",
    "    print(f\"censored : {censored.shape}, unique patients : {censored['chai_patient_id'].nunique()}\")\n",
    "\n",
    "    cond_table =cond_table.merge(censored,on='chai_patient_id',how='left')\n",
    "    cond_table['duration'] = cond_table.apply(lambda x:(x['last_available_date']-x['index_date']).days,axis=1)\n",
    "    cond_table = cond_table[cond_table['duration']>0]\n",
    "    print(f\"condition : {cond_table.shape}, unique patients : {cond_table['chai_patient_id'].nunique()}\")\n",
    "    cond_table['random_point'] = cond_table.apply(\n",
    "        lambda x: 0 if x['duration'] in [0, 1] else random.randint(1, x['duration'] - 1), axis=1)\n",
    "    cond_table['random_date'] = cond_table.apply(lambda x:x['index_date']+timedelta(days=x['random_point']),axis=1)\n",
    "\n",
    "    lot_table = get_lot_table(lot_table_name, cond_table=cond_table)\n",
    "    cond_table = cond_table.merge(lot_table,on='chai_patient_id',how='left')\n",
    "    \n",
    "    cond_table['lot_diff'] = cond_table.apply(lambda x:(x['regimen_end']-x['random_date']).days,axis=1)\n",
    "    cond_table['lot_diff'] = cond_table['lot_diff'].apply(lambda x:np.nan if x<=0 else x)\n",
    "    cond_table = cond_table.sort_values(by=['lot_diff'],ascending=True)\n",
    "    cond_table = cond_table.drop_duplicates(subset=['chai_patient_id'],keep='first')\n",
    "    cond_table['event'] = cond_table['lot_diff'].apply(lambda x:0 if pd.isna(x) else 1)\n",
    "    cond_table['TTE'] = cond_table.apply(lambda x:x['lot_diff'] if (x['event']==1) else (x['last_available_date']-x['random_date']).days,axis=1)\n",
    "\n",
    "    cond_table.to_csv(f'{output_dir}cond_table_{cohort_org}_{today_date}.csv')\n",
    "    # cond_table = pd.read_csv(f'data_backup/m2_mds_2024-05-29_with_biomarker/cond_table_{cohort_org}_2024-05-29.csv')\n",
    "    # cond_table['random_date'] = cond_table['random_date'].apply(lambda x:datetime.datetime.strptime(x,'%Y-%m-%d'))\n",
    "    \n",
    "    text_file.write(f\"Cohort : {cohort_org}\")\n",
    "    text_file.write(f\"Label value counts : \\n{cond_table['event'].value_counts()}\\n\\n\")\n",
    "    text_file.write(f\"Duration stats :\\n\")\n",
    "    text_file.write(f\"For event data points (event = 1) : \\n{cond_table[cond_table['event']==1]['duration'].describe()}\\n\\n\")\n",
    "    text_file.write(f\"For censor data points (event = 0) : \\n{cond_table[cond_table['event']==0]['duration'].describe()}\\n\\n\")\n",
    "    text_file.write(f\"TTE stats :\\n\")\n",
    "    text_file.write(f\"For event data points (event = 1) : \\n{cond_table[cond_table['event']==1]['TTE'].describe()}\\n\\n\")\n",
    "    text_file.write(f\"For censor data points (event = 0) : \\n{cond_table[cond_table['event']==0]['TTE'].describe()}\\n\\n\")\n",
    "    # text_file.write(f\"Curation distribution : \\n{cond_table['curation'].value_counts()}\\n\\n\")\n",
    "    cond_table[cond_table['event']==1]['duration'].hist(bins=100)\n",
    "    plt.savefig(f'{output_dir}_duration_event_hist_{cohort_org}.png')\n",
    "    plt.show()\n",
    "    cond_table[cond_table['event']==0]['duration'].hist(bins=100)\n",
    "    plt.savefig(f'{output_dir}_duration_censor_hist_{cohort_org}.png')\n",
    "    plt.show()\n",
    "    cond_table[cond_table['event']==1]['TTE'].hist(bins=100)\n",
    "    plt.savefig(f'{output_dir}_tte_event_hist_{cohort_org}.png')\n",
    "    plt.show()\n",
    "    cond_table[cond_table['event']==0]['TTE'].hist(bins=100)\n",
    "    plt.savefig(f'{output_dir}_tte_censor_hist_{cohort_org}.png')\n",
    "    plt.show()\n",
    "\n",
    "    # if cohort_org in biomarker_schemas:\n",
    "    # biomarker_df = get_biomarker(biomarker_schemas[cohort],schema,cond_table,cohort)\n",
    "    # biomarker_df = get_all_biomarker(schema,cond_table,cohort_org)\n",
    "    # # col_list = list(biomarker_df.columns)\n",
    "    # # col_list.remove('chai_patient_id')\n",
    "    # # biomarker_df[col_list] = biomarker_df[col_list].astype('category')\n",
    "    # feature_dict['biomarker'] = list(biomarker_df.columns)\n",
    "    # print(f\"Biomarker : {biomarker_df.shape}, unique patients : {biomarker_df['chai_patient_id'].nunique()}\")\n",
    "\n",
    "    # imaging_df = get_imaging(schema, cond_table)\n",
    "    # # col_list = list(imaging_df.columns)\n",
    "    # # col_list.remove('chai_patient_id')\n",
    "    # # imaging_df[col_list] = imaging_df[col_list].astype('category')\n",
    "    # feature_dict['imaging'] = list(imaging_df.columns)\n",
    "    # print(f\"Imaging : {imaging_df.shape}, unique patients : {imaging_df['chai_patient_id'].nunique()}\")\n",
    "\n",
    "    # med_df = get_medication(schema, cond_table)\n",
    "    # # col_list = list(med_df.columns)\n",
    "    # # col_list.remove('chai_patient_id')\n",
    "    # # med_df[col_list] = med_df[col_list].astype('category')\n",
    "    # feature_dict['Med'] = list(med_df.columns)\n",
    "    # print(f\"med : {med_df.shape}, unique patients : {med_df['chai_patient_id'].nunique()}\")\n",
    "    \n",
    "    # conmed_df = get_conmed(schema, cond_table)\n",
    "    # # col_list = list(conmed_df.columns)\n",
    "    # # col_list.remove('chai_patient_id')\n",
    "    # # conmed_df[col_list] = conmed_df[col_list].astype('category')\n",
    "    # feature_dict['ConMed'] = list(conmed_df.columns)\n",
    "    # print(f\"conmed : {conmed_df.shape}, unique patients : {conmed_df['chai_patient_id'].nunique()}\")\n",
    "\n",
    "\n",
    "    # stage_df = get_stage(schema, cond_table, cohort)\n",
    "    # # col_list = list(stage_df.columns)\n",
    "    # # col_list.remove('chai_patient_id')\n",
    "    # # stage_df[col_list] = stage_df[col_list].astype('category')\n",
    "    # feature_dict['Staging'] = list(stage_df.columns)\n",
    "    # print(f\"stage : {stage_df.shape}, unique patients : {stage_df['chai_patient_id'].nunique()}\")\n",
    "\n",
    "    # disease_statis_df = get_disease_status(schema, cond_table)\n",
    "    # feature_dict['Disease Statis'] = list(disease_statis_df.columns)\n",
    "    # print(f\"disease_status : {disease_statis_df.shape}, unique patients : {disease_statis_df['chai_patient_id'].nunique()}\")\n",
    "\n",
    "    final_stat_df = get_labs(schema, cond_table)\n",
    "    feature_dict['Labs'] = list(final_stat_df.columns)\n",
    "    print(f\"lab : {final_stat_df.shape}, unique patients : {final_stat_df['chai_patient_id'].nunique()}\")\n",
    "\n",
    "    final_stat_df = cond_table[['chai_patient_id','TTE','event']].merge(final_stat_df,on=['chai_patient_id'],how='left')\n",
    "\n",
    "    # final_stat_df = final_stat_df.merge(med_df,on=['chai_patient_id'],how='left')\n",
    "    # final_stat_df = final_stat_df.merge(conmed_df,on=['chai_patient_id'],how='left')\n",
    "    #     final_stat_df = final_stat_df.merge(comorb_df,on='chai_patient_id',how='left')\n",
    "    #     final_stat_df = final_stat_df.merge(surgery_df,on=['chai_patient_id', 'line_start'],how='left')\n",
    "\n",
    "    #     final_stat_df = final_stat_df.merge(demographics_df,on=['chai_patient_id', 'line_start'],how='left')\n",
    "    #     final_stat_df = final_stat_df.merge(radiation_df,on=['chai_patient_id'],how='left')\n",
    "    # final_stat_df = final_stat_df.merge(stage_df,on=['chai_patient_id'],how='left')\n",
    "    #     final_stat_df = final_stat_df.merge(tumor_exam_df,on=['chai_patient_id', 'line_start'],how='left')\n",
    "    # final_stat_df = final_stat_df.merge(disease_statis_df,on=['chai_patient_id'],how='left')\n",
    "    # if cohort_org in biomarker_schemas:\n",
    "    # final_stat_df = final_stat_df.merge(biomarker_df,on=['chai_patient_id'],how='left')\n",
    "    # final_stat_df = final_stat_df.merge(imaging_df,on=['chai_patient_id'],how='left')\n",
    "    #     final_stat_df = final_stat_df.merge(censored,on=['chai_patient_id','line_start'],how='left')\n",
    "    #     final_stat_df['line_duration'] = final_stat_df.apply(lambda x: -x['line_duration'] if x['censored']=='yes' else x['line_duration'], axis=1)\n",
    "    # final_stat_df['censored'] = final_stat_df.apply(lambda x: False if x['censored']==True else True, axis=1)\n",
    "\n",
    "    return final_stat_df"
   ]
  },
  {
   "cell_type": "code",
   "execution_count": null,
   "id": "57afd97d",
   "metadata": {},
   "outputs": [],
   "source": [
    "# LOT_TABLES = dtu.s3_to_df('s3://c3-dev-model-factory/sai_vinod/sept_2023_pt360_delivery_unified_LOT_COT.json')['Patient360']['standard']\n",
    "# def get_decoded_from_lot_table(lot_table):    \n",
    "#     check = dtu.redshift_to_df(\n",
    "#                             ''' SELECT version_of_model FROM {source_schema}'''.format(source_schema=lot_table))\n",
    "#     secret_key = u'Kizqfoc8KapwPI4STeBfofaA_rV7nZNnbPSxLdT9KSM='\n",
    "#     cipher_suite = Fernet(secret_key.encode('utf-8'))\n",
    "#     a = check['version_of_model'].astype(str).values[1]  # check is LoT/CoT table dataframe\n",
    "#     a = cipher_suite.decrypt((str.encode(a[2:-1])))\n",
    "#     decoded = json.loads(a.decode(\"utf-8\").replace(\"'\", '\"'))\n",
    "#     schema = decoded['source_schema']\n",
    "#     return decoded"
   ]
  },
  {
   "cell_type": "code",
   "execution_count": null,
   "id": "13f9582b-72b4-4ac6-8e72-288746dc99b5",
   "metadata": {},
   "outputs": [],
   "source": [
    "table_details = {'mds' : {'schema' : 'cdm_structured_202402',\n",
    "                            'initial_dx_table' : 'model_factory_dev.initial_dx_date_cdm_structured_202402_v2_5_20240404_1034',\n",
    "                            'lot_table_name' : 'line_of_therapy.mds_rbs_rwd360_cdm_structured_202402_lot_v6_7_20240404_1146'\n",
    "                           }\n",
    "                }"
   ]
  },
  {
   "cell_type": "code",
   "execution_count": null,
   "id": "10a91869",
   "metadata": {
    "scrolled": true,
    "tags": []
   },
   "outputs": [],
   "source": [
    "%%time\n",
    "dataframes = []\n",
    "# patient_count = []\n",
    "import time\n",
    "\n",
    "for cohort in ['mds']:\n",
    "    start = time.time() \n",
    "    print(cohort)\n",
    "    \n",
    "    schema = table_details[cohort]['schema']\n",
    "    initial_dx_table = table_details[cohort]['initial_dx_table']\n",
    "    lot_table_name = table_details[cohort]['lot_table_name']\n",
    "    features = main(schema, initial_dx_table, lot_table_name, cohort)\n",
    "    # patient_count.append(unique_patients)\n",
    "\n",
    "    dataframes.append(features)\n",
    "    print(time.time()-start)\n",
    "# pickle.dump(dataframes, open('data/features_additional_lines_sept20.pkl', 'wb'))"
   ]
  },
  {
   "cell_type": "code",
   "execution_count": null,
   "id": "d5e17847-e9f6-48c5-8ce5-93548fd941e8",
   "metadata": {},
   "outputs": [],
   "source": [
    "print('D')"
   ]
  },
  {
   "cell_type": "code",
   "execution_count": null,
   "id": "8415495b-7220-4877-b339-74e1d387d572",
   "metadata": {},
   "outputs": [],
   "source": [
    "feature_list = ['Delta_mean_89247-1_0', 'Delta_min_89247-1_0', 'Delta_max_89247-1_0', 'Mean_89247-1_0', 'Median_89247-1_0', \n",
    "     'SD_89247-1_0', 'Minimum_89247-1_0', 'Maximum_89247-1_0', 'Skewness_89247-1_0', 'Kurtosis_89247-1_0',\n",
    "     '25th_Percentile_89247-1_0', '75th_Percentile_89247-1_0', 'Range_89247-1_0', 'slope_89247-1_0', 'Delta_mean_89247-1_1',\n",
    "     'Delta_min_89247-1_1', 'Delta_max_89247-1_1', 'Mean_89247-1_1', 'Median_89247-1_1', 'SD_89247-1_1', 'Minimum_89247-1_1',\n",
    "     'Maximum_89247-1_1', 'Skewness_89247-1_1', 'Kurtosis_89247-1_1', '25th_Percentile_89247-1_1', '75th_Percentile_89247-1_1',\n",
    "     'Range_89247-1_1', 'slope_89247-1_1', 'bevacizumab', 'paclitaxel', 'durvalumab', 'gemcitabine', 'sotorasib', 'docetaxel',\n",
    "     'ramucirumab', 'pemetrexed', 'cisplatin', 'carboplatin', 'osimertinib', 'etoposide', 'atezolizumab', 'pembrolizumab',\n",
    "     'nivolumab', 'ipilimumab', 'dexamethasone', 'stage', 'tstage', 'mstage', 'nstage', 'Complete therapeutic response_wind_0_45',\n",
    "     'Partial therapeutic response_wind_0_45', 'Stable_wind_0_45', 'Tumor progression_wind_0_45',\n",
    "     'Complete therapeutic response_wind_45_180', 'Partial therapeutic response_wind_45_180', 'Stable_wind_45_180',\n",
    "     'Tumor progression_wind_45_180', 'tp53_mutation', 'CT', 'PET', 'MRI', 'Radioisotope', 'cohort']\n",
    "len(feature_list)"
   ]
  },
  {
   "cell_type": "code",
   "execution_count": null,
   "id": "d6f76663-cf89-4fe2-a584-386b3874eb30",
   "metadata": {
    "tags": []
   },
   "outputs": [],
   "source": [
    "features.head()"
   ]
  },
  {
   "cell_type": "code",
   "execution_count": null,
   "id": "388eaf53",
   "metadata": {},
   "outputs": [],
   "source": [
    "count_df = pd.DataFrame({'cohort':['Pancreas', 'Melanoma', 'Colorectal', 'Prostate', 'Bladder', 'Breast', 'Gastricesophagus', 'HCC', 'Lung', 'Renal'],'pat_count':[1326, 344, 268, 844, 472, 1144, 869, 133, 5900, 689]})"
   ]
  },
  {
   "cell_type": "code",
   "execution_count": null,
   "id": "90db492c",
   "metadata": {},
   "outputs": [],
   "source": [
    "import matplotlib.pyplot as plt\n",
    "count_df = count_df.sort_values(by='pat_count',ascending=True)\n",
    "plt.barh(count_df['cohort'],count_df['pat_count'])"
   ]
  },
  {
   "cell_type": "code",
   "execution_count": null,
   "id": "6822e3b9",
   "metadata": {},
   "outputs": [],
   "source": [
    "total_pat = sum(count_df['pat_count'])\n",
    "print(f'Total patients : {total_pat}')\n",
    "count_df['percentage'] = (count_df['pat_count']*100)/(total_pat)\n",
    "count_df"
   ]
  },
  {
   "cell_type": "code",
   "execution_count": null,
   "id": "32a5b04e",
   "metadata": {},
   "outputs": [],
   "source": [
    "cohort = 'Renal'\n",
    "decoded = get_decoded_from_lot_table(LOT_TABLES[cohort]['schema']+'.'+ LOT_TABLES[cohort]['table'])\n",
    "schema = decoded['source_schema']\n",
    "lot_table_name = LOT_TABLES[cohort]['schema']+'.'+LOT_TABLES[cohort]['table']\n",
    "print(schema)\n",
    "print(lot_table_name)\n",
    "print(cohort)"
   ]
  },
  {
   "cell_type": "code",
   "execution_count": null,
   "id": "fdf69f03-0bb9-4bff-96b7-baf673ce2943",
   "metadata": {
    "tags": []
   },
   "outputs": [],
   "source": [
    "features,unique_patients = main(schema, lot_table_name, cohort)"
   ]
  },
  {
   "cell_type": "code",
   "execution_count": null,
   "id": "8db1495d-776b-4cc3-bf44-30303f7a969c",
   "metadata": {},
   "outputs": [],
   "source": []
  },
  {
   "cell_type": "code",
   "execution_count": null,
   "id": "6ba547e5",
   "metadata": {},
   "outputs": [],
   "source": [
    "# dataframe_list = pickle.load(open('data/features_sept20.pkl', 'rb'))\n",
    "\n",
    "final_data = pd.concat(dataframes).drop_duplicates(subset=['chai_patient_id']).reset_index().drop('index',axis=1)"
   ]
  },
  {
   "cell_type": "code",
   "execution_count": null,
   "id": "d5490773-d176-4015-8588-528acf0128e7",
   "metadata": {},
   "outputs": [],
   "source": [
    "final_data[~final_data['chai_patient_id'].isin(temp_index_date['chai_patient_id'])]"
   ]
  },
  {
   "cell_type": "code",
   "execution_count": null,
   "id": "e891a674-378e-4c28-8a3c-255f578c6d79",
   "metadata": {},
   "outputs": [],
   "source": [
    "final_data.shape"
   ]
  },
  {
   "cell_type": "code",
   "execution_count": null,
   "id": "0774f795-c962-40ac-bbfa-933a8c45dc71",
   "metadata": {
    "scrolled": true,
    "tags": []
   },
   "outputs": [],
   "source": [
    "final_data['cohort'].unique()"
   ]
  },
  {
   "cell_type": "code",
   "execution_count": null,
   "id": "f740d5b3",
   "metadata": {},
   "outputs": [],
   "source": [
    "final_data = copy.deepcopy(final_stat_df)\n",
    "final_data.shape"
   ]
  },
  {
   "cell_type": "code",
   "execution_count": null,
   "id": "8d5bcceb",
   "metadata": {},
   "outputs": [],
   "source": [
    "final_data.head()"
   ]
  },
  {
   "cell_type": "code",
   "execution_count": null,
   "id": "a99aca60-90a5-472c-82fc-70a383f05f07",
   "metadata": {},
   "outputs": [],
   "source": [
    "final_data.shape"
   ]
  },
  {
   "cell_type": "code",
   "execution_count": null,
   "id": "5d7961e6",
   "metadata": {},
   "outputs": [],
   "source": [
    "final_data['chai_patient_id'].nunique()"
   ]
  },
  {
   "cell_type": "code",
   "execution_count": null,
   "id": "33301143",
   "metadata": {},
   "outputs": [],
   "source": [
    "final_data1 = copy.deepcopy(final_data)"
   ]
  },
  {
   "cell_type": "code",
   "execution_count": null,
   "id": "f408e472",
   "metadata": {},
   "outputs": [],
   "source": [
    "cohort_pat_list = list(final_data[['chai_patient_id','Complete therapeutic response_wind_0_45',\n",
    " 'Partial therapeutic response_wind_0_45',\n",
    " 'Stable_wind_0_45',\n",
    " 'Tumor progression_wind_0_45',\n",
    " 'Complete therapeutic response_wind_45_180',\n",
    " 'Partial therapeutic response_wind_45_180',\n",
    " 'Stable_wind_45_180',\n",
    " 'Tumor progression_wind_45_180',\n",
    " 'tp53_mutation','CT',\n",
    " 'PET','MRI','Radioisotope']].dropna(how='all')['chai_patient_id'])\n",
    "final_data= final_data[final_data['chai_patient_id'].isin(cohort_pat_list)]\n",
    "final_data = final_data.reset_index().drop('index',axis=1)\n",
    "final_data.shape"
   ]
  },
  {
   "cell_type": "code",
   "execution_count": null,
   "id": "12907843-2ee1-402c-b728-26b40b01d893",
   "metadata": {},
   "outputs": [],
   "source": [
    "# cohort_pat_list = list(final_data.drop(['TTE','event'],axis=1).dropna(how='all')['chai_patient_id'])\n",
    "# final_data= final_data[final_data['chai_patient_id'].isin(cohort_pat_list)]\n",
    "# final_data = final_data.reset_index().drop('index',axis=1)\n",
    "# final_data.shape"
   ]
  },
  {
   "cell_type": "code",
   "execution_count": null,
   "id": "f6a34c15-40bf-4628-a133-fd5a7896128d",
   "metadata": {},
   "outputs": [],
   "source": [
    "mds_lab_df = pd.read_csv(f'{output_dir}/mds_labs_with_std_unite.csv')"
   ]
  },
  {
   "cell_type": "code",
   "execution_count": null,
   "id": "83081d0e-7349-4784-9632-0d86a4356b08",
   "metadata": {},
   "outputs": [],
   "source": [
    "mds_lab_df.shape"
   ]
  },
  {
   "cell_type": "code",
   "execution_count": null,
   "id": "5dded794-90a1-460a-bc76-6e0150e231a5",
   "metadata": {},
   "outputs": [],
   "source": [
    "mds_lab_df.head()"
   ]
  },
  {
   "cell_type": "code",
   "execution_count": null,
   "id": "3b7ff539-d5ec-4eb2-a95c-706fb30eceab",
   "metadata": {},
   "outputs": [],
   "source": [
    "mds_lab_df['test_name_standard_code'].value_counts()"
   ]
  },
  {
   "cell_type": "code",
   "execution_count": null,
   "id": "e688c279-5127-4852-9120-81f47b733d18",
   "metadata": {},
   "outputs": [],
   "source": [
    "mds_lab_df['test_name_standard_code'].value_counts()"
   ]
  },
  {
   "cell_type": "code",
   "execution_count": null,
   "id": "5a4487df-ef31-4fc8-b974-9dabef7f646a",
   "metadata": {},
   "outputs": [],
   "source": [
    "all_lab_codes = ['6690-2', '26464-8', '49498-9', '33256-9', '12227-5', '804-5', '718-7', '30313-1', '20509-6', '30350-3', '30351-1',\n",
    " '48725-6', '93846-4', '26499-4', '751-8', '753-4', '768-2', '30451-9', '777-3', '26515-7', '49497-1', '778-1', '26516-5',\n",
    " '53800-9', '74464-9', '13056-7', '24373-3', '2276-4', '489004']\n",
    "\n",
    "lab_codes_c3_cnt_ab_100 = ['718-7','26464-8','26515-7','26499-4','777-3','751-8','6690-2','2276-4','753-4','12227-5','30451-9','30313-1',\n",
    "                           '24373-3','768-2','20509-6','804-5','778-1','49497-1','30350-3','30351-1']\n",
    "lab_codes_c0_cnt_ab_100 =['718-7','26515-7','26464-8','26499-4','2276-4','751-8','777-3','6690-2','30451-9','49497-1','24373-3',\n",
    "                          '753-4','489004','49498-9']\n",
    "lab_codes_common_ab_100 = ['718-7','26515-7','26464-8','26499-4','2276-4','751-8','777-3','6690-2','30451-9','49497-1','24373-3',\n",
    "                          '753-4']\n",
    "lab_codes_only_c0_ab_100 = ['489004', '49498-9']\n",
    "lab_codes_only_c3_ab_100 = ['12227-5', '768-2', '778-1', '804-5','30350-3','30351-1']"
   ]
  },
  {
   "cell_type": "code",
   "execution_count": null,
   "id": "238863d4-e3d3-4812-a138-3c332553015e",
   "metadata": {},
   "outputs": [],
   "source": [
    "| 718-7                   ┆ 5783044 │#\n",
    "│ 26515-7                 ┆ 5651132 │\n",
    "│ 26464-8                 ┆ 5557732 │\n",
    "│ 26499-4                 ┆ 4745147 │\n",
    "│ 2276-4                  ┆ 905160  │\n",
    "│ 751-8                   ┆ 695998  │\n",
    "│ 777-3                   ┆ 235549  │\n",
    "│ 6690-2                  ┆ 234353  │\n",
    "│ 30451-9                 ┆ 103669  │\n",
    "│ 49497-1                 ┆ 98237   │\n",
    "│ 24373-3                 ┆ 40959   │#\n",
    "│ 753-4                   ┆ 39742   │\n",
    "│ 489004                  ┆ 2296    │#\n",
    "│ 49498-9                 ┆ 517     │#\n",
    "│ 12227-5                 ┆ 12      │\n",
    "│ 20509-6                 ┆ 7       │\n",
    "│ 48725-6                 ┆ 6       │\n",
    "│ 33256-9                 ┆ 4       │\n",
    "│ 30313-1                 ┆ 1       │\n",
    "│ 778-1                   ┆ 1       │"
   ]
  },
  {
   "cell_type": "code",
   "execution_count": null,
   "id": "78f34fff-736c-4b0b-a293-32e6ea37ed34",
   "metadata": {},
   "outputs": [],
   "source": [
    "lab_dict = {'wbc':['49498-9','33256-9',],#26464-8,'6690-2','12227-5','804-5'\n",
    "            'hemoglobin_in_blood':['48725-6','93846-4'],#'718-7','30313-1','20509-6','30350-3','30351-1'\n",
    "            'neutrophils_count':[],#'26499-4','751-8','753-4','30451-9','768-2'\n",
    "            'platelets':['26516-5','53800-9','74464-9','13056-7'], #26515-7,'777-3','778-1','49497-1'\n",
    "            'ferritin':['489004']#'2276-4','24373-3'\n",
    "           }\n"
   ]
  },
  {
   "cell_type": "code",
   "execution_count": null,
   "id": "fd96fae7-bcc3-4e25-b60d-39e9849b1a89",
   "metadata": {},
   "outputs": [],
   "source": [
    "from mds_labs_model2 import run_labs\n",
    "run_labs_str = \"','\".join(run_labs)\n",
    "patient_test_df = dtu.redshift_to_df('''SELECT \n",
    "chai_patient_id,curation_indicator,test_name_standard_name,test_name_standard_code,\n",
    "    test_date,test_value_numeric_standard,test_unit_standard_name FROM {schema}.patient_test\n",
    "    WHERE ((test_name_standard_code IN ('{run_labs_str}')))'''.format(schema=schema, run_labs_str=run_labs_str))"
   ]
  },
  {
   "cell_type": "code",
   "execution_count": null,
   "id": "b7d93213-08d7-480c-a088-845dd18da67b",
   "metadata": {},
   "outputs": [],
   "source": [
    "patient_test_df['test_name_standard_code'].value_counts()"
   ]
  },
  {
   "cell_type": "code",
   "execution_count": null,
   "id": "104b46e5-1749-4978-a026-5249e7b8d93e",
   "metadata": {},
   "outputs": [],
   "source": [
    "x_train.head()"
   ]
  },
  {
   "cell_type": "code",
   "execution_count": null,
   "id": "6cb25bc7-5882-402d-8d19-a3dfff590081",
   "metadata": {},
   "outputs": [],
   "source": [
    "final_data.describe()"
   ]
  },
  {
   "cell_type": "code",
   "execution_count": null,
   "id": "56dd6aeb-1636-46a4-afa4-be8e9402ea1f",
   "metadata": {},
   "outputs": [],
   "source": [
    "hemoglobin_718_7_col = [x for x in x_train.columns if 'wbc_26464-8' in x]"
   ]
  },
  {
   "cell_type": "code",
   "execution_count": null,
   "id": "9dd05b81-9e63-4511-98da-e8ec05cf3fb9",
   "metadata": {},
   "outputs": [],
   "source": [
    "import seaborn as sns\n",
    "\n",
    "fig, ax = plt.subplots()\n",
    "fig.set_figheight(20)\n",
    "fig.set_figwidth(20)\n",
    "#plotting the heatmap for correlation\n",
    "ax = sns.heatmap(final_data[hemoglobin_718_7_col+['event','TTE']].corr(), annot=True, linewidths=.5)"
   ]
  },
  {
   "cell_type": "code",
   "execution_count": null,
   "id": "0000692b-fa49-4e4b-8194-0467d866f457",
   "metadata": {},
   "outputs": [],
   "source": [
    "x_train.shape"
   ]
  },
  {
   "cell_type": "code",
   "execution_count": null,
   "id": "366d209d",
   "metadata": {},
   "outputs": [],
   "source": [
    "# from xgbse import XGBSEKaplanNeighbors\n",
    "# from xgbse._kaplan_neighbors import DEFAULT_PARAMS\n",
    "from xgbse.metrics import concordance_index\n",
    "from xgbse import XGBSEDebiasedBCE\n",
    "from xgbse.converters import convert_to_structured\n",
    "import os\n",
    "import time\n",
    "# medication_df = pickle.load(open('data/medication_df.pkl', 'rb'))\n",
    "\n",
    "# drug_list = pd.read_csv('data/cancer_drugs_public_V13_0.csv')\n",
    "# chemo_drug_list = drug_list[drug_list['primary_category']=='Chemotherapy']\n",
    "# chemo = []\n",
    "# for col in medication_df.columns:\n",
    "#     if col in chemo_drug_list['active_ingredient'].tolist():\n",
    "#         print(col)\n",
    "#         chemo.append(col)\n",
    "# medication_df = medication_df[chemo + ['chai_patient_id', 'line_start']]"
   ]
  },
  {
   "cell_type": "code",
   "execution_count": null,
   "id": "2e639a32",
   "metadata": {},
   "outputs": [],
   "source": [
    "# final_data1[['Complete therapeutic response_wind_0_45',\n",
    "#  'Partial therapeutic response_wind_0_45',\n",
    "#  'Stable_wind_0_45',\n",
    "#  'Tumor progression_wind_0_45',\n",
    "#  'Complete therapeutic response_wind_45_180',\n",
    "#  'Partial therapeutic response_wind_45_180',\n",
    "#  'Stable_wind_45_180',\n",
    "#  'Tumor progression_wind_45_180']].dropna(how='all').shape"
   ]
  },
  {
   "cell_type": "code",
   "execution_count": null,
   "id": "ed848bd3",
   "metadata": {},
   "outputs": [],
   "source": [
    "# final_data[['Complete therapeutic response_wind_0_45',\n",
    "#  'Partial therapeutic response_wind_0_45',\n",
    "#  'Stable_wind_0_45',\n",
    "#  'Tumor progression_wind_0_45',\n",
    "#  'Complete therapeutic response_wind_45_180',\n",
    "#  'Partial therapeutic response_wind_45_180',\n",
    "#  'Stable_wind_45_180',\n",
    "#  'Tumor progression_wind_45_180','tp53_mutation','CT',\n",
    "#  'PET',\n",
    "#  'MRI',\n",
    "#  'Radioisotope']].dropna(how='all').shape"
   ]
  },
  {
   "cell_type": "code",
   "execution_count": null,
   "id": "4537028e-157e-4fb5-8183-fe89a0ef0d76",
   "metadata": {},
   "outputs": [],
   "source": []
  },
  {
   "cell_type": "code",
   "execution_count": null,
   "id": "b67fbe24",
   "metadata": {},
   "outputs": [],
   "source": [
    "# new_labs = pickle.load(open('mc/lab_features_sept_14_0.pkl', 'rb'))\n",
    "# dataframe_list = pickle.load(open('data/features_sept20.pkl', 'rb'))\n",
    "# final_data = pd.concat(dataframe_list).drop_duplicates().drop(columns = [np.nan], axis = 1)\n",
    "# final_data = pd.concat([final_data, final_data1]).drop_duplicates()\n",
    "# cohort_df = pd.get_dummies(final_data, columns = ['cohort', 'ethnicity', 'gender', 'race'], prefix = None)\n",
    "# cohort_df = cohort_df.drop(np.nan, axis = 1)\n",
    "# drop_these = []\n",
    "# for col in list(cohort_df.columns):\n",
    "#     for s in ['Mean', 'Median_', 'SD_', 'Minimum_', 'slope',\n",
    "#               'Maximum_', 'Skewness_', 'Kurtosis_', '25th_Percentile_', '75th_Percentile_', 'Range_']:\n",
    "#         if col.startswith(s):\n",
    "#             drop_these.append(col)\n",
    "# cohort_df = cohort_df.drop(columns = drop_these, axis = 1)\n",
    "# cohort_df = cohort_df.merge(new_labs, on = ['chai_patient_id', 'line_start'], how = 'left')\n",
    "# X = final_data.drop(['chai_patient_id','last_available_date','line_start','line_end','line_duration','random_point','line_number','target_duration',\n",
    "#                      'censored', 'stage_date'],axis=1)\n",
    "X = final_data.drop(['chai_patient_id','TTE','event'],axis=1)\n",
    "# X = X[feature_list]\n",
    "\n",
    "# Y = cohort_df[['line_duration']]\n",
    "\n",
    "regex = re.compile(r\"\\[|\\]|<\", re.IGNORECASE)\n",
    "X.columns = [regex.sub(\"_\", col) if any(x in str(col) for x in set(('[', ']', '<'))) else col for col in X.columns.values]\n",
    "\n",
    "# X_train, X_test, y_train, y_test = train_test_split(X, Y, test_size=0.20, random_state=348)\n",
    "# y_train['event'] = y_train.apply(lambda x: 1 if x['line_duration']>0 else 0, axis = 1)\n",
    "# y_test['event'] = y_test.apply(lambda x: 1 if x['line_duration']>0 else 0, axis = 1)\n",
    "\n",
    "# y_train_np = y_train.to_records(index=False)\n",
    "# y_train_np = np.array(y_train_np, dtype = y_train_np.dtype.descr)\n",
    "\n",
    "# y_test_np = y_test.to_records(index = False)\n",
    "# y_test_np = np.array(y_test_np, dtype = y_test_np.dtype.descr)\n",
    "\n",
    "\n",
    "\n",
    "# print(\"======================\")\n",
    "# # loop to show different scale results\n",
    "# m = []\n",
    "# for scale in [1.0]:\n",
    "#     start = time.time()\n",
    "#     DEFAULT_PARAMS['aft_loss_distribution_scale'] = scale\n",
    "#     xgbse_model = XGBSEKaplanNeighbors(DEFAULT_PARAMS, n_neighbors=30)\n",
    "#     xgbse_model.fit(X_train, y_train_np)\n",
    "#     m.append(xgbse_model)\n",
    "#     preds = xgbse_model.predict(X_test)\n",
    "#     preds_train = xgbse_model.predict(X_train)\n",
    "#     cind_test = concordance_index(y_test_np, preds)\n",
    "#     cind_train = concordance_index(y_train_np, preds_train)\n",
    "#     print(f\"aft_loss_distribution_scale: {scale}\")\n",
    "#     print(f\"C-index, train: {cind_train:.3f}\")\n",
    "#     print(f\"C-index, test: {cind_test:.3f}\")\n",
    "#     #print(f\"Average probability of survival: {avg_probs}\")\n",
    "#     print(\"----\", time.time() - start)\n",
    "# # pickle.dump(m, open('models/xgbse_models_nlp_sept20_additional_lines.pkl', 'wb'))"
   ]
  },
  {
   "cell_type": "code",
   "execution_count": null,
   "id": "48cf26ab",
   "metadata": {},
   "outputs": [],
   "source": [
    "# final_data['censored']=final_data['censored'].apply(lambda x:False if x==True else True)"
   ]
  },
  {
   "cell_type": "code",
   "execution_count": null,
   "id": "988f6131",
   "metadata": {},
   "outputs": [],
   "source": [
    "y = convert_to_structured((final_data['TTE']),final_data['event'])"
   ]
  },
  {
   "cell_type": "code",
   "execution_count": null,
   "id": "e9e24b6f",
   "metadata": {
    "tags": []
   },
   "outputs": [],
   "source": [
    "x_train, x_test, y_train, y_test = train_test_split(X,y, test_size=0.2,random_state=938)"
   ]
  },
  {
   "cell_type": "code",
   "execution_count": null,
   "id": "5d62e6ce-5cf4-4a8f-ba39-74db0eb3665e",
   "metadata": {},
   "outputs": [],
   "source": [
    "print(x_train.shape,x_test.shape,y_train.shape,y_test.shape)\n",
    "text_file.write(f\"x_train shape : {x_train.shape}\\n,x_test shape : {x_test.shape}\\n,y_train shape : {y_train.shape}\\n,y_test shape : {y_test.shape}\\n\\n\")"
   ]
  },
  {
   "cell_type": "code",
   "execution_count": null,
   "id": "94b71e2a",
   "metadata": {},
   "outputs": [],
   "source": [
    "# print(x_train.shape,x_test.shape,y_train.shape,y_test.shape)"
   ]
  },
  {
   "cell_type": "code",
   "execution_count": null,
   "id": "3b374ebd-c156-4ba5-946a-e017ae65df57",
   "metadata": {},
   "outputs": [],
   "source": [
    "x_train.dtypes"
   ]
  },
  {
   "cell_type": "code",
   "execution_count": null,
   "id": "92e6b9ca-cc23-448e-8899-363232b99ba6",
   "metadata": {},
   "outputs": [],
   "source": [
    "x_train.describe()"
   ]
  },
  {
   "cell_type": "code",
   "execution_count": null,
   "id": "bc290e4c",
   "metadata": {},
   "outputs": [],
   "source": [
    "# column_list = list(x_train.columns)\n",
    "# len(column_list)"
   ]
  },
  {
   "cell_type": "code",
   "execution_count": null,
   "id": "c3c5f144",
   "metadata": {},
   "outputs": [],
   "source": [
    "# with open(f'data_backup/column_list_11_28_2023.pkl','wb') as f:\n",
    "#     pickle.dump(column_list,f)"
   ]
  },
  {
   "cell_type": "code",
   "execution_count": null,
   "id": "1529a8b0",
   "metadata": {},
   "outputs": [],
   "source": [
    "%%time\n",
    "PARAMS_XGB_AFT = {\n",
    "    'objective': 'survival:aft',\n",
    "    'eval_metric': 'aft-nloglik',\n",
    "    'aft_loss_distribution': 'normal',\n",
    "    'aft_loss_distribution_scale': 1.0,\n",
    "    'tree_method': 'hist',\n",
    "    'learning_rate': 0.005,\n",
    "    'max_depth': 16,\n",
    "    'booster':'dart',\n",
    "    'subsample': 0.8,\n",
    "    'min_child_weight': 30,\n",
    "    'colsample_bynode':0.8\n",
    "}\n",
    "\n",
    "xgbse_model = XGBSEDebiasedBCE(PARAMS_XGB_AFT)\n",
    "xgbse_model.fit(x_train,y_train,time_bins=np.array([60,90,120,150]))"
   ]
  },
  {
   "cell_type": "code",
   "execution_count": null,
   "id": "ea3cce03-e621-4ef2-8fc1-cfd822c28d55",
   "metadata": {},
   "outputs": [],
   "source": [
    "# x_train_temp = x_train.fillna(-999)"
   ]
  },
  {
   "cell_type": "code",
   "execution_count": null,
   "id": "2ae3e1ed-e7a8-4780-982c-460483626751",
   "metadata": {
    "tags": []
   },
   "outputs": [],
   "source": [
    "# from sklearn.feature_selection import RFE\n",
    "\n",
    "# rfe_model = RFE(xgbse_model,n_features_to_select=100)\n",
    "# rfe_model.fit(x_train_temp,y_train)"
   ]
  },
  {
   "cell_type": "code",
   "execution_count": null,
   "id": "ec1fbee2-3545-4284-918e-83d4bc4af605",
   "metadata": {},
   "outputs": [],
   "source": [
    "x_test.head()"
   ]
  },
  {
   "cell_type": "code",
   "execution_count": null,
   "id": "1bbbb9d0-907a-4458-8256-d21838a5c6e5",
   "metadata": {},
   "outputs": [],
   "source": [
    "final_data.head()"
   ]
  },
  {
   "cell_type": "code",
   "execution_count": null,
   "id": "95e8843d-d56a-462c-97d8-c5eff7deee98",
   "metadata": {},
   "outputs": [],
   "source": [
    "cond_list = []\n",
    "file_list = os.listdir(output_dir)\n",
    "file_list = [x for x in file_list if 'cond' in x]"
   ]
  },
  {
   "cell_type": "code",
   "execution_count": null,
   "id": "630e01a8-aa65-4ae0-b5e1-26e96dd51b48",
   "metadata": {},
   "outputs": [],
   "source": [
    "curation_1_list = []\n",
    "curation_0_list = []\n",
    "for file in file_list:\n",
    "    temp_cond = pd.read_csv(f'{output_dir}{file}')\n",
    "    temp_cond_0 = temp_cond[temp_cond['curation']==0]\n",
    "    temp_cond_1 = temp_cond[temp_cond['curation']==1]\n",
    "    curation_0_list+=list(temp_cond_0['chai_patient_id'].unique())\n",
    "    curation_1_list+=list(temp_cond_1['chai_patient_id'].unique())\n",
    "    \n",
    "curation_1_list = list(set(curation_1_list))\n",
    "curation_0_list = list(set(curation_0_list))"
   ]
  },
  {
   "cell_type": "code",
   "execution_count": null,
   "id": "538f80ca-1b2c-4c22-a6a7-1f59e45bf98e",
   "metadata": {},
   "outputs": [],
   "source": [
    "x_test.shape"
   ]
  },
  {
   "cell_type": "code",
   "execution_count": null,
   "id": "79ac9504-a8a3-466a-ab5d-86c6b4d5f2d0",
   "metadata": {},
   "outputs": [],
   "source": [
    "y_test"
   ]
  },
  {
   "cell_type": "code",
   "execution_count": null,
   "id": "fe3ab63c-9145-41ab-a81a-0eca2d2b4c19",
   "metadata": {},
   "outputs": [],
   "source": [
    "final_data_0 = final_data[final_data['chai_patient_id'].isin(curation_0_list)]\n",
    "final_data_0 = final_data_0[final_data_0['Unnamed: 0'].isin(x_test['Unnamed: 0'].unique())]\n",
    "X = final_data_0.drop(['chai_patient_id','TTE','event','Unnamed: 0'],axis=1)\n",
    "y = convert_to_structured((final_data_0['TTE']),final_data_0['event'])\n",
    "\n",
    "X.shape"
   ]
  },
  {
   "cell_type": "code",
   "execution_count": null,
   "id": "f1400795-fe89-43e9-9017-08e495dfedc0",
   "metadata": {},
   "outputs": [],
   "source": [
    "concordance_index(y, xgbse_model.predict(X))"
   ]
  },
  {
   "cell_type": "code",
   "execution_count": null,
   "id": "893be7b1",
   "metadata": {},
   "outputs": [],
   "source": [
    "train_cindex = concordance_index(y_train, xgbse_model.predict(x_train))\n",
    "test_cindex = concordance_index(y_test, xgbse_model.predict(x_test))"
   ]
  },
  {
   "cell_type": "code",
   "execution_count": null,
   "id": "537f1c38",
   "metadata": {},
   "outputs": [],
   "source": [
    "print(f'Train c-index : {train_cindex}')\n",
    "print(f'Test c-index : {test_cindex}')\n",
    "text_file.write(f'Train c-index : {train_cindex} \\n')\n",
    "text_file.write(f'Test c-index : {test_cindex} \\n')"
   ]
  },
  {
   "cell_type": "code",
   "execution_count": null,
   "id": "9973d17e-f258-4e56-9ddd-da187e3fd391",
   "metadata": {},
   "outputs": [],
   "source": [
    "concordance_index(y, xgbse_model.predict(X))"
   ]
  },
  {
   "cell_type": "code",
   "execution_count": null,
   "id": "67f5da7f",
   "metadata": {},
   "outputs": [],
   "source": [
    "pred = []\n",
    "pred.append(xgbse_model.predict(x_test))\n",
    "# pred.append(xgbse_model.predict(X))\n",
    "    \n",
    "event_prob_df = 1-pred[0]\n",
    "# event_prob_df.to_csv(f'data_backup/all_feature_prob_{today_date}.csv')\n",
    "text_file.write('Number of patients above 0.8 prediction probability\\n')\n",
    "selected_pt_list = []\n",
    "for col in event_prob_df.columns:\n",
    "    selected_df = event_prob_df[event_prob_df[col]>=0.8]\n",
    "    main_index = list(x_test.reset_index().iloc[list(selected_df.index)]['index'])\n",
    "    selected_pt_list.append(list(final_data.iloc[main_index]['chai_patient_id']))\n",
    "    print(f'{col} : {selected_df.shape}')\n",
    "    text_file.write(f'For window {col} : {selected_df.shape[0]}')"
   ]
  },
  {
   "cell_type": "code",
   "execution_count": null,
   "id": "93850ab5",
   "metadata": {
    "scrolled": true
   },
   "outputs": [],
   "source": [
    "import matplotlib.pyplot as plt\n",
    "for i in [60,90,120,150]:\n",
    "    print(f'window : {i}')\n",
    "    event_prob_df[i].hist(bins=100)\n",
    "    plt.savefig(f'{output_dir}predicted_prob_distribution_{i}.png')\n",
    "    plt.show()"
   ]
  },
  {
   "cell_type": "code",
   "execution_count": null,
   "id": "111cf818-0c52-40d9-bbf1-43771fa64138",
   "metadata": {},
   "outputs": [],
   "source": [
    "output_dir"
   ]
  },
  {
   "cell_type": "code",
   "execution_count": null,
   "id": "08d4ef88-b09f-40a2-8e79-12c7fb215c0c",
   "metadata": {},
   "outputs": [],
   "source": [
    "text_file.write('Statistics of predicted probabbility\\n')\n",
    "for i in [60,90,120,150]:\n",
    "    text_file.write(f'stats for window {i} : {event_prob_df[i].describe()}\\n')"
   ]
  },
  {
   "cell_type": "code",
   "execution_count": null,
   "id": "24d507ae",
   "metadata": {},
   "outputs": [],
   "source": [
    "selcted_patient_info = pd.DataFrame({'chai_patient_id':slelected_pt_list[3]})\n",
    "window =[60,90,120,150]\n",
    "for i in range(len(slelected_pt_list)):\n",
    "    selcted_patient_info[window[i]] = selcted_patient_info['chai_patient_id'].apply(lambda x:True if x in slelected_pt_list[i] else False)\n",
    "\n",
    "selcted_patient_info = selcted_patient_info.merge(final_data,on='chai_patient_id',how='inner') "
   ]
  },
  {
   "cell_type": "code",
   "execution_count": null,
   "id": "a2d426b8",
   "metadata": {},
   "outputs": [],
   "source": [
    "import pickle\n",
    "import joblib\n",
    "date = '05_31_2024'\n",
    "event_prob_df.to_csv(f'{output_dir}event_prob_df_{date}.csv')\n",
    "x_train.to_csv(f'{output_dir}x_train_{date}.csv')\n",
    "x_test.to_csv(f'{output_dir}x_test_{date}.csv')\n",
    "np.save(f'{output_dir}y_train_{date}.npy',y_train)\n",
    "np.save(f'{output_dir}y_test_{date}.npy',y_test)\n",
    "final_data.to_csv(f'{output_dir}final_data_{date}.csv')\n",
    "with open(f'{output_dir}model_{date}.pkl','wb') as f:\n",
    "    pickle.dump(xgbse_model,f)\n",
    "joblib.dump(xgbse_model,f'{output_dir}model_{date}.joblib')"
   ]
  },
  {
   "cell_type": "code",
   "execution_count": null,
   "id": "202b81f6-43ed-40fb-8148-63a5bb285be6",
   "metadata": {},
   "outputs": [],
   "source": [
    "output_dir"
   ]
  },
  {
   "cell_type": "code",
   "execution_count": null,
   "id": "72958f85-f644-44ea-8af0-1f8588289714",
   "metadata": {},
   "outputs": [],
   "source": [
    "import pickle\n",
    "import joblib\n",
    "date = '05_24_2024'\n",
    "\n",
    "# event_prob_df = pd.read_csv('./data_backup_model2/experiment_m2_lung_old_cohort_2024-02-29/event_prob_df_02_29_2024.csv')\n",
    "# event_prob_df = pd.read_csv(f'{output_dir}event_prob_df_{date}.csv')\n",
    "x_train = pd.read_csv(f'{output_dir}x_train_{date}.csv')\n",
    "x_test = pd.read_csv(f'{output_dir}x_test_{date}.csv')\n",
    "y_train = np.load(f'{output_dir}y_train_{date}.npy')\n",
    "y_test = np.load(f'{output_dir}y_test_{date}.npy')\n",
    "final_data = pd.read_csv(f'{output_dir}final_data_{date}.csv')\n",
    "\n",
    "# with open(f'{output_dir}model_{date}.pkl','rb') as f:\n",
    "#     xgbse_model = pickle.load(f) "
   ]
  },
  {
   "cell_type": "code",
   "execution_count": null,
   "id": "1f91387e-13b3-466b-b532-31753770e404",
   "metadata": {},
   "outputs": [],
   "source": [
    "# event_prob_df = event_prob_df.drop('Unnamed: 0',axis=1)\n",
    "x_train = x_train.drop('Unnamed: 0',axis=1)\n",
    "x_test = x_test.drop('Unnamed: 0',axis=1)\n",
    "final_data = final_data.drop('Unnamed: 0',axis=1)"
   ]
  },
  {
   "cell_type": "code",
   "execution_count": null,
   "id": "6ff2c72a-83e5-4393-8db2-aadfbcd19b88",
   "metadata": {},
   "outputs": [],
   "source": [
    "x_train.describe()"
   ]
  },
  {
   "cell_type": "code",
   "execution_count": null,
   "id": "c058cbc8-7cf8-4977-9ef2-ba8bd0bc954f",
   "metadata": {},
   "outputs": [],
   "source": []
  },
  {
   "cell_type": "code",
   "execution_count": null,
   "id": "2ce88c43-4a37-4fee-a13f-7d40136b5773",
   "metadata": {},
   "outputs": [],
   "source": [
    "x_train.shape"
   ]
  },
  {
   "cell_type": "code",
   "execution_count": null,
   "id": "571897ee-b5bd-4dea-bf85-beefeee34b7b",
   "metadata": {},
   "outputs": [],
   "source": [
    "final_data[final_data['event']==1]['TTE'].hist(bins=100)"
   ]
  },
  {
   "cell_type": "code",
   "execution_count": null,
   "id": "942502fa",
   "metadata": {
    "scrolled": true
   },
   "outputs": [],
   "source": [
    "from sklearn.metrics import PrecisionRecallDisplay\n",
    "from sklearn.metrics import PrecisionRecallDisplay,ConfusionMatrixDisplay,confusion_matrix,roc_auc_score\n",
    "import matplotlib.pyplot as plt\n",
    "combined_test_info_df = event_prob_df.join(x_test.reset_index()).merge(final_data[['chai_patient_id','TTE','event']].reset_index(),on='index',how='inner')\n",
    "\n",
    "# combined_test_info_df = event_prob_df.join(x_test.reset_index()).merge(final_stat_df.reset_index()[['index','chai_patient_id','label','final_selection']],on='index',how='inner')\n",
    "for i in [60,90,120,150]:\n",
    "    combined_test_info_df[f'final_selection_{i}'] = combined_test_info_df.apply(lambda x: 0 if x['TTE']>i else x['event'],axis=1)\n",
    "    print(combined_test_info_df[f'final_selection_{i}'].value_counts())\n",
    "    print(f\"ROC AUC Score : {roc_auc_score(combined_test_info_df[f'final_selection_{i}'], combined_test_info_df[i])}\")\n",
    "    text_file.write(f'Label counts for window : {i} \\n')\n",
    "    text_file.write(f\"{combined_test_info_df[f'final_selection_{i}'].value_counts()} \\n\\n\")\n",
    "    PrecisionRecallDisplay.from_predictions(combined_test_info_df[f'final_selection_{i}'], combined_test_info_df[i], name=\"PA_model\", plot_chance_level=True)\n",
    "    plt.title(f'window : {i}')\n",
    "    plt.legend(loc=(0.5, 0.8))\n",
    "    plt.savefig(f'{output_dir}/PRC_Window_{i}.png')\n",
    "    plt.plot()"
   ]
  },
  {
   "cell_type": "code",
   "execution_count": null,
   "id": "40f77509",
   "metadata": {},
   "outputs": [],
   "source": [
    "feature_importance_df = pd.DataFrame(xgbse_model.feature_importances_.items(),columns=['feature','importance'])"
   ]
  },
  {
   "cell_type": "code",
   "execution_count": null,
   "id": "d7a80731-0cc0-4cbb-9e96-55fd75f8b658",
   "metadata": {},
   "outputs": [],
   "source": [
    "feature_importance_df = feature_importance_df.sort_values(by='importance',ascending=False)\n",
    "feature_importance_df.shape"
   ]
  },
  {
   "cell_type": "code",
   "execution_count": null,
   "id": "433f2a24-9fb5-41fe-91be-fc76cf229637",
   "metadata": {},
   "outputs": [],
   "source": [
    "ft_used = list(set(feature_importance_df['feature']))\n",
    "ft_used_df = pd.DataFrame({'feature':ft_used})\n",
    "\n",
    "ft_used_df['window'] = ft_used_df['feature'].apply(lambda x:'_'.join(x.split('_')[-2:]) if (len(x.split('_'))>1) else None)\n",
    "ft_used_df['lab'] = ft_used_df['feature'].apply(lambda x:'_'.join(x.split('_')[-4:-2]) if (len(x.split('_'))>1) else x)\n",
    "ft_used_df['stats_type'] = ft_used_df['feature'].apply(lambda x:'_'.join(x.split('_')[:-4]) if (len(x.split('_'))>1) else None)"
   ]
  },
  {
   "cell_type": "code",
   "execution_count": null,
   "id": "88a21165-6c0c-47ff-8e39-b4e00e560c4a",
   "metadata": {
    "tags": []
   },
   "outputs": [],
   "source": [
    "ft_used_df['lab'].value_counts()"
   ]
  },
  {
   "cell_type": "code",
   "execution_count": null,
   "id": "23486f34-f54e-4fb6-8faa-0345c4112642",
   "metadata": {},
   "outputs": [],
   "source": []
  },
  {
   "cell_type": "code",
   "execution_count": null,
   "id": "119fcf88-3ff6-45be-806f-28951946da40",
   "metadata": {},
   "outputs": [],
   "source": [
    "ft_not_used = list(set(x_train.columns)-set(feature_importance_df['feature']))"
   ]
  },
  {
   "cell_type": "code",
   "execution_count": null,
   "id": "a2d5cc13-d0e7-407c-8ee3-8603c53bee89",
   "metadata": {},
   "outputs": [],
   "source": [
    "ft_not_used_df = pd.DataFrame({'feature':ft_not_used})"
   ]
  },
  {
   "cell_type": "code",
   "execution_count": null,
   "id": "b654a9d8-8ed2-4ce5-9f08-a77ad7a4492a",
   "metadata": {},
   "outputs": [],
   "source": [
    "ft_not_used_df['window'] = ft_not_used_df['feature'].apply(lambda x:'_'.join(x.split('_')[-2:]) if (len(x.split('_'))>1) else None)\n",
    "ft_not_used_df['lab'] = ft_not_used_df['feature'].apply(lambda x:'_'.join(x.split('_')[-4:-2]) if (len(x.split('_'))>1) else x)\n",
    "ft_not_used_df['stats_type'] = ft_not_used_df['feature'].apply(lambda x:'_'.join(x.split('_')[:-4]) if (len(x.split('_'))>1) else None)"
   ]
  },
  {
   "cell_type": "code",
   "execution_count": null,
   "id": "dc47749e-8679-4f57-81c4-241b4bded5f1",
   "metadata": {},
   "outputs": [],
   "source": [
    "ft_not_used_df"
   ]
  },
  {
   "cell_type": "code",
   "execution_count": null,
   "id": "6e8f3ad5-8905-4ddd-8d9e-79150601cc48",
   "metadata": {},
   "outputs": [],
   "source": [
    "ft_not_used_df['lab'].value_counts()"
   ]
  },
  {
   "cell_type": "code",
   "execution_count": null,
   "id": "43fc8922-debf-4d0a-b62f-55da4dcd39ce",
   "metadata": {},
   "outputs": [],
   "source": [
    "['carboplatin','pembrolizumab','pemetrexed','paclitaxel','durvalumab','osimertinib','nivolumab', 'docetaxel', 'ipilimumab','gemcitabine',\n",
    " 'ramucirumab','etoposide','atezolizumab','bevacizumab','cisplatin','sotorasib','erlotinib','afatinib','gefitinib'\n",
    ",'dacomitinib','amivantamab','mobocertinib','necitumumab','adagrasib','crizotinib','ceritinib','alectinib','brigatinib','lorlatinib']\n",
    "29"
   ]
  },
  {
   "cell_type": "code",
   "execution_count": null,
   "id": "ce8f8107",
   "metadata": {},
   "outputs": [],
   "source": [
    "feature_importance_df =feature_importance_df.sort_values(by='importance',ascending=False)\n",
    "combine_feature_importance_df_subset = feature_importance_df[:20]\n",
    "combine_feature_importance_df_subset = combine_feature_importance_df_subset.sort_values(by='importance',ascending=True)"
   ]
  },
  {
   "cell_type": "code",
   "execution_count": null,
   "id": "3ee9a95a-aacb-4c3d-ad99-4d0d95c6ce79",
   "metadata": {},
   "outputs": [],
   "source": [
    "feature_importance_df.iloc[100:160]"
   ]
  },
  {
   "cell_type": "code",
   "execution_count": null,
   "id": "13c22f5d",
   "metadata": {},
   "outputs": [],
   "source": [
    "f, ax = plt.subplots(figsize=(20,10))\n",
    "plt.barh(combine_feature_importance_df_subset['feature'],combine_feature_importance_df_subset['importance'])\n",
    "# plt.xticks(range(len(combine_feature_importance_df_subset['feature'])), combine_feature_importance_df_subset['average'],rotation='vertical')\n",
    "plt.savefig(f'{output_dir}/importance_plot.png',bbox_inches = 'tight')\n",
    "plt.show()"
   ]
  },
  {
   "cell_type": "code",
   "execution_count": null,
   "id": "032e54ad",
   "metadata": {},
   "outputs": [],
   "source": [
    "combined_test_info_df.head()"
   ]
  },
  {
   "cell_type": "code",
   "execution_count": null,
   "id": "0e970a11-8135-4f7b-a4d1-4937a1ea0edd",
   "metadata": {
    "tags": []
   },
   "outputs": [],
   "source": [
    "from sklearn.metrics import ConfusionMatrixDisplay,confusion_matrix\n",
    "import matplotlib.pyplot as plt\n",
    "# combined_test_info_df = event_prob_df.join(x_test.reset_index()).merge(final_stat_df.reset_index()[['index','chai_patient_id','label','final_selection']],on='index',how='inner')\n",
    "\n",
    "for window in [60,90,120,150]:\n",
    "    for thresold in [0.1]:\n",
    "        combined_test_info_df[f'pred_{thresold}'] = combined_test_info_df[window].apply(lambda x:x>thresold)\n",
    "        cm = confusion_matrix(combined_test_info_df[f'final_selection_{window}'],combined_test_info_df[f'pred_{thresold}'])\n",
    "        disp = ConfusionMatrixDisplay(cm)\n",
    "        disp.plot()\n",
    "        plt.title(f'Thresold : {thresold}, Window : {window}')\n",
    "        plt.savefig(f'{output_dir}/CF_thresold_{thresold}_Window_{window}.png')"
   ]
  },
  {
   "cell_type": "code",
   "execution_count": null,
   "id": "e7bd08d7",
   "metadata": {
    "tags": []
   },
   "outputs": [],
   "source": [
    "for window in [60,90,120,150]:\n",
    "    combined_test_info_df[combined_test_info_df[f'final_selection_{window}']==True][window].plot.kde()\n",
    "    combined_test_info_df[combined_test_info_df[f'final_selection_{window}']==False][window].plot.kde()\n",
    "    plt.legend(['Event','Censored'])\n",
    "    plt.title(f'Prediction window : {window}')\n",
    "    plt.savefig(f'{output_dir}/pred_prob_classwise_kde_window_{window}.png',bbox_inches = 'tight')\n",
    "    plt.show()"
   ]
  },
  {
   "cell_type": "code",
   "execution_count": null,
   "id": "79a439c3",
   "metadata": {},
   "outputs": [],
   "source": [
    "from sklearn.metrics import ConfusionMatrixDisplay,confusion_matrix\n",
    "# combined_test_info_df = event_prob_df.join(x_test.reset_index()).merge(final_stat_df.reset_index()[['index','chai_patient_id','label','final_selection']],on='index',how='inner')\n",
    "metric_list = []\n",
    "for window in [60,90,120,150]:\n",
    "    window_df = pd.DataFrame({'window':[window]})\n",
    "    for thresold in [0.2,0.3,0.4,0.5,0.6,0.7,0.8,0.9]:\n",
    "        combined_test_info_df[f'pred_{thresold}'] = combined_test_info_df[window].apply(lambda x:x>thresold)\n",
    "        cm = confusion_matrix(combined_test_info_df[f'final_selection_{i}'],combined_test_info_df[f'pred_{thresold}'])\n",
    "        tn,fp,fn,tp = cm[0,0],cm[0,1],cm[1,0],cm[1,1]\n",
    "        p1 = tp/(tp+fp)\n",
    "        r1 = tp/(tp+fn)\n",
    "        f1 = 2*p1*r1/(p1+r1)\n",
    "        p0 = tn/(tn+fn)\n",
    "        r0 = tn/(tn+fp)\n",
    "        f0 = 2*p0*r0/(p0+r0)\n",
    "        window_df = pd.concat([window_df,pd.DataFrame({\n",
    "            f'tn_{thresold}' : [tn],\n",
    "            f'fp_{thresold}' : [fp],\n",
    "            f'fn_{thresold}' : [fn],\n",
    "            f'tp_{thresold}' : [tp],\n",
    "            f'p1_{thresold}' : [p1],\n",
    "            f'r1_{thresold}' : [r1],\n",
    "            f'f1_{thresold}' : [f1],\n",
    "            f'p0_{thresold}' : [p0],\n",
    "            f'r0_{thresold}' : [r0],\n",
    "            f'f0_{thresold}' : [f0],\n",
    "        })],axis=1)\n",
    "    metric_list.append(window_df)\n",
    "metric_df = pd.concat(metric_list)"
   ]
  },
  {
   "cell_type": "code",
   "execution_count": null,
   "id": "f15fd856",
   "metadata": {},
   "outputs": [],
   "source": [
    "metric_dfß"
   ]
  },
  {
   "cell_type": "code",
   "execution_count": null,
   "id": "90349e68",
   "metadata": {},
   "outputs": [],
   "source": [
    "text_file.close()"
   ]
  },
  {
   "cell_type": "code",
   "execution_count": null,
   "id": "d525ceb4",
   "metadata": {},
   "outputs": [],
   "source": [
    "import shap\n",
    "x_train_sample = x_train.sample(n=200,random_state=123).astype('float64')\n",
    "explainer = shap.Explainer(xgbse_model.predict,x_train_sample)\n",
    "shap_values = explainer(x_train_sample,max_evals='auto')"
   ]
  },
  {
   "cell_type": "code",
   "execution_count": null,
   "id": "b034dcdb",
   "metadata": {},
   "outputs": [],
   "source": [
    "shap.plots.beeswarm(shap_values[:,:,1],max_display=100,show=False)\n",
    "plt.savefig(f'{output_dir}/shap_plot.png',bbox_inches = 'tight')\n",
    "plt.show()"
   ]
  },
  {
   "cell_type": "code",
   "execution_count": null,
   "id": "cf6f6727-27e4-4ddf-b730-0d20b30b3696",
   "metadata": {},
   "outputs": [],
   "source": []
  },
  {
   "cell_type": "code",
   "execution_count": null,
   "id": "374aea2c-cf2f-4db5-be31-a5174e7214d4",
   "metadata": {},
   "outputs": [],
   "source": []
  }
 ],
 "metadata": {
  "kernelspec": {
   "display_name": "Python 3 (ipykernel)",
   "language": "python",
   "name": "python3"
  },
  "language_info": {
   "codemirror_mode": {
    "name": "ipython",
    "version": 3
   },
   "file_extension": ".py",
   "mimetype": "text/x-python",
   "name": "python",
   "nbconvert_exporter": "python",
   "pygments_lexer": "ipython3",
   "version": "3.8.12"
  }
 },
 "nbformat": 4,
 "nbformat_minor": 5
}
