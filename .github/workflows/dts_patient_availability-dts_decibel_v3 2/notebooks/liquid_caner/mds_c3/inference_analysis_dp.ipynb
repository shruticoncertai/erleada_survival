{
 "cells": [
  {
   "cell_type": "code",
   "execution_count": null,
   "id": "b3bc439e",
   "metadata": {},
   "outputs": [],
   "source": [
    "import pandas as pd\n",
    "import os \n",
    "from matplotlib import pyplot as plt\n",
    "import numpy as np\n",
    "import seaborn as sns\n",
    "\n",
    "import statsmodels.api as sm\n",
    "from sklearn.metrics import confusion_matrix, precision_score, recall_score, f1_score, roc_auc_score, precision_recall_curve\n",
    "from sklearn import metrics\n",
    "\n",
    "import warnings\n",
    "warnings.filterwarnings(\"ignore\")"
   ]
  },
  {
   "cell_type": "markdown",
   "id": "bcd8023e",
   "metadata": {},
   "source": [
    "# Extract Data"
   ]
  },
  {
   "cell_type": "code",
   "execution_count": null,
   "id": "7e47b996",
   "metadata": {},
   "outputs": [],
   "source": [
    "path = 'data_backup/m2_mds_2024-05-31'\n",
    "files = os.listdir(path)\n",
    "df = []\n",
    "\n",
    "for f in files:\n",
    "    if 'cond_table' in f:\n",
    "        tmp = pd.read_csv(path+'/'+f)\n",
    "        print(f.split('_')[2])\n",
    "        tmp['indicator'] = f.split('_')[2]\n",
    "        df.append(tmp)\n",
    "\n",
    "df              = pd.concat(df, ignore_index=True)\n",
    "df['indicator'] = np.where((df.indicator=='NSCLC')|(df.indicator=='SCLC'),'Lung',df.indicator)\n",
    "df = df[df['indicator']!='Renal']\n",
    "df['label']     = np.where(df.event==1, 'Event','Censor')\n",
    "df.head()"
   ]
  },
  {
   "cell_type": "code",
   "execution_count": null,
   "id": "d6b8c4b0",
   "metadata": {},
   "outputs": [],
   "source": [
    "cohort = pd.DataFrame([['Lung'            ,0.0 ],['Pancreas'        ,1.0 ],['Melanoma'        ,2.0 ],\n",
    "                       ['Colorectal'      ,3.0 ],['Prostate'        ,4.0 ],['Bladder'         ,5.0 ],\n",
    "                       ['Breast'          ,6.0 ],['Gastricesophagus',7.0 ],['HCC'             ,8.0 ],\n",
    "                       ['Renal'           ,9.0 ],['Ovarian'         ,10.0],['MDS'             ,11]],\n",
    "                      columns=['indicator', 'cohort'])"
   ]
  },
  {
   "cell_type": "code",
   "execution_count": null,
   "id": "2595b598",
   "metadata": {},
   "outputs": [],
   "source": [
    "final = pd.read_csv(path+'/inference/inference_final_data.csv')\n",
    "final = final.assign(cohort=11)\n",
    "final.rename(columns={'60':'P60','90':'P90','120':'P120','150':'P150'}, inplace=True)\n",
    "\n",
    "final['label'] = np.where(final.event==1, 'Event','Censor')\n",
    "final['event_temporal']=np.where((final.TTE>=0) & (final.TTE<=90),final.event, 0)\n",
    "final['label_temporal']=np.where(final.event_temporal==1, 'Event','Censor')\n",
    "\n",
    "final = final.merge(cohort)\n",
    "final.head()"
   ]
  },
  {
   "cell_type": "markdown",
   "id": "d657cb9c",
   "metadata": {},
   "source": [
    "# Description of Training Date"
   ]
  },
  {
   "cell_type": "code",
   "execution_count": null,
   "id": "1701fe65",
   "metadata": {},
   "outputs": [],
   "source": [
    "agg = df.groupby('indicator',as_index=False).chai_patient_id.nunique().sort_values('chai_patient_id',ascending=True)\n",
    "agg['share'] = round(agg.chai_patient_id/agg.chai_patient_id.sum()*100,2)\n",
    "\n",
    "fig, ax = plt.subplots(nrows=1, ncols=2, figsize=(12,6))\n",
    "\n",
    "ax[0].barh(agg.indicator, agg.chai_patient_id)\n",
    "ax[0].set_title('Unique Patients By Cancer Indicator')\n",
    "ax[0].set_xlabel('Unique Patients (#)')\n",
    "\n",
    "ax[1].barh(agg.indicator, agg.share)\n",
    "ax[1].set_title('Share of Unique Patients By Cancer Indicator')\n",
    "ax[1].set_xlabel('Share of Unique Patients (%)')\n",
    "\n",
    "plt.tight_layout(pad=.5)\n",
    "plt.savefig(f'{path}/inference/cohort_count.png')\n",
    "plt.show()"
   ]
  },
  {
   "cell_type": "code",
   "execution_count": null,
   "id": "7b9ee845",
   "metadata": {},
   "outputs": [],
   "source": [
    "## High Frequency cancers \n",
    "high = df[df.indicator.isin(agg[agg.share>=5].indicator)]\n",
    "high.shape"
   ]
  },
  {
   "cell_type": "code",
   "execution_count": null,
   "id": "261d6fc8",
   "metadata": {},
   "outputs": [],
   "source": [
    "fig, ax = plt.subplots(1, 2, figsize=(18, 9) )\n",
    "fig.suptitle('Distributions of Patient Journey')\n",
    "\n",
    "sns.boxplot(x = 'indicator', \n",
    "            y = 'duration', \n",
    "            hue = 'label', \n",
    "            data = high, \n",
    "            palette = 'Set2', \n",
    "            ax=ax[0],\n",
    "            showfliers=False).set(title='Distribution of Duration between LOT Index and End Point')\n",
    "sns.boxplot(x = 'indicator', \n",
    "            y = 'TTE', \n",
    "            hue = 'label', \n",
    "            data = high, \n",
    "            palette = 'Set2', \n",
    "            ax=ax[1],\n",
    "            showfliers=False).set(title='Distribution of Duration between Random Observation Point and End Point')\n",
    "\n",
    "plt.savefig(f'{path}/inference/Duration_TTE_Distribution.png')\n",
    "plt.show()"
   ]
  },
  {
   "cell_type": "raw",
   "id": "faa5dec5",
   "metadata": {},
   "source": [
    "sns.set_theme(rc={'figure.figsize':(12,6)})\n",
    "sns.boxplot(x = 'indicator', \n",
    "            y = 'duration', \n",
    "            hue = 'label', \n",
    "            data = high, \n",
    "            palette = 'Set2', \n",
    "            showfliers=False).set(title='Distribution of Duration between LOT Index and End Point')\n",
    "plt.show()"
   ]
  },
  {
   "cell_type": "raw",
   "id": "934064c1",
   "metadata": {},
   "source": [
    "sns.set_theme(rc={'figure.figsize':(12,6)})\n",
    "sns.boxplot(x = 'indicator', \n",
    "            y = 'TTE', \n",
    "            hue = 'label', \n",
    "            data = high, \n",
    "            palette = 'Set2', \n",
    "            showfliers=False).set(title='Distribution of Duration between Random Observation Point and End Point')\n",
    "plt.show()"
   ]
  },
  {
   "cell_type": "markdown",
   "id": "11bd013b",
   "metadata": {},
   "source": [
    "# Description of Predicted Probability "
   ]
  },
  {
   "cell_type": "code",
   "execution_count": null,
   "id": "e9d2d447",
   "metadata": {
    "tags": []
   },
   "outputs": [],
   "source": [
    "agg1 = final.groupby('indicator',as_index=False).chai_patient_id.nunique().sort_values(by='chai_patient_id',ascending=False)\n",
    "agg1['share'] = agg1['chai_patient_id']/agg1['chai_patient_id'].sum()\n",
    "agg1"
   ]
  },
  {
   "cell_type": "code",
   "execution_count": null,
   "id": "798ef349",
   "metadata": {},
   "outputs": [],
   "source": [
    "sns.set_theme(rc={'figure.figsize':(15,6)})\n",
    "sns.boxplot(x = 'indicator', \n",
    "            y = 'P90', \n",
    "            hue = 'label', \n",
    "            data = final, \n",
    "            palette = 'Set2', \n",
    "            showfliers=False).set(title='Predicted Probability Distribution over 90 Days by Indicator')\n",
    "\n",
    "plt.savefig(f'{path}/inference/Pred_prob_distribution_90_indicator.png')\n",
    "plt.show()"
   ]
  },
  {
   "cell_type": "code",
   "execution_count": null,
   "id": "51c6e231",
   "metadata": {},
   "outputs": [],
   "source": [
    "sns.set_theme(rc={'figure.figsize':(15,6)})\n",
    "sns.boxplot(x = 'indicator', \n",
    "            y = 'P90', \n",
    "            hue = 'label_temporal', \n",
    "            data = final, \n",
    "            palette = 'Set2', \n",
    "            showfliers=False).set(title='Temporal Validation Based on 90-Day Predicted Probability')\n",
    "\n",
    "plt.savefig(f'{path}/inference/Temporal_val_pred_prob_distribution_90.png')\n",
    "plt.show()"
   ]
  },
  {
   "cell_type": "code",
   "execution_count": null,
   "id": "61854842-3ea6-4c00-b943-544abf013d9e",
   "metadata": {},
   "outputs": [],
   "source": [
    "final.head()"
   ]
  },
  {
   "cell_type": "code",
   "execution_count": null,
   "id": "97ada5d4-270b-4c78-b455-717dd59ff187",
   "metadata": {},
   "outputs": [],
   "source": [
    "final[(final['label']=='Event') & (final['indicator']=='Lung')]['P90'].describe()"
   ]
  },
  {
   "cell_type": "code",
   "execution_count": null,
   "id": "3fb2a947-2cea-4acb-9ca1-853c1f5d7940",
   "metadata": {},
   "outputs": [],
   "source": [
    "final[(final['label']=='Censor') & (final['indicator']=='Lung')]['P90'].describe()"
   ]
  },
  {
   "cell_type": "raw",
   "id": "547cd081",
   "metadata": {},
   "source": [
    "import pickle\n",
    "import joblib\n",
    "\n",
    "with open(path+'/model_03_12_2024.pkl','rb') as f:\n",
    "    xgbse_model = pickle.load(f) \n",
    "\n",
    "event_prob = 1-xgbse_model.predict(X)\n",
    "final_data = pd.concat([final_data,event_prob],axis=1)\n",
    "final_data.shape"
   ]
  },
  {
   "cell_type": "code",
   "execution_count": null,
   "id": "97479be6",
   "metadata": {},
   "outputs": [],
   "source": [
    "def getF1(df):\n",
    "    f1 = pd.DataFrame(columns=['th','precision','recall'])\n",
    "    for th in range(0, 100, 1):\n",
    "        tmp = df[['chai_patient_id','event','event_temporal','P90']]\n",
    "        tmp['pred_class'] = np.where(tmp.P90>=th/100, 1, 0)\n",
    "        tmp['actual_class'] = tmp.event_temporal\n",
    "        f1 = f1.append({'th':th, \n",
    "                        'precision':precision_score(tmp.actual_class, tmp.pred_class),#, average='binary'),\n",
    "                        'recall':recall_score(tmp.actual_class, tmp.pred_class),#, average='weighted'),\n",
    "                        'f1':f1_score(tmp.actual_class, tmp.pred_class)},#, average = 'weighted')}, \n",
    "                       ignore_index=True)\n",
    "    return f1"
   ]
  },
  {
   "cell_type": "code",
   "execution_count": null,
   "id": "d0e299aa",
   "metadata": {
    "tags": []
   },
   "outputs": [],
   "source": [
    "index = 0\n",
    "for cancer in ['MDS']:\n",
    "# for cancer in ['Lung']:    \n",
    "    tmp = final[final.indicator==cancer]\n",
    "    tmp['quantile'] = pd.qcut(tmp['P90'],q = 4, labels = False,duplicates='drop')\n",
    "    \n",
    "    ## Ranges per quantile\n",
    "    probs = pd.DataFrame(columns=['indicator','quantile','min_prob','max_prob'])\n",
    "    for qt in [0,1,2,3]:\n",
    "        probs = probs.append({'indicator':cancer,\n",
    "                              'quantile':qt,\n",
    "                              'min_prob':tmp[tmp['quantile']==qt].P90.min(),\n",
    "                              'max_prob':tmp[tmp['quantile']==qt].P90.max()\n",
    "                             },ignore_index=True)\n",
    "        \n",
    "    ## Actual cases captured per quantile\n",
    "    quint           = tmp[tmp.event_temporal==1].groupby(['indicator','quantile'],as_index=False).chai_patient_id.nunique()\n",
    "    quint['actual'] = tmp[tmp.event_temporal==1].chai_patient_id.nunique()\n",
    "    quint['total']  = tmp.chai_patient_id.nunique()\n",
    "    quint.columns   = ['indicator','quantile','actual_quantile','actual','total']\n",
    "    quint['share']  = quint.actual_quantile/quint.actual\n",
    "    quint['pareto'] = quint[\"actual_quantile\"].cumsum()/quint[\"actual_quantile\"].sum()\n",
    "    \n",
    "    ## merge \n",
    "    if index>0:\n",
    "        out = out.append(probs.merge(quint, on = ['indicator','quantile']), ignore_index=True)\n",
    "        index += 1\n",
    "    else:\n",
    "        out = probs.merge(quint, on = ['indicator','quantile'])\n",
    "        index += 1\n",
    "        \n",
    "    mrg = probs.merge(quint, on = ['indicator','quantile'])\n",
    "    mrg['Q'] = 'Q'+mrg['quantile'].astype(str)+': ('+round(mrg.min_prob*100,2).astype(str)+'%, '+round(mrg.max_prob*100,2).astype(str)+'%)'\n",
    "    \n",
    "    ## Fetch F1, precision recall\n",
    "    f1 = getF1(tmp)\n",
    "    \n",
    "    ## Get AUC data \n",
    "    auc = roc_auc_score(tmp['event_temporal'], tmp['P90'])\n",
    "    fpr, tpr, _ = metrics.roc_curve(tmp['event_temporal'], tmp['P90'])\n",
    "    \n",
    "    ## Precision and recall\n",
    "    precision, recall, thresholds = precision_recall_curve(tmp['event_temporal'], tmp['P90'],pos_label=1)\n",
    "    \n",
    "    ## Plot reports \n",
    "    fig, ax = plt.subplots(2, 2, figsize=(18, 9) )\n",
    "    fig.suptitle('Temporal Validation of Pan Solid Model: '+cancer)\n",
    "    fig.tight_layout(pad = 2)\n",
    "    \n",
    "    ## Plot ROC\n",
    "    ax[0,0].plot(fpr,tpr,label=\"data 1, auc=\"+str(round(auc,2)))\n",
    "    ax[0,0].legend(loc=4)\n",
    "    ax[0,0].set_xlabel('FPR', fontsize=8)\n",
    "    ax[0,0].set_ylabel('TPR', fontsize=8)\n",
    "    ax[0,0].legend(loc=4)\n",
    "    ax[0,0].set_title('AUC', fontsize=10)\n",
    "\n",
    "    ## Plot F1/Precision/Recall w.r.t Threshold\n",
    "    ax[0,1].plot(f1.th, f1.precision,label='Precision')\n",
    "    ax[0,1].plot(f1.th, f1.recall,label='Recall')\n",
    "    ax[0,1].plot(f1.th, f1.f1,label='F1')\n",
    "    ax[0,1].legend(loc=4)\n",
    "    ax[0,1].set_xlabel('Threshold', fontsize=8)\n",
    "    ax[0,1].set_ylabel('F1/Precision/Recall', fontsize=8)\n",
    "    ax[0,1].set_title('F1/Precision/Recall', fontsize=10)\n",
    "    ax[0,1].legend(loc=4)\n",
    "    \n",
    "    ## Plot PRC\n",
    "    ax[1,0].plot(recall, precision)\n",
    "    ax[1,0].set_xlabel('Recall', fontsize=8)\n",
    "    ax[1,0].set_ylabel('Precision', fontsize=8)\n",
    "    ax[1,0].set_title('PRC', fontsize=10)\n",
    "    ax[1,0].axvline(0.5,linestyle='--')\n",
    "    ax[1,0].axhline(0.5,linestyle='--')\n",
    "    \n",
    "    ## Plot Share of actual cases per quantile\n",
    "    ax[1,1].bar(mrg.Q, mrg.share*100)\n",
    "    ax[1,1].set_xlabel('Quantile of P90', fontsize=8)\n",
    "    ax[1,1].set_ylabel('Share of Actual Cases (%)', fontsize=8)\n",
    "    ax[1,1].set_title('Share of Actual Cases By Quantile')\n",
    "    \n",
    "    fig.savefig(f'{path}/inference/Temporal Validation of Liquid Model: {cancer}.png')\n",
    "    \n",
    "out = out.sort_values(['total','indicator'], ascending=False)"
   ]
  },
  {
   "cell_type": "code",
   "execution_count": null,
   "id": "4b6862e5-5789-49d7-bf06-f550c5975e19",
   "metadata": {},
   "outputs": [],
   "source": [
    "final"
   ]
  },
  {
   "cell_type": "code",
   "execution_count": null,
   "id": "1748325e-6ebe-4b2a-bc4b-8783498892a0",
   "metadata": {},
   "outputs": [],
   "source": [
    "def plot_stacked_bar_chart(df, location, cuts = 10):\n",
    "    df['rank']     = df['P90'].rank(method='first')\n",
    "    df['decile']   = pd.qcut(df['rank'],q = cuts, labels = False)\n",
    "    n = tmp.shape[0]\n",
    "    \n",
    "    ## Compute percentile clusters \n",
    "    prc_d = df.groupby(['decile','event_temporal'],\n",
    "                    as_index=False).chai_patient_id.nunique().pivot_table(values = 'chai_patient_id',\n",
    "                                                                          index=['decile'], \n",
    "                                                                          columns = 'event_temporal').reset_index()\n",
    "    ## Plot decile plot\n",
    "    prc_d.columns = ['decile','Censor_abs','Event_abs']\n",
    "    prc_d['total']= prc_d[['Censor_abs','Event_abs']].sum(axis=1)\n",
    "    prc_d['Censor'] = prc_d.Censor_abs/prc_d.total\n",
    "    prc_d['Event'] = prc_d.Event_abs/prc_d.total\n",
    "\n",
    "    prc_d[['Event','Censor']].plot(kind='bar', \n",
    "                                   stacked=True, \n",
    "                                   ax = ax[location],\n",
    "                                   colormap='tab20c'#, \n",
    "                                   #figsize=(15, 6)\n",
    "                                  )\n",
    "    ax[location].legend(loc=\"upper left\", ncol=2)\n",
    "    ax[location].set_xlabel(\"Decile\")\n",
    "    ax[location].set_ylabel(\"Share of Patients (%)\")\n",
    "    ax[location].set_title('Share of Actual Cases By '+str(cuts)+' groups of Predicted Probability')\n",
    "    \n",
    "    for n, x in enumerate([*prc_d[['Event','Censor']].index.values]):\n",
    "        for (proportion, count, y_loc) in zip(prc_d[['Event','Censor']].loc[x],\n",
    "                                              prc_d[['Event','Censor']].loc[x],\n",
    "                                              prc_d[['Event','Censor']].loc[x].cumsum()):\n",
    "            ax[location].text(x=n - 0.05,\n",
    "                              y=(y_loc - proportion) + (proportion / 2),\n",
    "                              s=f'({np.round(proportion * 100, 1)}%)',\n",
    "                              color=\"black\",\n",
    "                              rotation=90, \n",
    "                              rotation_mode='anchor',\n",
    "                              fontsize=10)#,\n",
    "        #fontweight=\"bold\")"
   ]
  },
  {
   "cell_type": "code",
   "execution_count": null,
   "id": "5ecb7901-d575-47f6-9558-49aa4892056b",
   "metadata": {},
   "outputs": [],
   "source": [
    "for cancer in ['MDS']:\n",
    "    tmp = final[final.indicator==cancer]\n",
    "    n   = tmp.shape[0]\n",
    "    ## Plot\n",
    "    fig, ax = plt.subplot_mosaic([['left', 'right'],['middle', 'middle'],['bottom','bottom']],\n",
    "                              constrained_layout=True, figsize=(15,15))    \n",
    "    \n",
    "    \n",
    "    fig.suptitle('Temporal Validation of Pan Solid Model: '+cancer+', N = '+str(n))\n",
    "    fig.tight_layout(pad = 3)\n",
    "    \n",
    "    ## Plot AUC\n",
    "    auc = roc_auc_score(tmp['event_temporal'], tmp['P90'])\n",
    "#    fpr, tpr, _ = metrics.roc_curve(tmp['event'], tmp['P90'])\n",
    "    \n",
    "#    ax['left'].plot(fpr,tpr,label=\"auc=\"+str(round(auc,2)))\n",
    "#    ax['left'].set_xlabel('FPR', fontsize=8)\n",
    "#    ax['left'].set_ylabel('TPR', fontsize=8)\n",
    "#    ax['left'].legend(loc=4)\n",
    "#    ax['left'].set_title('AUC', fontsize=10)\n",
    "    \n",
    "    ## Plot KDE plot\n",
    "    sns.kdeplot(data        = tmp, \n",
    "                x           = 'P90', \n",
    "                hue         = 'label_temporal',\n",
    "                fill        = True,\n",
    "                common_norm = False, \n",
    "                alpha       = 0.5,\n",
    "                ax          = ax['left']\n",
    "               )\n",
    "    ax['left'].set_xlabel('Predicted 90 Day Probability of Patient Availability', fontsize=8)\n",
    "    ax['left'].set_ylabel('Probability Density', fontsize=8)\n",
    "    ax['left'].legend(loc=4)\n",
    "    ax['left'].set_title('90 day Predicted Probability', fontsize=10)\n",
    "\n",
    "    ## Plot PRC\n",
    "    precision, recall, thresholds = precision_recall_curve(tmp['event_temporal'], tmp['P90'])\n",
    "    ax['right'].plot(recall, precision,label=\"AP=\"+str(round(auc,2)))\n",
    "    ax['right'].legend(loc=4)\n",
    "    ax['right'].set_xlabel('Recall', fontsize=8)\n",
    "    ax['right'].set_ylabel('Precision', fontsize=8)\n",
    "    ax['right'].set_title('PRC', fontsize=10)\n",
    "    ax['right'].axvline(0.5,linestyle='--')\n",
    "    ax['right'].axhline(0.5,linestyle='--')\n",
    "    \n",
    "    ## Precision/Recall by Decile\n",
    "    plot_stacked_bar_chart(tmp, cuts=10, location = 'middle')\n",
    "    \n",
    "    ## Precision / Recall by 5th percentile\n",
    "    plot_stacked_bar_chart(tmp, cuts=20, location = 'bottom')\n",
    "    fig.savefig(f'{path}/inference/Temporal Validation of Liquid Model Decile: {cancer}.png')\n",
    "    plt.show()"
   ]
  },
  {
   "cell_type": "code",
   "execution_count": null,
   "id": "04cbede0-7875-4a61-b8ab-364a92eae168",
   "metadata": {},
   "outputs": [],
   "source": [
    "tmp[tmp['event_temporal']==0]['P90'].hist(bins=100)\n",
    "tmp[tmp['event_temporal']==1]['P90'].hist(bins=100)"
   ]
  },
  {
   "cell_type": "code",
   "execution_count": null,
   "id": "fe32d82a-5692-411c-bbba-84e0e077c62d",
   "metadata": {},
   "outputs": [],
   "source": [
    "tmp['event'].value_counts()"
   ]
  },
  {
   "cell_type": "code",
   "execution_count": null,
   "id": "c900e00a-ab71-4211-bc03-5deac7b59615",
   "metadata": {},
   "outputs": [],
   "source": [
    "tmp['event_temporal'].value_counts()"
   ]
  },
  {
   "cell_type": "code",
   "execution_count": null,
   "id": "9d26b2fb-d710-4a36-a0ce-363c785ea7f1",
   "metadata": {},
   "outputs": [],
   "source": []
  }
 ],
 "metadata": {
  "kernelspec": {
   "display_name": "Python 3 (ipykernel)",
   "language": "python",
   "name": "python3"
  },
  "language_info": {
   "codemirror_mode": {
    "name": "ipython",
    "version": 3
   },
   "file_extension": ".py",
   "mimetype": "text/x-python",
   "name": "python",
   "nbconvert_exporter": "python",
   "pygments_lexer": "ipython3",
   "version": "3.8.12"
  }
 },
 "nbformat": 4,
 "nbformat_minor": 5
}
